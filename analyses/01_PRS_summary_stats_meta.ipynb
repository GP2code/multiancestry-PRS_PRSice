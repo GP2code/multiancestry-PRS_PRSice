{
 "cells": [
  {
   "cell_type": "markdown",
   "id": "2a244d03-81af-47e1-94df-6eb1fc5a3566",
   "metadata": {},
   "source": [
    "# Generating Multi-ancestry Base Data\n",
    "- **Project:** Multi-ancestry PRS\n",
    "- **Version:** Python/3.9\n",
    "- **Status:** COMPLETE\n",
    "- **Last Updated:** 16-NOV-2023\n",
    "\n",
    "## Notebook Overview\n",
    "- Generate metaGWAS - summary statistics for EAS (Foo + 23andMe)\n",
    "- Generate metaGWAS - summary statistics for AMR (Loesch + 23andMe)"
   ]
  },
  {
   "cell_type": "markdown",
   "id": "9897f135-8ee8-412c-8089-348c352be9ed",
   "metadata": {
    "tags": []
   },
   "source": [
    "## Generate metaGWAS - summary statistics for EAS (Foo + 23andMe)"
   ]
  },
  {
   "cell_type": "code",
   "execution_count": null,
   "id": "c1f3c722-14e4-4b32-a99b-50f4efa4e8f5",
   "metadata": {
    "tags": []
   },
   "outputs": [],
   "source": [
    "## switch kernel to bash\n",
    "cd ${WORK_DIR}"
   ]
  },
  {
   "cell_type": "code",
   "execution_count": null,
   "id": "09e27a1f-affe-4085-ad5c-d697efbc3cff",
   "metadata": {
    "tags": []
   },
   "outputs": [],
   "source": [
    "## switch kernel to R\n",
    "## Extract 90 SNPs from Foo et al. \n",
    "library(data.table)\n",
    "sumstats <- fread(\"{WORK_DIR}/summary_stats/asian_GWAS/6724PDcases-24851controls-5843213snps-summary-stats-metaP-SE.txt\", header =T)\n",
    "SNPs <- fread(\"{WORK_DIR}/summary_stats/asian_GWAS/90riskloci.txt\", header =T)\n",
    "total <- merge(sumstats, SNPs, by=\"BP\")\n",
    "head(total)\n",
    "outPut <- total[,c(\"SNP.y\",\"BETA\", \"SE\", \"P\", \"A1\", \"A2\")]\n",
    "write.table(outPut, file = \"{WORK_DIR}/Foo_90riskloci.txt\", quote = F, row.names = F, sep = \"\\t\")\n",
    "## 69 risk SNPs"
   ]
  },
  {
   "cell_type": "code",
   "execution_count": null,
   "id": "d56e384b-cc37-49a8-8f07-8efc4569fa71",
   "metadata": {
    "tags": []
   },
   "outputs": [],
   "source": [
    "## Extract 90 SNPs from 23andMe EAS\n",
    "library(data.table)\n",
    "sumstats <- fread(\"{WORK_DIR}/summary_stats/23andMe/RISK/filtered_sumstats_23andme_EASTASIAN_PD.hg19.txt\", header =T)\n",
    "SNPs <- fread(\"{WORK_DIR}/summary_stats/asian_GWAS/90riskloci.txt\", header =T)\n",
    "names(SNPs)[3] <- \"position\"\n",
    "total <- merge(sumstats, SNPs, by=\"position\")\n",
    "head(total)\n",
    "outPut <- total[,c(\"SNP\",\"effect\", \"stderr\", \"pvalue\", \"effect_allele\", \"alt_allele\")]\n",
    "write.table(outPut, file = \"{WORK_DIR}/23andMe_90riskloci.txt\", quote = F, row.names = F, sep = \"\\t\")"
   ]
  },
  {
   "cell_type": "code",
   "execution_count": null,
   "id": "f547f29d-ef03-4fbd-a7f0-9be2263bffd7",
   "metadata": {
    "tags": []
   },
   "outputs": [],
   "source": [
    "## Load METAL for meta-analysis\n",
    "module load metal"
   ]
  },
  {
   "cell_type": "code",
   "execution_count": null,
   "id": "66119da7-79a6-4781-99e6-d85d83b559ff",
   "metadata": {
    "tags": []
   },
   "outputs": [],
   "source": [
    "## switch kernel to bash\n",
    "## Now meta-analyze\n",
    "metal\n",
    "# UNCOMMENT THE NEXT LINE TO ENABLE GenomicControl CORRECTION\n",
    "SCHEME STDERR\n",
    "GENOMICCONTROL ON\n",
    "\n",
    "# === DESCRIBE AND PROCESS THE FIRST INPUT FILE ===\n",
    "MARKER SNP.y\n",
    "ALLELE A1 A2\n",
    "EFFECT BETA\n",
    "STDERR SE\n",
    "PVALUE P\n",
    "PROCESS Foo_90riskloci.txt\n",
    "\n",
    "# === DESCRIBE AND PROCESS THE SECOND INPUT FILE ===\n",
    "MARKER SNP\n",
    "ALLELE effect_allele alt_allele\n",
    "EFFECT effect\n",
    "STDERR stderr\n",
    "PVALUE pvalue\n",
    "PROCESS 23andMe_90riskloci.txt\n",
    "\n",
    "OUTFILE ASIAN .tbl\n",
    "ANALYZE HETEROGENEITY\n",
    "QUIT"
   ]
  },
  {
   "cell_type": "code",
   "execution_count": null,
   "id": "0ab89258-6181-4dae-a551-d7104485a0ab",
   "metadata": {},
   "outputs": [],
   "source": [
    "###########################################################################\n",
    "## Running second pass analysis to evaluate heterogeneity...\n",
    "## Processing file '23andMe_90riskloci.txt'\n",
    "## Processing file 'Foo_90riskloci.txt'\n",
    "\n",
    "###########################################################################\n",
    "## Executing meta-analysis ...\n",
    "## Complete results will be stored in file 'ASIAN1.tbl'\n",
    "## Column descriptions will be stored in file 'ASIAN1.tbl.info'\n",
    "## Completed meta-analysis for 84 markers!\n",
    "## Smallest p-value is 0.0001245 at marker 'rs356182'"
   ]
  },
  {
   "cell_type": "code",
   "execution_count": null,
   "id": "de1ed4ab-8b4b-4a52-b329-7e08fe2964ff",
   "metadata": {
    "tags": []
   },
   "outputs": [],
   "source": [
    "## Remove SNPs only present in one of the datasets\n",
    "cd ${WORK_DIR}\n",
    "grep -v \"?\" ASIAN1.tbl > temp"
   ]
  },
  {
   "cell_type": "code",
   "execution_count": null,
   "id": "a376de2b-90d9-4bb7-a3c6-0e29c655865c",
   "metadata": {
    "tags": []
   },
   "outputs": [],
   "source": [
    "## switch kernel to R\n",
    "## Now convert all to hg38\n",
    "library(data.table)\n",
    "sumstats <- fread(\"{WORK_DIR}/temp\", header =T)\n",
    "SNPs <- fread(\"{WORK_DIR}/summary_stats/asian_GWAS/90riskloci_38.txt\", header =T)\n",
    "names(SNPs)[1] <- \"MarkerName\"\n",
    "total <- merge(sumstats, SNPs, by=\"MarkerName\")\n",
    "total$A1cap <- toupper(total$Allele1)\n",
    "outPut <- total[,c(\"markerID\",\"A1cap\", \"Effect\")]\n",
    "write.table(outPut, file = \"{WORK_DIR}/META_FOO_23ANDME_90LOCI_EASTASIAN_CHR_POS.txt\", quote = F, col.names = FALSE, row.names = F, sep = \"\\t\")"
   ]
  },
  {
   "cell_type": "markdown",
   "id": "64944ddc-cdb0-406d-a82e-5230b64accaa",
   "metadata": {},
   "source": [
    "## Generate metaGWAS - summary statistics for AMR (Loesch + 23andMe)"
   ]
  },
  {
   "cell_type": "code",
   "execution_count": null,
   "id": "bb5f2cee-9bff-433b-957f-5cbf6c738097",
   "metadata": {
    "tags": []
   },
   "outputs": [],
   "source": [
    "## Extract 90 SNPs from Loesch et al. \n",
    "library(data.table)\n",
    "sumstats <- fread(\"{WORK_DIR}/Loesch_et_al_2021_Latam_no23andme_hg38.txt\", header =T)\n",
    "SNPs <- fread(\"${WORK_DIR}/summary_stats/asian_GWAS/90riskloci_38.txt\", header =T)\n",
    "names(sumstats)[4] <- \"BP\"\n",
    "total <- merge(sumstats, SNPs, by=\"BP\")\n",
    "total$SE <- total$beta/total$Score\n",
    "head(total)\n",
    "outPut <- total[,c(\"markerID\",\"beta\", \"SE\", \"Score.pval\", \"ref\", \"alt\")]\n",
    "write.table(outPut, file = \"{WORK_DIR}/Loesch_90riskloci.txt\", quote = F, row.names = F, sep = \"\\t\")"
   ]
  },
  {
   "cell_type": "code",
   "execution_count": null,
   "id": "fad14d9f-17c2-4437-94bf-4b4b699cd665",
   "metadata": {
    "tags": []
   },
   "outputs": [],
   "source": [
    "## Extract 90 SNPs from 23andMe LATINO\n",
    "library(data.table)\n",
    "sumstats <- fread(\"{WORK_DIR}/summary_stats/23andMe/RISK/filtered_sumstats_23andme_LATINO_PD.txt\", header =T)\n",
    "SNPs <- fread(\"{WORK_DIR}/summary_stats/asian_GWAS/90riskloci_38.txt\", header =T)\n",
    "names(SNPs)[3] <- \"position\"\n",
    "total <- merge(sumstats, SNPs, by=\"position\")\n",
    "head(total)\n",
    "outPut <- total[,c(\"markerID\",\"effect\", \"stderr\", \"pvalue\", \"effect_allele\", \"alt_allele\")]\n",
    "write.table(outPut, file = \"{WORK_DIR}/23andMe_90riskloci.txt\", quote = F, row.names = F, sep = \"\\t\")"
   ]
  },
  {
   "cell_type": "code",
   "execution_count": null,
   "id": "40e57f13-c8d8-4f99-a783-f5b96cbad268",
   "metadata": {
    "tags": []
   },
   "outputs": [],
   "source": [
    "## switch kernel to bash\n",
    "## Now meta-analyze\n",
    "metal\n",
    "# UNCOMMENT THE NEXT LINE TO ENABLE GenomicControl CORRECTION\n",
    "SCHEME STDERR\n",
    "GENOMICCONTROL ON\n",
    "\n",
    "# === DESCRIBE AND PROCESS THE FIRST INPUT FILE ===\n",
    "MARKER markerID\n",
    "ALLELE ref alt\n",
    "EFFECT beta\n",
    "STDERR SE\n",
    "PVALUE Score.pval\n",
    "PROCESS Loesch_90riskloci.txt\n",
    "\n",
    "# === DESCRIBE AND PROCESS THE SECOND INPUT FILE ===\n",
    "MARKER markerID\n",
    "ALLELE effect_allele alt_allele\n",
    "EFFECT effect\n",
    "STDERR stderr\n",
    "PVALUE pvalue\n",
    "PROCESS 23andMe_90riskloci.txt\n",
    "\n",
    "OUTFILE LATINO .tbl\n",
    "ANALYZE HETEROGENEITY\n",
    "\n",
    "QUIT"
   ]
  },
  {
   "cell_type": "code",
   "execution_count": null,
   "id": "b835e796-2047-4c10-972b-39bc60e09a1f",
   "metadata": {},
   "outputs": [],
   "source": [
    "###########################################################################\n",
    "## Running second pass analysis to evaluate heterogeneity...\n",
    "## Processing file '23andMe_90riskloci.txt'\n",
    "## Processing file 'Loesch_90riskloci.txt'\n",
    "\n",
    "###########################################################################\n",
    "## Executing meta-analysis ...\n",
    "## Complete results will be stored in file 'LATINO1.tbl'\n",
    "## Column descriptions will be stored in file 'LATINO1.tbl.info'\n",
    "## Completed meta-analysis for 87 markers!\n",
    "## Smallest p-value is 0.02353 at marker '12:122842051'"
   ]
  },
  {
   "cell_type": "code",
   "execution_count": null,
   "id": "e3d1326e-5e7f-4c84-9a23-25950dd6f193",
   "metadata": {
    "tags": []
   },
   "outputs": [],
   "source": [
    "## Remove SNPs only present in one of the datasets\n",
    "cd ${WORK_DIR}\n",
    "grep -v \"?\" LATINO1.tbl > temp2"
   ]
  },
  {
   "cell_type": "code",
   "execution_count": null,
   "id": "cf284314-e805-4faf-a7c5-a00874bbbd50",
   "metadata": {
    "tags": []
   },
   "outputs": [],
   "source": [
    "## switch kernel to R\n",
    "## Now extract columns for score file\n",
    "library(data.table)\n",
    "sumstats <- fread(\"{WORK_DIR}/temp2\", header =T)\n",
    "sumstats$A1cap <- toupper(sumstats$Allele1)\n",
    "outPut <- sumstats[,c(\"MarkerName\",\"A1cap\", \"Effect\")]\n",
    "write.table(outPut, file = \"{WORK_DIR}/META_LOESCH_23ANDME_90LOCI_LATINO_CHR_POS.txt\", quote = F, col.names = FALSE, row.names = F, sep = \"\\t\")"
   ]
  },
  {
   "cell_type": "code",
   "execution_count": null,
   "id": "16998d53-036b-47d1-88be-f2819d4d6a74",
   "metadata": {
    "tags": []
   },
   "outputs": [],
   "source": [
    "## Make output directories and organize files\n",
    "mkdir ${WORK_DIR}/relatedness/\n",
    "mkdir ${WORK_DIR}/meta/\n",
    "mkdir ${WORK_DIR}/scores/"
   ]
  },
  {
   "cell_type": "code",
   "execution_count": null,
   "id": "aca8ea2c-f49b-46e8-8292-5275eafba9b8",
   "metadata": {
    "tags": []
   },
   "outputs": [],
   "source": [
    "cd ${WORK_DIR}\n",
    "mv *_related relatedness/\n",
    "mv toextract* relatedness/\n",
    "mv release5_* relatedness/\n",
    "mv META_* meta/\n",
    "mv ASIAN* meta/\n",
    "mv LATINO* meta/\n",
    "mv *riskloci.txt scores/\n",
    "rm temp\n",
    "rm temp2"
   ]
  }
 ],
 "metadata": {
  "kernelspec": {
   "display_name": "Bash",
   "language": "bash",
   "name": "bash"
  },
  "language_info": {
   "codemirror_mode": "shell",
   "file_extension": ".sh",
   "mimetype": "text/x-sh",
   "name": "bash"
  }
 },
 "nbformat": 4,
 "nbformat_minor": 5
}
