{
 "cells": [
  {
   "cell_type": "markdown",
   "id": "afb4a316-eef2-434a-8658-e91e32a2391f",
   "metadata": {},
   "source": [
    "# Estimate SNPs contributing the most to PRS\n",
    "- **Project:** Multi-ancestry PRS\n",
    "- **Version:** Python/3.9\n",
    "- **Status:** COMPLETE\n",
    "- **Last Updated:** 14-APRIL-2024\n",
    "\n",
    "## Notebook Overview\n",
    "- Identifying key SNPs driving PRS prediction"
   ]
  },
  {
   "cell_type": "code",
   "execution_count": 35,
   "id": "9a67f0a1-47b4-48f8-8c41-e93c27e0518a",
   "metadata": {
    "tags": []
   },
   "outputs": [
    {
     "name": "stdout",
     "output_type": "stream",
     "text": [
      "PACKAGE VERSIONS (16-APR-2024)\n",
      "\tmatplotlib==3.7.2\n",
      "\tnumpy==1.24.4\n",
      "\tpandas==2.0.3\n",
      "\tscikit-learn==1.3.0\n",
      "\tscipy==1.11.1\n",
      "\tseaborn==0.12.2\n",
      "\tstatsmodels==0.14.0\n"
     ]
    }
   ],
   "source": [
    "## Import the necessary packages \n",
    "import os\n",
    "import numpy as np\n",
    "import pandas as pd\n",
    "import math\n",
    "import sys\n",
    "import subprocess\n",
    "import statsmodels.api as sm\n",
    "import statsmodels.formula.api as smf\n",
    "import scipy\n",
    "from scipy import stats\n",
    "from sklearn.preprocessing import StandardScaler\n",
    "import matplotlib.pyplot as plt\n",
    "import seaborn as sns\n",
    "from IPython.display import display\n",
    "import numbers\n",
    "\n",
    "## Print out package versions\n",
    "## Getting packages loaded into this notebook and their versions to allow for reproducibility\n",
    "    # Repurposed code from stackoverflow here: https://stackoverflow.com/questions/40428931/package-for-listing-version-of-packages-used-in-a-jupyter-notebook\n",
    "\n",
    "## Import packages \n",
    "import pkg_resources\n",
    "import types\n",
    "from datetime import date\n",
    "today = date.today()\n",
    "date = today.strftime(\"%d-%b-%Y\").upper()\n",
    "\n",
    "## Define function \n",
    "def get_imports():\n",
    "    for name, val in globals().items():\n",
    "        if isinstance(val, types.ModuleType):\n",
    "            # Split ensures you get root package, not just imported function\n",
    "            name = val.__name__.split(\".\")[0]\n",
    "\n",
    "        elif isinstance(val, type):\n",
    "            name = val.__module__.split(\".\")[0]\n",
    "\n",
    "        # Some packages are weird and have different imported names vs. system/pip names\n",
    "        # Unfortunately, there is no systematic way to get pip names from a package's imported name. You'll have to add exceptions to this list manually!\n",
    "        poorly_named_packages = {\n",
    "            \"PIL\": \"Pillow\",\n",
    "            \"sklearn\": \"scikit-learn\"\n",
    "        }\n",
    "        if name in poorly_named_packages.keys():\n",
    "            name = poorly_named_packages[name]\n",
    "\n",
    "        yield name\n",
    "\n",
    "## Get a list of packages imported \n",
    "imports = list(set(get_imports()))\n",
    "\n",
    "# The only way I found to get the version of the root package from only the name of the package is to cross-check the names of installed packages vs. imported packages\n",
    "requirements = []\n",
    "for m in pkg_resources.working_set:\n",
    "    if m.project_name in imports and m.project_name!=\"pip\":\n",
    "        requirements.append((m.project_name, m.version))\n",
    "\n",
    "## Print out packages and versions \n",
    "print(f\"PACKAGE VERSIONS ({date})\")\n",
    "for r in requirements:\n",
    "    print(\"\\t{}=={}\".format(*r))"
   ]
  },
  {
   "cell_type": "code",
   "execution_count": 36,
   "id": "d9c88835-a473-4bdc-af18-a1ab8f7ff554",
   "metadata": {
    "tags": []
   },
   "outputs": [],
   "source": [
    "## Make a function to convert model to dataframe of values to print out \n",
    "def results_summary_to_dataframe(results):\n",
    "    '''take the result of an statsmodel results table and transforms it into a dataframe'''\n",
    "    pvals = results.pvalues\n",
    "    coeff = results.params\n",
    "    stderr = results.bse\n",
    "    # conf_lower = results.conf_int()[0]\n",
    "    # conf_higher = results.conf_int()[1]\n",
    "\n",
    "    results_df = pd.DataFrame({\"PVAL\":pvals,\n",
    "                               \"BETA\":coeff,\n",
    "                               \"STDERR\":stderr\n",
    "                               # \"CONF_LOWER\":conf_lower,\n",
    "                               # \"CONF_HIGHER\":conf_higher\n",
    "                                })\n",
    "\n",
    "    # Calculate the odds ratios and the CIs \n",
    "    results_df['OR'] = results_df['BETA'].apply(np.exp)\n",
    "    results_df['OR-95LOWERCI'] = results_df['OR'] - 1.96 * results_df['STDERR']\n",
    "    results_df['OR-95UPPERCI'] = results_df['OR'] + 1.96 * results_df['STDERR']\n",
    "    \n",
    "    # Reordering...\n",
    "    results_df = results_df[[\"PVAL\",\"BETA\", \"STDERR\", \"OR\", \"OR-95LOWERCI\", \"OR-95UPPERCI\"]].sort_values(by = 'PVAL')\n",
    "    return results_df"
   ]
  },
  {
   "cell_type": "markdown",
   "id": "7264253e-cdbd-4d7f-9402-6b9eb959ac66",
   "metadata": {},
   "source": [
    "############# EAS #############"
   ]
  },
  {
   "cell_type": "code",
   "execution_count": null,
   "id": "db4bad4b-9e37-4850-b3b4-84360064a62d",
   "metadata": {
    "tags": []
   },
   "outputs": [],
   "source": [
    "%%bash\n",
    "\n",
    "module load plink/2.0-alpha\n",
    "\n",
    "plink2 \\\n",
    "--bfile ${WORK_DIR}/imputed_data/EAS/PRS_ALL_release6_gender \\\n",
    "--rm-dup force-first \\\n",
    "--score ${WORK_DIR}/projects/PRS_multi_ancestry_Nov2023/90LOCI_EUROPEANS_CHR_POS.txt list-variants \\\n",
    "--out ${WORK_DIR}/imputed_data/EAS/EAS-EUR90LOCI"
   ]
  },
  {
   "cell_type": "code",
   "execution_count": null,
   "id": "e0ce6ed3-3e61-4d59-981b-9b7de0b4dace",
   "metadata": {
    "tags": []
   },
   "outputs": [],
   "source": [
    "%%bash \n",
    "\n",
    "module load plink/2.0-alpha\n",
    "\n",
    "# Create transposed data with dosages\n",
    "\n",
    "plink2 \\\n",
    "--bfile ${WORK_DIR}/imputed_data/EAS/PRS_ALL_release6_gender \\\n",
    "--rm-dup force-first \\\n",
    "--extract ${WORK_DIR}/projects/PRS_multi_ancestry_Nov2023/90LOCI_EUROPEANS_CHR_POS.txt \\\n",
    "--export A --export-allele ${WORK_DIR}/90LOCI_EUROPEANS_CHR_POS.txt \\\n",
    "--out ${WORK_DIR}/imputed_data/EAS/EAS-EUR90LOCI-transpose"
   ]
  },
  {
   "cell_type": "code",
   "execution_count": null,
   "id": "a5a4bfa9-ce16-4707-9d6e-60c096b961d9",
   "metadata": {
    "tags": []
   },
   "outputs": [],
   "source": [
    "## Read in PRS\n",
    "prs_df = pd.read_csv(f\"{WORK_DIR}/imputed_data/EAS/EAS-EUR90LOCI.sscore\", delim_whitespace=True, usecols=['IID', 'SCORE1_AVG'])\n",
    "prs_df.columns=['IID','PRS']\n",
    "\n",
    "## Read in the covariate file and the transposed PLINK .raw file with dosages\n",
    "temp = pd.read_csv(f\"{WORK_DIR}/covariates.txt\", sep=\"\\t\")\n",
    "cov_df = temp.rename(columns={'GP2sampleID': 'IID'})\n",
    "transpose_df = pd.read_csv(f\"{WORK_DIR}/imputed_data/EAS/EAS-EUR90LOCI-transpose.raw\", sep='\\t').drop(columns=['FID', 'PAT', 'MAT', 'SEX'])\n",
    "\n",
    "## Merge dataframes\n",
    "merged_df1 = pd.merge(prs_df, cov_df, on=\"IID\", how=\"left\")\n",
    "merged_df2 = pd.merge(merged_df1, transpose_df, on=\"IID\", how=\"left\")\n",
    "merged_df2.head()"
   ]
  },
  {
   "cell_type": "code",
   "execution_count": 40,
   "id": "98d17e99-8377-4cac-b4cc-c1dfe9d4164b",
   "metadata": {
    "tags": []
   },
   "outputs": [],
   "source": [
    "## Recode status\n",
    "merged_df2['STATUS'] = np.where(merged_df2['PHENOTYPE']==1, \"CONTROL\", \"PD\")\n",
    "merged_df2['sex_for_qc'] = np.where(merged_df2['sex_for_qc']==1, \"Male\", \"Female\")\n",
    "\n",
    "## Aggregate the information\n",
    "pivot_df = merged_df2.loc[\n",
    "    merged_df2.STATUS.isin(['CONTROL', 'PD']),\n",
    "    ['STATUS']+list(merged_df2.columns[merged_df2.columns.str.contains(':')])\n",
    "].pivot_table(\n",
    "    index=['STATUS'],\n",
    "    aggfunc=['mean']\n",
    ").T.reset_index().drop(columns='level_0').set_index('level_1')\n",
    "\n",
    "## Calculate the frequency difference per variant between cases and controls\n",
    "pivot_df['FREQ_DIFFERENCE'] = pivot_df['PD'] - pivot_df['CONTROL']\n",
    "\n",
    "## Read in the full Nalls et al., scoring file\n",
    "scores = pd.read_csv(f\"{WORK_DIR}/90LOCI_EUROPEANS_CHR_POS.txt\", sep='\\t', header=None, names=['SNP', 'A1', 'BETA'])\n",
    "scores.index = scores['SNP'] + '_' + scores['A1']\n",
    "\n",
    "## Merge pivot table and scores file to calculate mean effect\n",
    "snp_beta_df = pd.concat([scores,pivot_df],axis=1)\n",
    "snp_beta_df['EFFECT_MEAN'] = snp_beta_df['FREQ_DIFFERENCE']*snp_beta_df['BETA']\n",
    "snp_beta_df.sort_values('EFFECT_MEAN')\n",
    "snp_beta_df.to_csv(f\"{WORK_DIR}/imputed_data/EAS/EAS_BestSNPs.csv\",sep='\\t')"
   ]
  },
  {
   "cell_type": "code",
   "execution_count": 41,
   "id": "981466e8-70a6-4482-ae46-657cee3d4121",
   "metadata": {
    "tags": []
   },
   "outputs": [
    {
     "data": {
      "image/png": "[encoded data removed]",
      "text/plain": [
       "<Figure size 640x480 with 1 Axes>"
      ]
     },
     "metadata": {},
     "output_type": "display_data"
    }
   ],
   "source": [
    "plt.hist(snp_beta_df.EFFECT_MEAN[snp_beta_df.EFFECT_MEAN<0.02], bins=10)\n",
    "plt.show()"
   ]
  },
  {
   "cell_type": "markdown",
   "id": "51162f12-dfa4-475e-9913-793a89603656",
   "metadata": {},
   "source": [
    "############# AFR #############"
   ]
  },
  {
   "cell_type": "code",
   "execution_count": null,
   "id": "939b15e0-0cb4-4a92-8503-c320cc081b83",
   "metadata": {
    "tags": []
   },
   "outputs": [],
   "source": [
    "%%bash\n",
    "\n",
    "module load plink/2.0-alpha\n",
    "\n",
    "plink2 \\\n",
    "--bfile ${WORK_DIR}/imputed_data/AFR/PRS_ALL_release6_gender \\\n",
    "--rm-dup force-first \\\n",
    "--score ${WORK_DIR}/projects/PRS_multi_ancestry_Nov2023/90LOCI_EUROPEANS_CHR_POS.txt list-variants \\\n",
    "--out ${WORK_DIR}/imputed_data/AFR/AFR-EUR90LOCI"
   ]
  },
  {
   "cell_type": "code",
   "execution_count": null,
   "id": "62fecbec-eb0b-44e5-ba0d-c30252c2bc50",
   "metadata": {
    "tags": []
   },
   "outputs": [],
   "source": [
    "%%bash \n",
    "\n",
    "module load plink/2.0-alpha\n",
    "\n",
    "# Create transposed data with dosages\n",
    "\n",
    "plink2 \\\n",
    "--bfile ${WORK_DIR}/imputed_data/AFR/PRS_ALL_release6_gender \\\n",
    "--rm-dup force-first \\\n",
    "--extract ${WORK_DIR}/projects/PRS_multi_ancestry_Nov2023/90LOCI_EUROPEANS_CHR_POS.txt \\\n",
    "--export A --export-allele ${WORK_DIR}/90LOCI_EUROPEANS_CHR_POS.txt \\\n",
    "--out ${WORK_DIR}/imputed_data/AFR/AFR-EUR90LOCI-transpose"
   ]
  },
  {
   "cell_type": "code",
   "execution_count": null,
   "id": "8c4ecaa4-f5f0-4143-91b1-d61c72e5759a",
   "metadata": {
    "tags": []
   },
   "outputs": [],
   "source": [
    "## Read in PRS\n",
    "prs_df = pd.read_csv(f\"{WORK_DIR}/imputed_data/AFR/AFR-EUR90LOCI.sscore\", delim_whitespace=True, usecols=['IID', 'SCORE1_AVG'])\n",
    "prs_df.columns=['IID','PRS']\n",
    "\n",
    "## Read in the covariate file and the transposed PLINK .raw file with dosages\n",
    "temp = pd.read_csv(f\"{WORK_DIR}/covariates.txt\", sep=\"\\t\")\n",
    "cov_df = temp.rename(columns={'GP2sampleID': 'IID'})\n",
    "transpose_df = pd.read_csv(f\"{WORK_DIR}/imputed_data/AFR/AFR-EUR90LOCI-transpose.raw\", sep='\\t').drop(columns=['FID', 'PAT', 'MAT', 'SEX'])\n",
    "\n",
    "## Merge dataframes\n",
    "merged_df1 = pd.merge(prs_df, cov_df, on=\"IID\", how=\"left\")\n",
    "merged_df2 = pd.merge(merged_df1, transpose_df, on=\"IID\", how=\"left\")\n",
    "merged_df2.head()"
   ]
  },
  {
   "cell_type": "code",
   "execution_count": 73,
   "id": "084c0444-6550-47e3-9e79-9ecbc4f1de86",
   "metadata": {
    "tags": []
   },
   "outputs": [],
   "source": [
    "## Recode status\n",
    "merged_df2['STATUS'] = np.where(merged_df2['PHENOTYPE']==1, \"CONTROL\", \"PD\")\n",
    "merged_df2['sex_for_qc'] = np.where(merged_df2['sex_for_qc']==1, \"Male\", \"Female\")\n",
    "\n",
    "## Aggregate the information\n",
    "pivot_df = merged_df2.loc[\n",
    "    merged_df2.STATUS.isin(['CONTROL', 'PD']),\n",
    "    ['STATUS']+list(merged_df2.columns[merged_df2.columns.str.contains(':')])\n",
    "].pivot_table(\n",
    "    index=['STATUS'],\n",
    "    aggfunc=['mean']\n",
    ").T.reset_index().drop(columns='level_0').set_index('level_1')\n",
    "\n",
    "## Calculate the frequency difference per variant between cases and controls\n",
    "pivot_df['FREQ_DIFFERENCE'] = pivot_df['PD'] - pivot_df['CONTROL']\n",
    "\n",
    "## Read in the full Nalls et al., scoring file\n",
    "scores = pd.read_csv(f\"{WORK_DIR}/90LOCI_EUROPEANS_CHR_POS.txt\", sep='\\t', header=None, names=['SNP', 'A1', 'BETA'])\n",
    "scores.index = scores['SNP'] + '_' + scores['A1']\n",
    "\n",
    "## Merge pivot table and scores file to calculate mean effect\n",
    "snp_beta_df = pd.concat([scores,pivot_df],axis=1)\n",
    "snp_beta_df['EFFECT_MEAN'] = snp_beta_df['FREQ_DIFFERENCE']*snp_beta_df['BETA']\n",
    "snp_beta_df.sort_values('EFFECT_MEAN')\n",
    "snp_beta_df.to_csv(f\"{WORK_DIR}/imputed_data/AFR/AFR_BestSNPs.csv\",sep='\\t')"
   ]
  },
  {
   "cell_type": "code",
   "execution_count": 74,
   "id": "06c41d3a-cd63-4ad0-9076-c7c1fc7f4248",
   "metadata": {
    "tags": []
   },
   "outputs": [
    {
     "data": {
      "image/png": "[encoded data removed]",
      "text/plain": [
       "<Figure size 640x480 with 1 Axes>"
      ]
     },
     "metadata": {},
     "output_type": "display_data"
    }
   ],
   "source": [
    "plt.hist(snp_beta_df.EFFECT_MEAN[snp_beta_df.EFFECT_MEAN<0.02], bins=10)\n",
    "plt.show()"
   ]
  },
  {
   "cell_type": "markdown",
   "id": "fb6bbfdf-ce12-44a3-9f84-30f3d605b587",
   "metadata": {},
   "source": [
    "############# AAC #############"
   ]
  },
  {
   "cell_type": "code",
   "execution_count": null,
   "id": "ab3f92d3-b1bd-46a0-ac06-77b29bb355e6",
   "metadata": {
    "tags": []
   },
   "outputs": [],
   "source": [
    "%%bash\n",
    "\n",
    "module load plink/2.0-alpha\n",
    "\n",
    "plink2 \\\n",
    "--bfile ${WORK_DIR}/imputed_data/AAC/PRS_ALL_release6_gender \\\n",
    "--rm-dup force-first \\\n",
    "--score ${WORK_DIR}/projects/PRS_multi_ancestry_Nov2023/90LOCI_EUROPEANS_CHR_POS.txt list-variants \\\n",
    "--out ${WORK_DIR}/imputed_data/AAC/AAC-EUR90LOCI"
   ]
  },
  {
   "cell_type": "code",
   "execution_count": null,
   "id": "0cdfab8e-f0be-4168-a436-eedc2d53dc7d",
   "metadata": {
    "tags": []
   },
   "outputs": [],
   "source": [
    "%%bash \n",
    "\n",
    "module load plink/2.0-alpha\n",
    "\n",
    "# Create transposed data with dosages\n",
    "\n",
    "plink2 \\\n",
    "--bfile ${WORK_DIR}/imputed_data/AAC/PRS_ALL_release6_gender \\\n",
    "--rm-dup force-first \\\n",
    "--extract ${WORK_DIR}/projects/PRS_multi_ancestry_Nov2023/90LOCI_EUROPEANS_CHR_POS.txt \\\n",
    "--export A --export-allele ${WORK_DIR}/90LOCI_EUROPEANS_CHR_POS.txt \\\n",
    "--out ${WORK_DIR}/imputed_data/AAC/AAC-EUR90LOCI-transpose"
   ]
  },
  {
   "cell_type": "code",
   "execution_count": null,
   "id": "c43b74b4-2e51-48ad-af04-9e1d3cebf1ea",
   "metadata": {
    "tags": []
   },
   "outputs": [],
   "source": [
    "## Read in PRS\n",
    "prs_df = pd.read_csv(f\"{WORK_DIR}/imputed_data/AAC/AAC-EUR90LOCI.sscore\", delim_whitespace=True, usecols=['IID', 'SCORE1_AVG'])\n",
    "prs_df.columns=['IID','PRS']\n",
    "\n",
    "## Read in the covariate file and the transposed PLINK .raw file with dosages\n",
    "temp = pd.read_csv(f\"{WORK_DIR}/covariates.txt\", sep=\"\\t\")\n",
    "cov_df = temp.rename(columns={'GP2sampleID': 'IID'})\n",
    "transpose_df = pd.read_csv(f\"{WORK_DIR}/imputed_data/AAC/AAC-EUR90LOCI-transpose.raw\", sep='\\t').drop(columns=['FID', 'PAT', 'MAT', 'SEX'])\n",
    "\n",
    "## Merge dataframes\n",
    "merged_df1 = pd.merge(prs_df, cov_df, on=\"IID\", how=\"left\")\n",
    "merged_df2 = pd.merge(merged_df1, transpose_df, on=\"IID\", how=\"left\")\n",
    "merged_df2.head()"
   ]
  },
  {
   "cell_type": "code",
   "execution_count": 78,
   "id": "80e0fe3e-4453-46fa-a12a-50be5fa06c5e",
   "metadata": {
    "tags": []
   },
   "outputs": [],
   "source": [
    "## Recode status\n",
    "merged_df2['STATUS'] = np.where(merged_df2['PHENOTYPE']==1, \"CONTROL\", \"PD\")\n",
    "merged_df2['sex_for_qc'] = np.where(merged_df2['sex_for_qc']==1, \"Male\", \"Female\")\n",
    "\n",
    "## Aggregate the information\n",
    "pivot_df = merged_df2.loc[\n",
    "    merged_df2.STATUS.isin(['CONTROL', 'PD']),\n",
    "    ['STATUS']+list(merged_df2.columns[merged_df2.columns.str.contains(':')])\n",
    "].pivot_table(\n",
    "    index=['STATUS'],\n",
    "    aggfunc=['mean']\n",
    ").T.reset_index().drop(columns='level_0').set_index('level_1')\n",
    "\n",
    "## Calculate the frequency difference per variant between cases and controls\n",
    "pivot_df['FREQ_DIFFERENCE'] = pivot_df['PD'] - pivot_df['CONTROL']\n",
    "\n",
    "## Read in the full Nalls et al., scoring file\n",
    "scores = pd.read_csv(f\"{WORK_DIR}/90LOCI_EUROPEANS_CHR_POS.txt\", sep='\\t', header=None, names=['SNP', 'A1', 'BETA'])\n",
    "scores.index = scores['SNP'] + '_' + scores['A1']\n",
    "\n",
    "## Merge pivot table and scores file to calculate mean effect\n",
    "snp_beta_df = pd.concat([scores,pivot_df],axis=1)\n",
    "snp_beta_df['EFFECT_MEAN'] = snp_beta_df['FREQ_DIFFERENCE']*snp_beta_df['BETA']\n",
    "snp_beta_df.sort_values('EFFECT_MEAN')\n",
    "snp_beta_df.to_csv(f\"{WORK_DIR}/imputed_data/AAC/AAC_BestSNPs.csv\",sep='\\t')"
   ]
  },
  {
   "cell_type": "code",
   "execution_count": 79,
   "id": "6dbf107a-4fc9-43b0-9907-db69fda0c729",
   "metadata": {
    "tags": []
   },
   "outputs": [
    {
     "data": {
      "image/png": "[encoded data removed]",
      "text/plain": [
       "<Figure size 640x480 with 1 Axes>"
      ]
     },
     "metadata": {},
     "output_type": "display_data"
    }
   ],
   "source": [
    "plt.hist(snp_beta_df.EFFECT_MEAN[snp_beta_df.EFFECT_MEAN<0.02], bins=10)\n",
    "plt.show()"
   ]
  },
  {
   "cell_type": "markdown",
   "id": "a49c9ddb-914b-4f9e-89fb-ee13fff49610",
   "metadata": {},
   "source": [
    "############# AJ #############"
   ]
  },
  {
   "cell_type": "code",
   "execution_count": null,
   "id": "138cbad5-c2be-49c2-a69c-ad386ec5a1af",
   "metadata": {
    "tags": []
   },
   "outputs": [],
   "source": [
    "%%bash\n",
    "\n",
    "module load plink/2.0-alpha\n",
    "\n",
    "plink2 \\\n",
    "--bfile ${WORK_DIR}/imputed_data/AJ/PRS_ALL_release6_gender \\\n",
    "--rm-dup force-first \\\n",
    "--score ${WORK_DIR}/90LOCI_EUROPEANS_CHR_POS.txt list-variants \\\n",
    "--out ${WORK_DIR}/imputed_data/AJ/AJ-EUR90LOCI"
   ]
  },
  {
   "cell_type": "code",
   "execution_count": null,
   "id": "38415809-2ab8-49a1-816a-44c8553ef13e",
   "metadata": {
    "tags": []
   },
   "outputs": [],
   "source": [
    "%%bash \n",
    "\n",
    "module load plink/2.0-alpha\n",
    "\n",
    "# Create transposed data with dosages\n",
    "\n",
    "plink2 \\\n",
    "--bfile ${WORK_DIR}/imputed_data/AJ/PRS_ALL_release6_gender \\\n",
    "--rm-dup force-first \\\n",
    "--extract ${WORK_DIR}/90LOCI_EUROPEANS_CHR_POS.txt \\\n",
    "--export A --export-allele ${WORK_DIR}/90LOCI_EUROPEANS_CHR_POS.txt \\\n",
    "--out ${WORK_DIR}/imputed_data/AJ/AJ-EUR90LOCI-transpose"
   ]
  },
  {
   "cell_type": "code",
   "execution_count": null,
   "id": "9cda1d24-7b2e-4293-8d46-8cbb7aa27304",
   "metadata": {
    "tags": []
   },
   "outputs": [],
   "source": [
    "## Read in PRS\n",
    "prs_df = pd.read_csv(f\"{WORK_DIR}/imputed_data/AJ/AJ-EUR90LOCI.sscore\", delim_whitespace=True, usecols=['IID', 'SCORE1_AVG'])\n",
    "prs_df.columns=['IID','PRS']\n",
    "\n",
    "## Read in the covariate file and the transposed PLINK .raw file with dosages\n",
    "temp = pd.read_csv(f\"{WORK_DIR}/covariates.txt\", sep=\"\\t\")\n",
    "cov_df = temp.rename(columns={'GP2sampleID': 'IID'})\n",
    "transpose_df = pd.read_csv(f\"{WORK_DIR}/imputed_data/AJ/AJ-EUR90LOCI-transpose.raw\", sep='\\t').drop(columns=['FID', 'PAT', 'MAT', 'SEX'])\n",
    "\n",
    "## Merge dataframes\n",
    "merged_df1 = pd.merge(prs_df, cov_df, on=\"IID\", how=\"left\")\n",
    "merged_df2 = pd.merge(merged_df1, transpose_df, on=\"IID\", how=\"left\")\n",
    "merged_df2.head()"
   ]
  },
  {
   "cell_type": "code",
   "execution_count": 83,
   "id": "0c50bda6-98d2-4349-a613-cc1e794b872e",
   "metadata": {
    "tags": []
   },
   "outputs": [],
   "source": [
    "## Recode status\n",
    "merged_df2['STATUS'] = np.where(merged_df2['PHENOTYPE']==1, \"CONTROL\", \"PD\")\n",
    "merged_df2['sex_for_qc'] = np.where(merged_df2['sex_for_qc']==1, \"Male\", \"Female\")\n",
    "\n",
    "## Aggregate the information\n",
    "pivot_df = merged_df2.loc[\n",
    "    merged_df2.STATUS.isin(['CONTROL', 'PD']),\n",
    "    ['STATUS']+list(merged_df2.columns[merged_df2.columns.str.contains(':')])\n",
    "].pivot_table(\n",
    "    index=['STATUS'],\n",
    "    aggfunc=['mean']\n",
    ").T.reset_index().drop(columns='level_0').set_index('level_1')\n",
    "\n",
    "## Calculate the frequency difference per variant between cases and controls\n",
    "pivot_df['FREQ_DIFFERENCE'] = pivot_df['PD'] - pivot_df['CONTROL']\n",
    "\n",
    "## Read in the full Nalls et al., scoring file\n",
    "scores = pd.read_csv(f\"{WORK_DIR}/90LOCI_EUROPEANS_CHR_POS.txt\", sep='\\t', header=None, names=['SNP', 'A1', 'BETA'])\n",
    "scores.index = scores['SNP'] + '_' + scores['A1']\n",
    "\n",
    "## Merge pivot table and scores file to calculate mean effect\n",
    "snp_beta_df = pd.concat([scores,pivot_df],axis=1)\n",
    "snp_beta_df['EFFECT_MEAN'] = snp_beta_df['FREQ_DIFFERENCE']*snp_beta_df['BETA']\n",
    "snp_beta_df.sort_values('EFFECT_MEAN')\n",
    "snp_beta_df.to_csv(f\"{WORK_DIR}/imputed_data/AJ/AJ_BestSNPs.csv\",sep='\\t')"
   ]
  },
  {
   "cell_type": "code",
   "execution_count": 84,
   "id": "6c3d10bd-81a6-489d-8e9e-ea0d6414d5d1",
   "metadata": {
    "tags": []
   },
   "outputs": [
    {
     "data": {
      "image/png": "[encoded data removed]",
      "text/plain": [
       "<Figure size 640x480 with 1 Axes>"
      ]
     },
     "metadata": {},
     "output_type": "display_data"
    },
    {
     "data": {
      "text/html": [
       "<div>\n",
       "<style scoped>\n",
       "    .dataframe tbody tr th:only-of-type {\n",
       "        vertical-align: middle;\n",
       "    }\n",
       "\n",
       "    .dataframe tbody tr th {\n",
       "        vertical-align: top;\n",
       "    }\n",
       "\n",
       "    .dataframe thead th {\n",
       "        text-align: right;\n",
       "    }\n",
       "</style>\n",
       "<table border=\"1\" class=\"dataframe\">\n",
       "  <thead>\n",
       "    <tr style=\"text-align: right;\">\n",
       "      <th></th>\n",
       "      <th>SNP</th>\n",
       "      <th>A1</th>\n",
       "      <th>BETA</th>\n",
       "      <th>CONTROL</th>\n",
       "      <th>PD</th>\n",
       "      <th>FREQ_DIFFERENCE</th>\n",
       "      <th>EFFECT_MEAN</th>\n",
       "    </tr>\n",
       "  </thead>\n",
       "  <tbody>\n",
       "    <tr>\n",
       "      <th>1:155235843_T</th>\n",
       "      <td>1:155235843</td>\n",
       "      <td>T</td>\n",
       "      <td>-0.7467</td>\n",
       "      <td>1.938998</td>\n",
       "      <td>1.722222</td>\n",
       "      <td>-0.216776</td>\n",
       "      <td>0.161866</td>\n",
       "    </tr>\n",
       "    <tr>\n",
       "      <th>4:958159_T</th>\n",
       "      <td>4:958159</td>\n",
       "      <td>T</td>\n",
       "      <td>-0.2126</td>\n",
       "      <td>1.426667</td>\n",
       "      <td>1.315939</td>\n",
       "      <td>-0.110728</td>\n",
       "      <td>0.023541</td>\n",
       "    </tr>\n",
       "    <tr>\n",
       "      <th>12:40340400_A</th>\n",
       "      <td>12:40340400</td>\n",
       "      <td>A</td>\n",
       "      <td>2.4289</td>\n",
       "      <td>0.023965</td>\n",
       "      <td>0.318694</td>\n",
       "      <td>0.294729</td>\n",
       "      <td>0.715866</td>\n",
       "    </tr>\n",
       "  </tbody>\n",
       "</table>\n",
       "</div>"
      ],
      "text/plain": [
       "                       SNP A1    BETA   CONTROL        PD  FREQ_DIFFERENCE  \\\n",
       "1:155235843_T  1:155235843  T -0.7467  1.938998  1.722222        -0.216776   \n",
       "4:958159_T        4:958159  T -0.2126  1.426667  1.315939        -0.110728   \n",
       "12:40340400_A  12:40340400  A  2.4289  0.023965  0.318694         0.294729   \n",
       "\n",
       "               EFFECT_MEAN  \n",
       "1:155235843_T     0.161866  \n",
       "4:958159_T        0.023541  \n",
       "12:40340400_A     0.715866  "
      ]
     },
     "execution_count": 84,
     "metadata": {},
     "output_type": "execute_result"
    }
   ],
   "source": [
    "plt.hist(snp_beta_df.EFFECT_MEAN[snp_beta_df.EFFECT_MEAN<0.02], bins=10)\n",
    "plt.show()\n",
    "snp_beta_df[snp_beta_df.EFFECT_MEAN>0.02]"
   ]
  },
  {
   "cell_type": "markdown",
   "id": "91722fd1-2afe-4fe5-b0c2-1beebe6764a1",
   "metadata": {},
   "source": [
    "############# AMR #############"
   ]
  },
  {
   "cell_type": "code",
   "execution_count": null,
   "id": "22328c23-a1e3-4a51-bb9b-70ba99f91cc9",
   "metadata": {
    "tags": []
   },
   "outputs": [],
   "source": [
    "%%bash\n",
    "\n",
    "module load plink/2.0-alpha\n",
    "\n",
    "plink2 \\\n",
    "--bfile ${WORK_DIR}/imputed_data/AMR/PRS_ALL_release6_gender \\\n",
    "--rm-dup force-first \\\n",
    "--score ${WORK_DIR}/90LOCI_EUROPEANS_CHR_POS.txt list-variants \\\n",
    "--out ${WORK_DIR}/imputed_data/AMR/AMR-EUR90LOCI"
   ]
  },
  {
   "cell_type": "code",
   "execution_count": null,
   "id": "8ea71b9f-0352-4742-b819-b71675f2a3d1",
   "metadata": {
    "tags": []
   },
   "outputs": [],
   "source": [
    "%%bash \n",
    "\n",
    "module load plink/2.0-alpha\n",
    "\n",
    "# Create transposed data with dosages\n",
    "\n",
    "plink2 \\\n",
    "--bfile ${WORK_DIR}/imputed_data/AMR/PRS_ALL_release6_gender \\\n",
    "--rm-dup force-first \\\n",
    "--extract ${WORK_DIR}/90LOCI_EUROPEANS_CHR_POS.txt \\\n",
    "--export A --export-allele ${WORK_DIR}/90LOCI_EUROPEANS_CHR_POS.txt \\\n",
    "--out ${WORK_DIR}/imputed_data/AMR/AMR-EUR90LOCI-transpose"
   ]
  },
  {
   "cell_type": "code",
   "execution_count": null,
   "id": "a8cdd15a-9cf5-4d24-b221-087fb2f9bc89",
   "metadata": {
    "tags": []
   },
   "outputs": [],
   "source": [
    "## Read in PRS\n",
    "prs_df = pd.read_csv(f\"{WORK_DIR}/imputed_data/AMR/AMR-EUR90LOCI.sscore\", delim_whitespace=True, usecols=['IID', 'SCORE1_AVG'])\n",
    "prs_df.columns=['IID','PRS']\n",
    "\n",
    "## Read in the covariate file and the transposed PLINK .raw file with dosages\n",
    "temp = pd.read_csv(f\"{WORK_DIR}/covariates.txt\", sep=\"\\t\")\n",
    "cov_df = temp.rename(columns={'GP2sampleID': 'IID'})\n",
    "transpose_df = pd.read_csv(f\"{WORK_DIR}/imputed_data/AMR/AMR-EUR90LOCI-transpose.raw\", sep='\\t').drop(columns=['FID', 'PAT', 'MAT', 'SEX'])\n",
    "\n",
    "## Merge dataframes\n",
    "merged_df1 = pd.merge(prs_df, cov_df, on=\"IID\", how=\"left\")\n",
    "merged_df2 = pd.merge(merged_df1, transpose_df, on=\"IID\", how=\"left\")\n",
    "merged_df2.head()"
   ]
  },
  {
   "cell_type": "code",
   "execution_count": 88,
   "id": "f9a2598e-b288-4d72-acbe-3ff7adcf2fe9",
   "metadata": {
    "tags": []
   },
   "outputs": [],
   "source": [
    "## Recode status\n",
    "merged_df2['STATUS'] = np.where(merged_df2['PHENOTYPE']==1, \"CONTROL\", \"PD\")\n",
    "merged_df2['sex_for_qc'] = np.where(merged_df2['sex_for_qc']==1, \"Male\", \"Female\")\n",
    "\n",
    "## Aggregate the information\n",
    "pivot_df = merged_df2.loc[\n",
    "    merged_df2.STATUS.isin(['CONTROL', 'PD']),\n",
    "    ['STATUS']+list(merged_df2.columns[merged_df2.columns.str.contains(':')])\n",
    "].pivot_table(\n",
    "    index=['STATUS'],\n",
    "    aggfunc=['mean']\n",
    ").T.reset_index().drop(columns='level_0').set_index('level_1')\n",
    "\n",
    "## Calculate the frequency difference per variant between cases and controls\n",
    "pivot_df['FREQ_DIFFERENCE'] = pivot_df['PD'] - pivot_df['CONTROL']\n",
    "\n",
    "## Read in the full Nalls et al., scoring file\n",
    "scores = pd.read_csv(f\"{WORK_DIR}/90LOCI_EUROPEANS_CHR_POS.txt\", sep='\\t', header=None, names=['SNP', 'A1', 'BETA'])\n",
    "scores.index = scores['SNP'] + '_' + scores['A1']\n",
    "\n",
    "## Merge pivot table and scores file to calculate mean effect\n",
    "snp_beta_df = pd.concat([scores,pivot_df],axis=1)\n",
    "snp_beta_df['EFFECT_MEAN'] = snp_beta_df['FREQ_DIFFERENCE']*snp_beta_df['BETA']\n",
    "snp_beta_df.sort_values('EFFECT_MEAN')\n",
    "snp_beta_df.to_csv(f\"{WORK_DIR}/imputed_data/AMR/AMR_BestSNPs.csv\",sep='\\t')"
   ]
  },
  {
   "cell_type": "code",
   "execution_count": 89,
   "id": "66224cb5-ad7d-45d4-80d9-3a05c0997bb6",
   "metadata": {
    "tags": []
   },
   "outputs": [
    {
     "data": {
      "image/png": "[encoded data removed]",
      "text/plain": [
       "<Figure size 640x480 with 1 Axes>"
      ]
     },
     "metadata": {},
     "output_type": "display_data"
    }
   ],
   "source": [
    "plt.hist(snp_beta_df.EFFECT_MEAN[snp_beta_df.EFFECT_MEAN<0.02], bins=10)\n",
    "plt.show()"
   ]
  },
  {
   "cell_type": "markdown",
   "id": "e3bb3cff-d9cb-4fd5-b3f5-9311a9398330",
   "metadata": {},
   "source": [
    "############# EUR #############"
   ]
  },
  {
   "cell_type": "code",
   "execution_count": null,
   "id": "9fa13394-c4c0-4792-81ae-b41e33bf190f",
   "metadata": {
    "tags": []
   },
   "outputs": [],
   "source": [
    "%%bash\n",
    "\n",
    "module load plink/2.0-alpha\n",
    "\n",
    "plink2 \\\n",
    "--bfile ${WORK_DIR}/imputed_data/EUR/PRS_ALL_release6_gender \\\n",
    "--rm-dup force-first \\\n",
    "--score ${WORK_DIR}/projects/PRS_multi_ancestry_Nov2023/90LOCI_EUROPEANS_CHR_POS.txt list-variants \\\n",
    "--out ${WORK_DIR}/imputed_data/EUR/EUR-EUR90LOCI"
   ]
  },
  {
   "cell_type": "code",
   "execution_count": null,
   "id": "232416df-20bf-47b9-91f3-4eb08e002239",
   "metadata": {
    "tags": []
   },
   "outputs": [],
   "source": [
    "%%bash \n",
    "\n",
    "module load plink/2.0-alpha\n",
    "\n",
    "# Create transposed data with dosages\n",
    "\n",
    "plink2 \\\n",
    "--bfile ${WORK_DIR}/imputed_data/EUR/PRS_ALL_release6_gender \\\n",
    "--rm-dup force-first \\\n",
    "--extract ${WORK_DIR}/90LOCI_EUROPEANS_CHR_POS.txt \\\n",
    "--export A --export-allele ${WORK_DIR}/90LOCI_EUROPEANS_CHR_POS.txt \\\n",
    "--out ${WORK_DIR}/imputed_data/EUR/EUR-EUR90LOCI-transpose"
   ]
  },
  {
   "cell_type": "code",
   "execution_count": null,
   "id": "bc304c05-e939-4a27-8d18-c1a68d98afb1",
   "metadata": {
    "tags": []
   },
   "outputs": [],
   "source": [
    "## Read in PRS\n",
    "prs_df = pd.read_csv(f\"{WORK_DIR}/imputed_data/EUR/EUR-EUR90LOCI.sscore\", delim_whitespace=True, usecols=['IID', 'SCORE1_AVG'])\n",
    "prs_df.columns=['IID','PRS']\n",
    "\n",
    "## Read in the covariate file and the transposed PLINK .raw file with dosages\n",
    "temp = pd.read_csv(f\"{WORK_DIR}/covariates.txt\", sep=\"\\t\")\n",
    "cov_df = temp.rename(columns={'GP2sampleID': 'IID'})\n",
    "transpose_df = pd.read_csv(f\"{WORK_DIR}/imputed_data/EUR/EUR-EUR90LOCI-transpose.raw\", sep='\\t').drop(columns=['FID', 'PAT', 'MAT', 'SEX'])\n",
    "\n",
    "## Merge dataframes\n",
    "merged_df1 = pd.merge(prs_df, cov_df, on=\"IID\", how=\"left\")\n",
    "merged_df2 = pd.merge(merged_df1, transpose_df, on=\"IID\", how=\"left\")\n",
    "merged_df2.head()"
   ]
  },
  {
   "cell_type": "code",
   "execution_count": null,
   "id": "25933b38-50fb-43e3-be04-0ba52b92d9bf",
   "metadata": {},
   "outputs": [],
   "source": [
    "## Recode status\n",
    "merged_df2['STATUS'] = np.where(merged_df2['PHENOTYPE']==1, \"CONTROL\", \"PD\")\n",
    "merged_df2['sex_for_qc'] = np.where(merged_df2['sex_for_qc']==1, \"Male\", \"Female\")\n",
    "\n",
    "## Aggregate the information\n",
    "pivot_df = merged_df2.loc[\n",
    "    merged_df2.STATUS.isin(['CONTROL', 'PD']),\n",
    "    ['STATUS']+list(merged_df2.columns[merged_df2.columns.str.contains(':')])\n",
    "].pivot_table(\n",
    "    index=['STATUS'],\n",
    "    aggfunc=['mean']\n",
    ").T.reset_index().drop(columns='level_0').set_index('level_1')\n",
    "\n",
    "## Calculate the frequency difference per variant between cases and controls\n",
    "pivot_df['FREQ_DIFFERENCE'] = pivot_df['PD'] - pivot_df['CONTROL']\n",
    "\n",
    "## Read in the full Nalls et al., scoring file\n",
    "scores = pd.read_csv(f\"{WORK_DIR}/90LOCI_EUROPEANS_CHR_POS.txt\", sep='\\t', header=None, names=['SNP', 'A1', 'BETA'])\n",
    "scores.index = scores['SNP'] + '_' + scores['A1']\n",
    "\n",
    "## Merge pivot table and scores file to calculate mean effect\n",
    "snp_beta_df = pd.concat([scores,pivot_df],axis=1)\n",
    "snp_beta_df['EFFECT_MEAN'] = snp_beta_df['FREQ_DIFFERENCE']*snp_beta_df['BETA']\n",
    "snp_beta_df.sort_values('EFFECT_MEAN')\n",
    "snp_beta_df.to_csv(f\"{WORK_DIR}/imputed_data/EUR/AMR_BestSNPs.csv\",sep='\\t')"
   ]
  },
  {
   "cell_type": "code",
   "execution_count": 63,
   "id": "ff24af87-14f8-4808-89c0-430dc59c30ee",
   "metadata": {
    "tags": []
   },
   "outputs": [
    {
     "data": {
      "image/png": "[encoded data removed]",
      "text/plain": [
       "<Figure size 640x480 with 1 Axes>"
      ]
     },
     "metadata": {},
     "output_type": "display_data"
    }
   ],
   "source": [
    "plt.hist(snp_beta_df.EFFECT_MEAN[snp_beta_df.EFFECT_MEAN<0.02], bins=10)\n",
    "plt.show()"
   ]
  },
  {
   "cell_type": "markdown",
   "id": "d6ba0ca8-1113-4cf4-b6d9-01b494ce223a",
   "metadata": {},
   "source": [
    "############# CAS #############"
   ]
  },
  {
   "cell_type": "code",
   "execution_count": null,
   "id": "3406b0dc-ca12-4e1c-8fe3-27be66c91058",
   "metadata": {
    "tags": []
   },
   "outputs": [],
   "source": [
    "%%bash\n",
    "\n",
    "module load plink/2.0-alpha\n",
    "\n",
    "plink2 \\\n",
    "--bfile ${WORK_DIR}/imputed_data/CAS/PRS_ALL_release6_gender \\\n",
    "--rm-dup force-first \\\n",
    "--score ${WORK_DIR}/90LOCI_EUROPEANS_CHR_POS.txt list-variants \\\n",
    "--out ${WORK_DIR}/imputed_data/CAS/CAS-EUR90LOCI"
   ]
  },
  {
   "cell_type": "code",
   "execution_count": null,
   "id": "fcb88460-25d7-44e0-a61f-17bbb20418c4",
   "metadata": {
    "tags": []
   },
   "outputs": [],
   "source": [
    "%%bash \n",
    "\n",
    "module load plink/2.0-alpha\n",
    "\n",
    "# Create transposed data with dosages\n",
    "\n",
    "plink2 \\\n",
    "--bfile ${WORK_DIR}/imputed_data/CAS/PRS_ALL_release6_gender \\\n",
    "--rm-dup force-first \\\n",
    "--extract ${WORK_DIR}/90LOCI_EUROPEANS_CHR_POS.txt \\\n",
    "--export A --export-allele ${WORK_DIR}/90LOCI_EUROPEANS_CHR_POS.txt \\\n",
    "--out ${WORK_DIR}/imputed_data/CAS/CAS-EUR90LOCI-transpose"
   ]
  },
  {
   "cell_type": "code",
   "execution_count": null,
   "id": "d7243ac9-4bda-4c6d-9e10-fcff30de2976",
   "metadata": {
    "tags": []
   },
   "outputs": [],
   "source": [
    "## Read in PRS\n",
    "prs_df = pd.read_csv(f\"{WORK_DIR}/imputed_data/CAS/CAS-EUR90LOCI.sscore\", delim_whitespace=True, usecols=['IID', 'SCORE1_AVG'])\n",
    "prs_df.columns=['IID','PRS']\n",
    "\n",
    "## Read in the covariate file and the transposed PLINK .raw file with dosages\n",
    "temp = pd.read_csv(f\"{WORK_DIR}/covariates.txt\", sep=\"\\t\")\n",
    "cov_df = temp.rename(columns={'GP2sampleID': 'IID'})\n",
    "transpose_df = pd.read_csv(f\"{WORK_DIR}/imputed_data/CAS/CAS-EUR90LOCI-transpose.raw\", sep='\\t').drop(columns=['FID', 'PAT', 'MAT', 'SEX'])\n",
    "\n",
    "## Merge dataframes\n",
    "merged_df1 = pd.merge(prs_df, cov_df, on=\"IID\", how=\"left\")\n",
    "merged_df2 = pd.merge(merged_df1, transpose_df, on=\"IID\", how=\"left\")\n",
    "merged_df2.head()"
   ]
  },
  {
   "cell_type": "code",
   "execution_count": 67,
   "id": "9a05f607-d1a8-41ed-ad43-88df5f6ac431",
   "metadata": {
    "tags": []
   },
   "outputs": [
    {
     "data": {
      "image/png": "[encoded data removed]",
      "text/plain": [
       "<Figure size 640x480 with 1 Axes>"
      ]
     },
     "metadata": {},
     "output_type": "display_data"
    }
   ],
   "source": [
    "plt.hist(snp_beta_df.EFFECT_MEAN[snp_beta_df.EFFECT_MEAN<0.02], bins=10)\n",
    "plt.show()"
   ]
  }
 ],
 "metadata": {
  "kernelspec": {
   "display_name": "python/3.10",
   "language": "python",
   "name": "py3.10"
  },
  "language_info": {
   "codemirror_mode": {
    "name": "ipython",
    "version": 3
   },
   "file_extension": ".py",
   "mimetype": "text/x-python",
   "name": "python",
   "nbconvert_exporter": "python",
   "pygments_lexer": "ipython3",
   "version": "3.10.8"
  }
 },
 "nbformat": 4,
 "nbformat_minor": 5
}
