{
 "cells": [
  {
   "cell_type": "markdown",
   "id": "57ca8c63-1f94-42a2-940e-0a4f54bab173",
   "metadata": {},
   "source": [
    "# Estimate Specificity and Sensitivity\n",
    "- **Project:** Multi-ancestry PRS\n",
    "- **Version:** Python/3.9\n",
    "- **Status:** COMPLETE\n",
    "- **Last Updated:** 2-MAY-2024\n",
    "\n",
    "## Notebook Overview\n",
    "- Specificity and Sensitivity "
   ]
  },
  {
   "cell_type": "code",
   "execution_count": 1,
   "id": "8c73db19-2393-486f-a819-8f9d6b4e413e",
   "metadata": {
    "tags": [],
    "vscode": {
     "languageId": "r"
    }
   },
   "outputs": [
    {
     "name": "stdout",
     "output_type": "stream",
     "text": [
      "[+] Loading python 3.10  ... \n",
      "[+] Loading gcc  11.3.0  ... \n",
      "[+] Loading HDF5  1.12.2 \n",
      "[+] Loading netcdf  4.9.0 \n",
      "[-] Unloading gcc  11.3.0  ... \n",
      "[+] Loading gcc  11.3.0  ... \n",
      "[+] Loading openmpi/4.1.3/gcc-11.3.0  ... \n",
      "[+] Loading pandoc  2.18  on cn4271 \n",
      "[+] Loading pcre2  10.40 \n",
      "[+] Loading R 4.3.2 \n"
     ]
    }
   ],
   "source": [
    "## Load packages\n",
    "module load python\n",
    "module load R"
   ]
  },
  {
   "cell_type": "code",
   "execution_count": 2,
   "id": "d07593db-f8bc-465d-90c3-f55dd4e92281",
   "metadata": {
    "vscode": {
     "languageId": "r"
    }
   },
   "outputs": [],
   "source": [
    "###################################### AAC ###################################### \n",
    "cd ${WORK_DIR}/imputed_data/AAC/"
   ]
  },
  {
   "cell_type": "code",
   "execution_count": 2,
   "id": "6cf29c51-bb15-41be-91bc-81e2e8c07d55",
   "metadata": {
    "vscode": {
     "languageId": "r"
    }
   },
   "outputs": [
    {
     "name": "stderr",
     "output_type": "stream",
     "text": [
      "Warning message in confusionMatrix.default(data = as.factor(dat$predicted), reference = as.factor(dat$reported), :\n",
      "“Levels are not in the same order for reference and data. Refactoring data to match.”\n"
     ]
    },
    {
     "name": "stdout",
     "output_type": "stream",
     "text": [
      "[1] \n",
      "[1] \"AFRICANS\"\n"
     ]
    },
    {
     "data": {
      "text/plain": [
       "Confusion Matrix and Statistics\n",
       "\n",
       "          Reference\n",
       "Prediction CONTROL DISEASE\n",
       "   CONTROL     808     257\n",
       "   DISEASE       0       0\n",
       "                                          \n",
       "               Accuracy : 0.7587          \n",
       "                 95% CI : (0.7318, 0.7841)\n",
       "    No Information Rate : 0.7587          \n",
       "    P-Value [Acc > NIR] : 0.5167          \n",
       "                                          \n",
       "                  Kappa : 0               \n",
       "                                          \n",
       " Mcnemar's Test P-Value : <2e-16          \n",
       "                                          \n",
       "            Sensitivity : 0.0000          \n",
       "            Specificity : 1.0000          \n",
       "         Pos Pred Value :    NaN          \n",
       "         Neg Pred Value : 0.7587          \n",
       "             Prevalence : 0.2413          \n",
       "         Detection Rate : 0.0000          \n",
       "   Detection Prevalence : 0.0000          \n",
       "      Balanced Accuracy : 0.5000          \n",
       "                                          \n",
       "       'Positive' Class : DISEASE         \n",
       "                                          "
      ]
     },
     "metadata": {},
     "output_type": "display_data"
    },
    {
     "name": "stderr",
     "output_type": "stream",
     "text": [
      "Setting levels: control = CONTROL, case = DISEASE\n",
      "\n",
      "Setting direction: controls < cases\n",
      "\n"
     ]
    },
    {
     "data": {
      "text/plain": [
       "\n",
       "Call:\n",
       "roc.default(response = dat$reported, predictor = dat$probDisease)\n",
       "\n",
       "Data: dat$probDisease in 808 controls (dat$reported CONTROL) < 257 cases (dat$reported DISEASE).\n",
       "Area under the curve: 0.5901"
      ]
     },
     "metadata": {},
     "output_type": "display_data"
    },
    {
     "name": "stdout",
     "output_type": "stream",
     "text": [
      "[1] \n",
      "[1] \"EUROPEANS\"\n"
     ]
    },
    {
     "data": {
      "text/plain": [
       "Confusion Matrix and Statistics\n",
       "\n",
       "          Reference\n",
       "Prediction CONTROL DISEASE\n",
       "   CONTROL     804     254\n",
       "   DISEASE       4       3\n",
       "                                          \n",
       "               Accuracy : 0.7577          \n",
       "                 95% CI : (0.7309, 0.7832)\n",
       "    No Information Rate : 0.7587          \n",
       "    P-Value [Acc > NIR] : 0.5452          \n",
       "                                          \n",
       "                  Kappa : 0.0101          \n",
       "                                          \n",
       " Mcnemar's Test P-Value : <2e-16          \n",
       "                                          \n",
       "            Sensitivity : 0.011673        \n",
       "            Specificity : 0.995050        \n",
       "         Pos Pred Value : 0.428571        \n",
       "         Neg Pred Value : 0.759924        \n",
       "             Prevalence : 0.241315        \n",
       "         Detection Rate : 0.002817        \n",
       "   Detection Prevalence : 0.006573        \n",
       "      Balanced Accuracy : 0.503361        \n",
       "                                          \n",
       "       'Positive' Class : DISEASE         \n",
       "                                          "
      ]
     },
     "metadata": {},
     "output_type": "display_data"
    },
    {
     "name": "stderr",
     "output_type": "stream",
     "text": [
      "Setting levels: control = CONTROL, case = DISEASE\n",
      "\n",
      "Setting direction: controls < cases\n",
      "\n"
     ]
    },
    {
     "data": {
      "text/plain": [
       "\n",
       "Call:\n",
       "roc.default(response = dat$reported, predictor = dat$probDisease)\n",
       "\n",
       "Data: dat$probDisease in 808 controls (dat$reported CONTROL) < 257 cases (dat$reported DISEASE).\n",
       "Area under the curve: 0.6309"
      ]
     },
     "metadata": {},
     "output_type": "display_data"
    },
    {
     "name": "stderr",
     "output_type": "stream",
     "text": [
      "Warning message in confusionMatrix.default(data = as.factor(dat$predicted), reference = as.factor(dat$reported), :\n",
      "“Levels are not in the same order for reference and data. Refactoring data to match.”\n"
     ]
    },
    {
     "name": "stdout",
     "output_type": "stream",
     "text": [
      "[1] \n",
      "[1] \"LATINO\"\n"
     ]
    },
    {
     "data": {
      "text/plain": [
       "Confusion Matrix and Statistics\n",
       "\n",
       "          Reference\n",
       "Prediction CONTROL DISEASE\n",
       "   CONTROL     808     257\n",
       "   DISEASE       0       0\n",
       "                                          \n",
       "               Accuracy : 0.7587          \n",
       "                 95% CI : (0.7318, 0.7841)\n",
       "    No Information Rate : 0.7587          \n",
       "    P-Value [Acc > NIR] : 0.5167          \n",
       "                                          \n",
       "                  Kappa : 0               \n",
       "                                          \n",
       " Mcnemar's Test P-Value : <2e-16          \n",
       "                                          \n",
       "            Sensitivity : 0.0000          \n",
       "            Specificity : 1.0000          \n",
       "         Pos Pred Value :    NaN          \n",
       "         Neg Pred Value : 0.7587          \n",
       "             Prevalence : 0.2413          \n",
       "         Detection Rate : 0.0000          \n",
       "   Detection Prevalence : 0.0000          \n",
       "      Balanced Accuracy : 0.5000          \n",
       "                                          \n",
       "       'Positive' Class : DISEASE         \n",
       "                                          "
      ]
     },
     "metadata": {},
     "output_type": "display_data"
    },
    {
     "name": "stderr",
     "output_type": "stream",
     "text": [
      "Setting levels: control = CONTROL, case = DISEASE\n",
      "\n",
      "Setting direction: controls < cases\n",
      "\n"
     ]
    },
    {
     "data": {
      "text/plain": [
       "\n",
       "Call:\n",
       "roc.default(response = dat$reported, predictor = dat$probDisease)\n",
       "\n",
       "Data: dat$probDisease in 808 controls (dat$reported CONTROL) < 257 cases (dat$reported DISEASE).\n",
       "Area under the curve: 0.5587"
      ]
     },
     "metadata": {},
     "output_type": "display_data"
    },
    {
     "name": "stderr",
     "output_type": "stream",
     "text": [
      "Warning message in confusionMatrix.default(data = as.factor(dat$predicted), reference = as.factor(dat$reported), :\n",
      "“Levels are not in the same order for reference and data. Refactoring data to match.”\n"
     ]
    },
    {
     "name": "stdout",
     "output_type": "stream",
     "text": [
      "[1] \n",
      "[1] \"EASTASIANS\"\n"
     ]
    },
    {
     "data": {
      "text/plain": [
       "Confusion Matrix and Statistics\n",
       "\n",
       "          Reference\n",
       "Prediction CONTROL DISEASE\n",
       "   CONTROL     808     257\n",
       "   DISEASE       0       0\n",
       "                                          \n",
       "               Accuracy : 0.7587          \n",
       "                 95% CI : (0.7318, 0.7841)\n",
       "    No Information Rate : 0.7587          \n",
       "    P-Value [Acc > NIR] : 0.5167          \n",
       "                                          \n",
       "                  Kappa : 0               \n",
       "                                          \n",
       " Mcnemar's Test P-Value : <2e-16          \n",
       "                                          \n",
       "            Sensitivity : 0.0000          \n",
       "            Specificity : 1.0000          \n",
       "         Pos Pred Value :    NaN          \n",
       "         Neg Pred Value : 0.7587          \n",
       "             Prevalence : 0.2413          \n",
       "         Detection Rate : 0.0000          \n",
       "   Detection Prevalence : 0.0000          \n",
       "      Balanced Accuracy : 0.5000          \n",
       "                                          \n",
       "       'Positive' Class : DISEASE         \n",
       "                                          "
      ]
     },
     "metadata": {},
     "output_type": "display_data"
    },
    {
     "name": "stderr",
     "output_type": "stream",
     "text": [
      "Setting levels: control = CONTROL, case = DISEASE\n",
      "\n",
      "Setting direction: controls < cases\n",
      "\n"
     ]
    },
    {
     "data": {
      "text/plain": [
       "\n",
       "Call:\n",
       "roc.default(response = dat$reported, predictor = dat$probDisease)\n",
       "\n",
       "Data: dat$probDisease in 808 controls (dat$reported CONTROL) < 257 cases (dat$reported DISEASE).\n",
       "Area under the curve: 0.6163"
      ]
     },
     "metadata": {},
     "output_type": "display_data"
    }
   ],
   "source": [
    "### RISK\n",
    "library(data.table)\n",
    "setwd(\"./imputed_data/AAC/\")\n",
    "library(caret)\n",
    "library(pROC)\n",
    "dat <- read.table(\"PRS_score_release_AFRICANS.profile\", header = T) \n",
    "dat$CASE <- dat$PHENO - 1\n",
    "dat <- subset(dat, CASE != -10)\n",
    "meanControls <- mean(dat$SCORE[dat$CASE == 0])\n",
    "sdControls <- sd(dat$SCORE[dat$CASE == 0])\n",
    "dat$zSCORE <- (dat$SCORE - meanControls)/sdControls\n",
    "grsTests <- glm(CASE ~ zSCORE, family=\"binomial\", data = dat)\n",
    "dat$probDisease <- predict(grsTests, dat, type = c(\"response\"))\n",
    "dat$predicted <- ifelse(dat$probDisease > 0.5, \"DISEASE\", \"CONTROL\")\n",
    "dat$reported <- ifelse(dat$CASE == 1, \"DISEASE\",\"CONTROL\")\n",
    "confMat <- confusionMatrix(data = as.factor(dat$predicted), reference = as.factor(dat$reported), positive = \"DISEASE\")\n",
    "print(noquote(\"\"))\n",
    "print(\"AFRICANS\")\n",
    "confMat\n",
    "roc <- roc(response = dat$reported, predictor = dat$probDisease)\n",
    "roc\n",
    "\n",
    "library(data.table)\n",
    "library(caret)\n",
    "dat <- read.table(\"PRS_score_release_EUROPEAN.profile\", header = T) \n",
    "dat$CASE <- dat$PHENO - 1\n",
    "dat <- subset(dat, CASE != -10)\n",
    "meanControls <- mean(dat$SCORE[dat$CASE == 0])\n",
    "sdControls <- sd(dat$SCORE[dat$CASE == 0])\n",
    "dat$zSCORE <- (dat$SCORE - meanControls)/sdControls\n",
    "grsTests <- glm(CASE ~ zSCORE, family=\"binomial\", data = dat)\n",
    "dat$probDisease <- predict(grsTests, dat, type = c(\"response\"))\n",
    "dat$predicted <- ifelse(dat$probDisease > 0.5, \"DISEASE\", \"CONTROL\")\n",
    "dat$reported <- ifelse(dat$CASE == 1, \"DISEASE\",\"CONTROL\")\n",
    "confMat <- confusionMatrix(data = as.factor(dat$predicted), reference = as.factor(dat$reported), positive = \"DISEASE\")\n",
    "print(noquote(\"\"))\n",
    "print(\"EUROPEANS\")\n",
    "confMat\n",
    "roc <- roc(response = dat$reported, predictor = dat$probDisease)\n",
    "roc\n",
    "\n",
    "library(data.table)\n",
    "library(caret)\n",
    "dat <- read.table(\"PRS_score_release_LATINO.profile\", header = T) \n",
    "dat$CASE <- dat$PHENO - 1\n",
    "dat <- subset(dat, CASE != -10)\n",
    "meanControls <- mean(dat$SCORE[dat$CASE == 0])\n",
    "sdControls <- sd(dat$SCORE[dat$CASE == 0])\n",
    "dat$zSCORE <- (dat$SCORE - meanControls)/sdControls\n",
    "grsTests <- glm(CASE ~ zSCORE, family=\"binomial\", data = dat)\n",
    "dat$probDisease <- predict(grsTests, dat, type = c(\"response\"))\n",
    "dat$predicted <- ifelse(dat$probDisease > 0.5, \"DISEASE\", \"CONTROL\")\n",
    "dat$reported <- ifelse(dat$CASE == 1, \"DISEASE\",\"CONTROL\")\n",
    "confMat <- confusionMatrix(data = as.factor(dat$predicted), reference = as.factor(dat$reported), positive = \"DISEASE\")\n",
    "print(noquote(\"\"))\n",
    "print(\"LATINO\")\n",
    "confMat\n",
    "roc <- roc(response = dat$reported, predictor = dat$probDisease)\n",
    "roc\n",
    "\n",
    "library(data.table)\n",
    "library(caret)\n",
    "dat <- read.table(\"PRS_score_release_EASTASIANS.profile\", header = T) \n",
    "dat$CASE <- dat$PHENO - 1\n",
    "dat <- subset(dat, CASE != -10)\n",
    "meanControls <- mean(dat$SCORE[dat$CASE == 0])\n",
    "sdControls <- sd(dat$SCORE[dat$CASE == 0])\n",
    "dat$zSCORE <- (dat$SCORE - meanControls)/sdControls\n",
    "grsTests <- glm(CASE ~ zSCORE, family=\"binomial\", data = dat)\n",
    "dat$probDisease <- predict(grsTests, dat, type = c(\"response\"))\n",
    "dat$predicted <- ifelse(dat$probDisease > 0.5, \"DISEASE\", \"CONTROL\")\n",
    "dat$reported <- ifelse(dat$CASE == 1, \"DISEASE\",\"CONTROL\")\n",
    "confMat <- confusionMatrix(data = as.factor(dat$predicted), reference = as.factor(dat$reported), positive = \"DISEASE\")\n",
    "print(noquote(\"\"))\n",
    "print(\"EASTASIANS\")\n",
    "confMat\n",
    "roc <- roc(response = dat$reported, predictor = dat$probDisease)\n",
    "roc\n"
   ]
  },
  {
   "cell_type": "code",
   "execution_count": 1,
   "id": "7dc34694-eeab-4493-ad1c-0d8605e5bb5c",
   "metadata": {
    "vscode": {
     "languageId": "r"
    }
   },
   "outputs": [],
   "source": [
    "###################################### AFR ###################################### \n",
    "cd ${WORK_DIR}/imputed_data/AFR/"
   ]
  },
  {
   "cell_type": "code",
   "execution_count": 1,
   "id": "88a06bf3-9b4d-4ac4-9d31-036d706076d5",
   "metadata": {
    "vscode": {
     "languageId": "r"
    }
   },
   "outputs": [
    {
     "name": "stderr",
     "output_type": "stream",
     "text": [
      "Loading required package: ggplot2\n",
      "\n",
      "Loading required package: lattice\n",
      "\n",
      "Type 'citation(\"pROC\")' for a citation.\n",
      "\n",
      "\n",
      "Attaching package: ‘pROC’\n",
      "\n",
      "\n",
      "The following objects are masked from ‘package:stats’:\n",
      "\n",
      "    cov, smooth, var\n",
      "\n",
      "\n",
      "Warning message in confusionMatrix.default(data = as.factor(dat$predicted), reference = as.factor(dat$reported), :\n",
      "“Levels are not in the same order for reference and data. Refactoring data to match.”\n"
     ]
    },
    {
     "name": "stdout",
     "output_type": "stream",
     "text": [
      "[1] \n",
      "[1] \"AFRICANS\"\n"
     ]
    },
    {
     "data": {
      "text/plain": [
       "Confusion Matrix and Statistics\n",
       "\n",
       "          Reference\n",
       "Prediction CONTROL DISEASE\n",
       "   CONTROL    1683     920\n",
       "   DISEASE       0       0\n",
       "                                          \n",
       "               Accuracy : 0.6466          \n",
       "                 95% CI : (0.6278, 0.6649)\n",
       "    No Information Rate : 0.6466          \n",
       "    P-Value [Acc > NIR] : 0.509           \n",
       "                                          \n",
       "                  Kappa : 0               \n",
       "                                          \n",
       " Mcnemar's Test P-Value : <2e-16          \n",
       "                                          \n",
       "            Sensitivity : 0.0000          \n",
       "            Specificity : 1.0000          \n",
       "         Pos Pred Value :    NaN          \n",
       "         Neg Pred Value : 0.6466          \n",
       "             Prevalence : 0.3534          \n",
       "         Detection Rate : 0.0000          \n",
       "   Detection Prevalence : 0.0000          \n",
       "      Balanced Accuracy : 0.5000          \n",
       "                                          \n",
       "       'Positive' Class : DISEASE         \n",
       "                                          "
      ]
     },
     "metadata": {},
     "output_type": "display_data"
    },
    {
     "name": "stderr",
     "output_type": "stream",
     "text": [
      "Setting levels: control = CONTROL, case = DISEASE\n",
      "\n",
      "Setting direction: controls < cases\n",
      "\n"
     ]
    },
    {
     "data": {
      "text/plain": [
       "\n",
       "Call:\n",
       "roc.default(response = dat$reported, predictor = dat$probDisease)\n",
       "\n",
       "Data: dat$probDisease in 1683 controls (dat$reported CONTROL) < 920 cases (dat$reported DISEASE).\n",
       "Area under the curve: 0.5419"
      ]
     },
     "metadata": {},
     "output_type": "display_data"
    },
    {
     "name": "stderr",
     "output_type": "stream",
     "text": [
      "Warning message in confusionMatrix.default(data = as.factor(dat$predicted), reference = as.factor(dat$reported), :\n",
      "“Levels are not in the same order for reference and data. Refactoring data to match.”\n"
     ]
    },
    {
     "name": "stdout",
     "output_type": "stream",
     "text": [
      "[1] \n",
      "[1] \"EUROPEANS\"\n"
     ]
    },
    {
     "data": {
      "text/plain": [
       "Confusion Matrix and Statistics\n",
       "\n",
       "          Reference\n",
       "Prediction CONTROL DISEASE\n",
       "   CONTROL    1683     920\n",
       "   DISEASE       0       0\n",
       "                                          \n",
       "               Accuracy : 0.6466          \n",
       "                 95% CI : (0.6278, 0.6649)\n",
       "    No Information Rate : 0.6466          \n",
       "    P-Value [Acc > NIR] : 0.509           \n",
       "                                          \n",
       "                  Kappa : 0               \n",
       "                                          \n",
       " Mcnemar's Test P-Value : <2e-16          \n",
       "                                          \n",
       "            Sensitivity : 0.0000          \n",
       "            Specificity : 1.0000          \n",
       "         Pos Pred Value :    NaN          \n",
       "         Neg Pred Value : 0.6466          \n",
       "             Prevalence : 0.3534          \n",
       "         Detection Rate : 0.0000          \n",
       "   Detection Prevalence : 0.0000          \n",
       "      Balanced Accuracy : 0.5000          \n",
       "                                          \n",
       "       'Positive' Class : DISEASE         \n",
       "                                          "
      ]
     },
     "metadata": {},
     "output_type": "display_data"
    },
    {
     "name": "stderr",
     "output_type": "stream",
     "text": [
      "Setting levels: control = CONTROL, case = DISEASE\n",
      "\n",
      "Setting direction: controls < cases\n",
      "\n"
     ]
    },
    {
     "data": {
      "text/plain": [
       "\n",
       "Call:\n",
       "roc.default(response = dat$reported, predictor = dat$probDisease)\n",
       "\n",
       "Data: dat$probDisease in 1683 controls (dat$reported CONTROL) < 920 cases (dat$reported DISEASE).\n",
       "Area under the curve: 0.5375"
      ]
     },
     "metadata": {},
     "output_type": "display_data"
    },
    {
     "name": "stderr",
     "output_type": "stream",
     "text": [
      "Warning message in confusionMatrix.default(data = as.factor(dat$predicted), reference = as.factor(dat$reported), :\n",
      "“Levels are not in the same order for reference and data. Refactoring data to match.”\n"
     ]
    },
    {
     "name": "stdout",
     "output_type": "stream",
     "text": [
      "[1] \n",
      "[1] \"LATINO\"\n"
     ]
    },
    {
     "data": {
      "text/plain": [
       "Confusion Matrix and Statistics\n",
       "\n",
       "          Reference\n",
       "Prediction CONTROL DISEASE\n",
       "   CONTROL    1683     920\n",
       "   DISEASE       0       0\n",
       "                                          \n",
       "               Accuracy : 0.6466          \n",
       "                 95% CI : (0.6278, 0.6649)\n",
       "    No Information Rate : 0.6466          \n",
       "    P-Value [Acc > NIR] : 0.509           \n",
       "                                          \n",
       "                  Kappa : 0               \n",
       "                                          \n",
       " Mcnemar's Test P-Value : <2e-16          \n",
       "                                          \n",
       "            Sensitivity : 0.0000          \n",
       "            Specificity : 1.0000          \n",
       "         Pos Pred Value :    NaN          \n",
       "         Neg Pred Value : 0.6466          \n",
       "             Prevalence : 0.3534          \n",
       "         Detection Rate : 0.0000          \n",
       "   Detection Prevalence : 0.0000          \n",
       "      Balanced Accuracy : 0.5000          \n",
       "                                          \n",
       "       'Positive' Class : DISEASE         \n",
       "                                          "
      ]
     },
     "metadata": {},
     "output_type": "display_data"
    },
    {
     "name": "stderr",
     "output_type": "stream",
     "text": [
      "Setting levels: control = CONTROL, case = DISEASE\n",
      "\n",
      "Setting direction: controls < cases\n",
      "\n"
     ]
    },
    {
     "data": {
      "text/plain": [
       "\n",
       "Call:\n",
       "roc.default(response = dat$reported, predictor = dat$probDisease)\n",
       "\n",
       "Data: dat$probDisease in 1683 controls (dat$reported CONTROL) < 920 cases (dat$reported DISEASE).\n",
       "Area under the curve: 0.5127"
      ]
     },
     "metadata": {},
     "output_type": "display_data"
    },
    {
     "name": "stderr",
     "output_type": "stream",
     "text": [
      "Warning message in confusionMatrix.default(data = as.factor(dat$predicted), reference = as.factor(dat$reported), :\n",
      "“Levels are not in the same order for reference and data. Refactoring data to match.”\n"
     ]
    },
    {
     "name": "stdout",
     "output_type": "stream",
     "text": [
      "[1] \n",
      "[1] \"EASTASIANS\"\n"
     ]
    },
    {
     "data": {
      "text/plain": [
       "Confusion Matrix and Statistics\n",
       "\n",
       "          Reference\n",
       "Prediction CONTROL DISEASE\n",
       "   CONTROL    1683     920\n",
       "   DISEASE       0       0\n",
       "                                          \n",
       "               Accuracy : 0.6466          \n",
       "                 95% CI : (0.6278, 0.6649)\n",
       "    No Information Rate : 0.6466          \n",
       "    P-Value [Acc > NIR] : 0.509           \n",
       "                                          \n",
       "                  Kappa : 0               \n",
       "                                          \n",
       " Mcnemar's Test P-Value : <2e-16          \n",
       "                                          \n",
       "            Sensitivity : 0.0000          \n",
       "            Specificity : 1.0000          \n",
       "         Pos Pred Value :    NaN          \n",
       "         Neg Pred Value : 0.6466          \n",
       "             Prevalence : 0.3534          \n",
       "         Detection Rate : 0.0000          \n",
       "   Detection Prevalence : 0.0000          \n",
       "      Balanced Accuracy : 0.5000          \n",
       "                                          \n",
       "       'Positive' Class : DISEASE         \n",
       "                                          "
      ]
     },
     "metadata": {},
     "output_type": "display_data"
    },
    {
     "name": "stderr",
     "output_type": "stream",
     "text": [
      "Setting levels: control = CONTROL, case = DISEASE\n",
      "\n",
      "Setting direction: controls < cases\n",
      "\n"
     ]
    },
    {
     "data": {
      "text/plain": [
       "\n",
       "Call:\n",
       "roc.default(response = dat$reported, predictor = dat$probDisease)\n",
       "\n",
       "Data: dat$probDisease in 1683 controls (dat$reported CONTROL) < 920 cases (dat$reported DISEASE).\n",
       "Area under the curve: 0.5318"
      ]
     },
     "metadata": {},
     "output_type": "display_data"
    }
   ],
   "source": [
    "### RISK\n",
    "library(data.table)\n",
    "setwd(\"./imputed_data/AFR/\")\n",
    "library(caret)\n",
    "library(pROC)\n",
    "data <- read.table(\"PRS_score_release_AFRICANS.profile\", header = T) \n",
    "data$CASE <- data$PHENO - 1\n",
    "dat <- subset(data, CASE != -10)\n",
    "meanControls <- mean(dat$SCORE[dat$CASE == 0])\n",
    "sdControls <- sd(dat$SCORE[dat$CASE == 0])\n",
    "dat$zSCORE <- (dat$SCORE - meanControls)/sdControls\n",
    "grsTests <- glm(CASE ~ zSCORE, family=\"binomial\", data = dat)\n",
    "dat$probDisease <- predict(grsTests, dat, type = c(\"response\"))\n",
    "dat$predicted <- ifelse(dat$probDisease > 0.5, \"DISEASE\", \"CONTROL\")\n",
    "dat$reported <- ifelse(dat$CASE == 1, \"DISEASE\",\"CONTROL\")\n",
    "confMat <- confusionMatrix(data = as.factor(dat$predicted), reference = as.factor(dat$reported), positive = \"DISEASE\")\n",
    "print(noquote(\"\"))\n",
    "print(\"AFRICANS\")\n",
    "confMat\n",
    "roc <- roc(response = dat$reported, predictor = dat$probDisease)\n",
    "roc\n",
    "\n",
    "library(data.table)\n",
    "library(caret)\n",
    "data <- read.table(\"PRS_score_release_EUROPEAN.profile\", header = T) \n",
    "data$CASE <- data$PHENO - 1\n",
    "dat <- subset(data, CASE != -10)\n",
    "meanControls <- mean(dat$SCORE[dat$CASE == 0])\n",
    "sdControls <- sd(dat$SCORE[dat$CASE == 0])\n",
    "dat$zSCORE <- (dat$SCORE - meanControls)/sdControls\n",
    "grsTests <- glm(CASE ~ zSCORE, family=\"binomial\", data = dat)\n",
    "dat$probDisease <- predict(grsTests, dat, type = c(\"response\"))\n",
    "dat$predicted <- ifelse(dat$probDisease > 0.5, \"DISEASE\", \"CONTROL\")\n",
    "dat$reported <- ifelse(dat$CASE == 1, \"DISEASE\",\"CONTROL\")\n",
    "confMat <- confusionMatrix(data = as.factor(dat$predicted), reference = as.factor(dat$reported), positive = \"DISEASE\")\n",
    "print(noquote(\"\"))\n",
    "print(\"EUROPEANS\")\n",
    "confMat\n",
    "roc <- roc(response = dat$reported, predictor = dat$probDisease)\n",
    "roc\n",
    "\n",
    "library(data.table)\n",
    "library(caret)\n",
    "data <- read.table(\"PRS_score_release_LATINO.profile\", header = T) \n",
    "data$CASE <- data$PHENO - 1\n",
    "dat <- subset(data, CASE != -10)\n",
    "meanControls <- mean(dat$SCORE[dat$CASE == 0])\n",
    "sdControls <- sd(dat$SCORE[dat$CASE == 0])\n",
    "dat$zSCORE <- (dat$SCORE - meanControls)/sdControls\n",
    "grsTests <- glm(CASE ~ zSCORE, family=\"binomial\", data = dat)\n",
    "dat$probDisease <- predict(grsTests, dat, type = c(\"response\"))\n",
    "dat$predicted <- ifelse(dat$probDisease > 0.5, \"DISEASE\", \"CONTROL\")\n",
    "dat$reported <- ifelse(dat$CASE == 1, \"DISEASE\",\"CONTROL\")\n",
    "confMat <- confusionMatrix(data = as.factor(dat$predicted), reference = as.factor(dat$reported), positive = \"DISEASE\")\n",
    "print(noquote(\"\"))\n",
    "print(\"LATINO\")\n",
    "confMat\n",
    "roc <- roc(response = dat$reported, predictor = dat$probDisease)\n",
    "roc\n",
    "\n",
    "library(data.table)\n",
    "library(caret)\n",
    "data <- read.table(\"PRS_score_release_EASTASIANS.profile\", header = T) \n",
    "data$CASE <- data$PHENO - 1\n",
    "dat <- subset(data, CASE != -10)\n",
    "meanControls <- mean(dat$SCORE[dat$CASE == 0])\n",
    "sdControls <- sd(dat$SCORE[dat$CASE == 0])\n",
    "dat$zSCORE <- (dat$SCORE - meanControls)/sdControls\n",
    "grsTests <- glm(CASE ~ zSCORE, family=\"binomial\", data = dat)\n",
    "dat$probDisease <- predict(grsTests, dat, type = c(\"response\"))\n",
    "dat$predicted <- ifelse(dat$probDisease > 0.5, \"DISEASE\", \"CONTROL\")\n",
    "dat$reported <- ifelse(dat$CASE == 1, \"DISEASE\",\"CONTROL\")\n",
    "confMat <- confusionMatrix(data = as.factor(dat$predicted), reference = as.factor(dat$reported), positive = \"DISEASE\")\n",
    "print(noquote(\"\"))\n",
    "print(\"EASTASIANS\")\n",
    "confMat\n",
    "roc <- roc(response = dat$reported, predictor = dat$probDisease)\n",
    "roc"
   ]
  },
  {
   "cell_type": "code",
   "execution_count": 1,
   "id": "74393fcf-7329-4afd-a655-d217eff7f328",
   "metadata": {
    "vscode": {
     "languageId": "r"
    }
   },
   "outputs": [],
   "source": [
    "###################################### AJ ###################################### \n",
    "cd ${WORK_DIR}/imputed_data/AJ/"
   ]
  },
  {
   "cell_type": "code",
   "execution_count": 2,
   "id": "74578d3e-0483-4a96-8ba2-5c6e775f0cae",
   "metadata": {
    "vscode": {
     "languageId": "r"
    }
   },
   "outputs": [
    {
     "name": "stderr",
     "output_type": "stream",
     "text": [
      "Warning message in confusionMatrix.default(data = as.factor(dat$predicted), reference = as.factor(dat$reported), :\n",
      "“Levels are not in the same order for reference and data. Refactoring data to match.”\n"
     ]
    },
    {
     "name": "stdout",
     "output_type": "stream",
     "text": [
      "[1] \n",
      "[1] \"AFRICANS\"\n"
     ]
    },
    {
     "data": {
      "text/plain": [
       "Confusion Matrix and Statistics\n",
       "\n",
       "          Reference\n",
       "Prediction CONTROL DISEASE\n",
       "   CONTROL       0       0\n",
       "   DISEASE     459    1011\n",
       "                                          \n",
       "               Accuracy : 0.6878          \n",
       "                 95% CI : (0.6634, 0.7114)\n",
       "    No Information Rate : 0.6878          \n",
       "    P-Value [Acc > NIR] : 0.5126          \n",
       "                                          \n",
       "                  Kappa : 0               \n",
       "                                          \n",
       " Mcnemar's Test P-Value : <2e-16          \n",
       "                                          \n",
       "            Sensitivity : 1.0000          \n",
       "            Specificity : 0.0000          \n",
       "         Pos Pred Value : 0.6878          \n",
       "         Neg Pred Value :    NaN          \n",
       "             Prevalence : 0.6878          \n",
       "         Detection Rate : 0.6878          \n",
       "   Detection Prevalence : 1.0000          \n",
       "      Balanced Accuracy : 0.5000          \n",
       "                                          \n",
       "       'Positive' Class : DISEASE         \n",
       "                                          "
      ]
     },
     "metadata": {},
     "output_type": "display_data"
    },
    {
     "name": "stderr",
     "output_type": "stream",
     "text": [
      "Setting levels: control = CONTROL, case = DISEASE\n",
      "\n",
      "Setting direction: controls < cases\n",
      "\n"
     ]
    },
    {
     "data": {
      "text/plain": [
       "\n",
       "Call:\n",
       "roc.default(response = dat$reported, predictor = dat$probDisease)\n",
       "\n",
       "Data: dat$probDisease in 459 controls (dat$reported CONTROL) < 1011 cases (dat$reported DISEASE).\n",
       "Area under the curve: 0.5351"
      ]
     },
     "metadata": {},
     "output_type": "display_data"
    },
    {
     "name": "stdout",
     "output_type": "stream",
     "text": [
      "[1] \n",
      "[1] \"EUROPEANS\"\n"
     ]
    },
    {
     "data": {
      "text/plain": [
       "Confusion Matrix and Statistics\n",
       "\n",
       "          Reference\n",
       "Prediction CONTROL DISEASE\n",
       "   CONTROL      67      56\n",
       "   DISEASE     392     955\n",
       "                                         \n",
       "               Accuracy : 0.6952         \n",
       "                 95% CI : (0.671, 0.7187)\n",
       "    No Information Rate : 0.6878         \n",
       "    P-Value [Acc > NIR] : 0.278          \n",
       "                                         \n",
       "                  Kappa : 0.1132         \n",
       "                                         \n",
       " Mcnemar's Test P-Value : <2e-16         \n",
       "                                         \n",
       "            Sensitivity : 0.9446         \n",
       "            Specificity : 0.1460         \n",
       "         Pos Pred Value : 0.7090         \n",
       "         Neg Pred Value : 0.5447         \n",
       "             Prevalence : 0.6878         \n",
       "         Detection Rate : 0.6497         \n",
       "   Detection Prevalence : 0.9163         \n",
       "      Balanced Accuracy : 0.5453         \n",
       "                                         \n",
       "       'Positive' Class : DISEASE        \n",
       "                                         "
      ]
     },
     "metadata": {},
     "output_type": "display_data"
    },
    {
     "name": "stderr",
     "output_type": "stream",
     "text": [
      "Setting levels: control = CONTROL, case = DISEASE\n",
      "\n",
      "Setting direction: controls < cases\n",
      "\n"
     ]
    },
    {
     "data": {
      "text/plain": [
       "\n",
       "Call:\n",
       "roc.default(response = dat$reported, predictor = dat$probDisease)\n",
       "\n",
       "Data: dat$probDisease in 459 controls (dat$reported CONTROL) < 1011 cases (dat$reported DISEASE).\n",
       "Area under the curve: 0.6796"
      ]
     },
     "metadata": {},
     "output_type": "display_data"
    },
    {
     "name": "stderr",
     "output_type": "stream",
     "text": [
      "Warning message in confusionMatrix.default(data = as.factor(dat$predicted), reference = as.factor(dat$reported), :\n",
      "“Levels are not in the same order for reference and data. Refactoring data to match.”\n"
     ]
    },
    {
     "name": "stdout",
     "output_type": "stream",
     "text": [
      "[1] \n",
      "[1] \"LATINO\"\n"
     ]
    },
    {
     "data": {
      "text/plain": [
       "Confusion Matrix and Statistics\n",
       "\n",
       "          Reference\n",
       "Prediction CONTROL DISEASE\n",
       "   CONTROL       0       0\n",
       "   DISEASE     459    1011\n",
       "                                          \n",
       "               Accuracy : 0.6878          \n",
       "                 95% CI : (0.6634, 0.7114)\n",
       "    No Information Rate : 0.6878          \n",
       "    P-Value [Acc > NIR] : 0.5126          \n",
       "                                          \n",
       "                  Kappa : 0               \n",
       "                                          \n",
       " Mcnemar's Test P-Value : <2e-16          \n",
       "                                          \n",
       "            Sensitivity : 1.0000          \n",
       "            Specificity : 0.0000          \n",
       "         Pos Pred Value : 0.6878          \n",
       "         Neg Pred Value :    NaN          \n",
       "             Prevalence : 0.6878          \n",
       "         Detection Rate : 0.6878          \n",
       "   Detection Prevalence : 1.0000          \n",
       "      Balanced Accuracy : 0.5000          \n",
       "                                          \n",
       "       'Positive' Class : DISEASE         \n",
       "                                          "
      ]
     },
     "metadata": {},
     "output_type": "display_data"
    },
    {
     "name": "stderr",
     "output_type": "stream",
     "text": [
      "Setting levels: control = CONTROL, case = DISEASE\n",
      "\n",
      "Setting direction: controls < cases\n",
      "\n"
     ]
    },
    {
     "data": {
      "text/plain": [
       "\n",
       "Call:\n",
       "roc.default(response = dat$reported, predictor = dat$probDisease)\n",
       "\n",
       "Data: dat$probDisease in 459 controls (dat$reported CONTROL) < 1011 cases (dat$reported DISEASE).\n",
       "Area under the curve: 0.5567"
      ]
     },
     "metadata": {},
     "output_type": "display_data"
    },
    {
     "name": "stderr",
     "output_type": "stream",
     "text": [
      "Warning message in confusionMatrix.default(data = as.factor(dat$predicted), reference = as.factor(dat$reported), :\n",
      "“Levels are not in the same order for reference and data. Refactoring data to match.”\n"
     ]
    },
    {
     "name": "stdout",
     "output_type": "stream",
     "text": [
      "[1] \n",
      "[1] \"EASTASIANS\"\n"
     ]
    },
    {
     "data": {
      "text/plain": [
       "Confusion Matrix and Statistics\n",
       "\n",
       "          Reference\n",
       "Prediction CONTROL DISEASE\n",
       "   CONTROL       0       0\n",
       "   DISEASE     459    1011\n",
       "                                          \n",
       "               Accuracy : 0.6878          \n",
       "                 95% CI : (0.6634, 0.7114)\n",
       "    No Information Rate : 0.6878          \n",
       "    P-Value [Acc > NIR] : 0.5126          \n",
       "                                          \n",
       "                  Kappa : 0               \n",
       "                                          \n",
       " Mcnemar's Test P-Value : <2e-16          \n",
       "                                          \n",
       "            Sensitivity : 1.0000          \n",
       "            Specificity : 0.0000          \n",
       "         Pos Pred Value : 0.6878          \n",
       "         Neg Pred Value :    NaN          \n",
       "             Prevalence : 0.6878          \n",
       "         Detection Rate : 0.6878          \n",
       "   Detection Prevalence : 1.0000          \n",
       "      Balanced Accuracy : 0.5000          \n",
       "                                          \n",
       "       'Positive' Class : DISEASE         \n",
       "                                          "
      ]
     },
     "metadata": {},
     "output_type": "display_data"
    },
    {
     "name": "stderr",
     "output_type": "stream",
     "text": [
      "Setting levels: control = CONTROL, case = DISEASE\n",
      "\n",
      "Setting direction: controls < cases\n",
      "\n"
     ]
    },
    {
     "data": {
      "text/plain": [
       "\n",
       "Call:\n",
       "roc.default(response = dat$reported, predictor = dat$probDisease)\n",
       "\n",
       "Data: dat$probDisease in 459 controls (dat$reported CONTROL) < 1011 cases (dat$reported DISEASE).\n",
       "Area under the curve: 0.5745"
      ]
     },
     "metadata": {},
     "output_type": "display_data"
    }
   ],
   "source": [
    "### RISK\n",
    "library(data.table)\n",
    "setwd(\"./imputed_data/AJ/\")\n",
    "library(caret)\n",
    "library(pROC)\n",
    "data <- read.table(\"PRS_score_release_AFRICANS.profile\", header = T) \n",
    "data$CASE <- data$PHENO - 1\n",
    "dat <- subset(data, CASE != -10)\n",
    "meanControls <- mean(dat$SCORE[dat$CASE == 0])\n",
    "sdControls <- sd(dat$SCORE[dat$CASE == 0])\n",
    "dat$zSCORE <- (dat$SCORE - meanControls)/sdControls\n",
    "grsTests <- glm(CASE ~ zSCORE, family=\"binomial\", data = dat)\n",
    "dat$probDisease <- predict(grsTests, dat, type = c(\"response\"))\n",
    "dat$predicted <- ifelse(dat$probDisease > 0.5, \"DISEASE\", \"CONTROL\")\n",
    "dat$reported <- ifelse(dat$CASE == 1, \"DISEASE\",\"CONTROL\")\n",
    "confMat <- confusionMatrix(data = as.factor(dat$predicted), reference = as.factor(dat$reported), positive = \"DISEASE\")\n",
    "print(noquote(\"\"))\n",
    "print(\"AFRICANS\")\n",
    "confMat\n",
    "roc <- roc(response = dat$reported, predictor = dat$probDisease)\n",
    "roc\n",
    "\n",
    "library(data.table)\n",
    "library(caret)\n",
    "data <- read.table(\"PRS_score_release_EUROPEAN.profile\", header = T) \n",
    "data$CASE <- data$PHENO - 1\n",
    "dat <- subset(data, CASE != -10)\n",
    "meanControls <- mean(dat$SCORE[dat$CASE == 0])\n",
    "sdControls <- sd(dat$SCORE[dat$CASE == 0])\n",
    "dat$zSCORE <- (dat$SCORE - meanControls)/sdControls\n",
    "grsTests <- glm(CASE ~ zSCORE, family=\"binomial\", data = dat)\n",
    "dat$probDisease <- predict(grsTests, dat, type = c(\"response\"))\n",
    "dat$predicted <- ifelse(dat$probDisease > 0.5, \"DISEASE\", \"CONTROL\")\n",
    "dat$reported <- ifelse(dat$CASE == 1, \"DISEASE\",\"CONTROL\")\n",
    "confMat <- confusionMatrix(data = as.factor(dat$predicted), reference = as.factor(dat$reported), positive = \"DISEASE\")\n",
    "print(noquote(\"\"))\n",
    "print(\"EUROPEANS\")\n",
    "confMat\n",
    "roc <- roc(response = dat$reported, predictor = dat$probDisease)\n",
    "roc\n",
    "\n",
    "library(data.table)\n",
    "library(caret)\n",
    "data <- read.table(\"PRS_score_release_LATINO.profile\", header = T) \n",
    "data$CASE <- data$PHENO - 1\n",
    "dat <- subset(data, CASE != -10)\n",
    "meanControls <- mean(dat$SCORE[dat$CASE == 0])\n",
    "sdControls <- sd(dat$SCORE[dat$CASE == 0])\n",
    "dat$zSCORE <- (dat$SCORE - meanControls)/sdControls\n",
    "grsTests <- glm(CASE ~ zSCORE, family=\"binomial\", data = dat)\n",
    "dat$probDisease <- predict(grsTests, dat, type = c(\"response\"))\n",
    "dat$predicted <- ifelse(dat$probDisease > 0.5, \"DISEASE\", \"CONTROL\")\n",
    "dat$reported <- ifelse(dat$CASE == 1, \"DISEASE\",\"CONTROL\")\n",
    "confMat <- confusionMatrix(data = as.factor(dat$predicted), reference = as.factor(dat$reported), positive = \"DISEASE\")\n",
    "print(noquote(\"\"))\n",
    "print(\"LATINO\")\n",
    "confMat\n",
    "roc <- roc(response = dat$reported, predictor = dat$probDisease)\n",
    "roc\n",
    "\n",
    "library(data.table)\n",
    "library(caret)\n",
    "data <- read.table(\"PRS_score_release_EASTASIANS.profile\", header = T) \n",
    "data$CASE <- data$PHENO - 1\n",
    "dat <- subset(data, CASE != -10)\n",
    "meanControls <- mean(dat$SCORE[dat$CASE == 0])\n",
    "sdControls <- sd(dat$SCORE[dat$CASE == 0])\n",
    "dat$zSCORE <- (dat$SCORE - meanControls)/sdControls\n",
    "grsTests <- glm(CASE ~ zSCORE, family=\"binomial\", data = dat)\n",
    "dat$probDisease <- predict(grsTests, dat, type = c(\"response\"))\n",
    "dat$predicted <- ifelse(dat$probDisease > 0.5, \"DISEASE\", \"CONTROL\")\n",
    "dat$reported <- ifelse(dat$CASE == 1, \"DISEASE\",\"CONTROL\")\n",
    "confMat <- confusionMatrix(data = as.factor(dat$predicted), reference = as.factor(dat$reported), positive = \"DISEASE\")\n",
    "print(noquote(\"\"))\n",
    "print(\"EASTASIANS\")\n",
    "confMat\n",
    "roc <- roc(response = dat$reported, predictor = dat$probDisease)\n",
    "roc"
   ]
  },
  {
   "cell_type": "code",
   "execution_count": 1,
   "id": "8f58d246-a664-470c-95b5-df3187478ff4",
   "metadata": {
    "vscode": {
     "languageId": "r"
    }
   },
   "outputs": [],
   "source": [
    "###################################### AMR ###################################### \n",
    "cd ${WORK_DIR}/imputed_data/AMR/"
   ]
  },
  {
   "cell_type": "code",
   "execution_count": 1,
   "id": "206570af-c7c5-4ac7-95e0-18e0b45c2e8f",
   "metadata": {
    "vscode": {
     "languageId": "r"
    }
   },
   "outputs": [
    {
     "name": "stderr",
     "output_type": "stream",
     "text": [
      "Loading required package: ggplot2\n",
      "\n",
      "Loading required package: lattice\n",
      "\n",
      "Type 'citation(\"pROC\")' for a citation.\n",
      "\n",
      "\n",
      "Attaching package: ‘pROC’\n",
      "\n",
      "\n",
      "The following objects are masked from ‘package:stats’:\n",
      "\n",
      "    cov, smooth, var\n",
      "\n",
      "\n",
      "Warning message in confusionMatrix.default(data = as.factor(dat$predicted), reference = as.factor(dat$reported), :\n",
      "“Levels are not in the same order for reference and data. Refactoring data to match.”\n"
     ]
    },
    {
     "name": "stdout",
     "output_type": "stream",
     "text": [
      "[1] \n",
      "[1] \"AFRICANS\"\n"
     ]
    },
    {
     "data": {
      "text/plain": [
       "Confusion Matrix and Statistics\n",
       "\n",
       "          Reference\n",
       "Prediction CONTROL DISEASE\n",
       "   CONTROL       0       0\n",
       "   DISEASE     139     367\n",
       "                                          \n",
       "               Accuracy : 0.7253          \n",
       "                 95% CI : (0.6842, 0.7638)\n",
       "    No Information Rate : 0.7253          \n",
       "    P-Value [Acc > NIR] : 0.5228          \n",
       "                                          \n",
       "                  Kappa : 0               \n",
       "                                          \n",
       " Mcnemar's Test P-Value : <2e-16          \n",
       "                                          \n",
       "            Sensitivity : 1.0000          \n",
       "            Specificity : 0.0000          \n",
       "         Pos Pred Value : 0.7253          \n",
       "         Neg Pred Value :    NaN          \n",
       "             Prevalence : 0.7253          \n",
       "         Detection Rate : 0.7253          \n",
       "   Detection Prevalence : 1.0000          \n",
       "      Balanced Accuracy : 0.5000          \n",
       "                                          \n",
       "       'Positive' Class : DISEASE         \n",
       "                                          "
      ]
     },
     "metadata": {},
     "output_type": "display_data"
    },
    {
     "name": "stderr",
     "output_type": "stream",
     "text": [
      "Setting levels: control = CONTROL, case = DISEASE\n",
      "\n",
      "Setting direction: controls < cases\n",
      "\n"
     ]
    },
    {
     "data": {
      "text/plain": [
       "\n",
       "Call:\n",
       "roc.default(response = dat$reported, predictor = dat$probDisease)\n",
       "\n",
       "Data: dat$probDisease in 139 controls (dat$reported CONTROL) < 367 cases (dat$reported DISEASE).\n",
       "Area under the curve: 0.5709"
      ]
     },
     "metadata": {},
     "output_type": "display_data"
    },
    {
     "name": "stdout",
     "output_type": "stream",
     "text": [
      "[1] \n",
      "[1] \"EUROPEANS\"\n"
     ]
    },
    {
     "data": {
      "text/plain": [
       "Confusion Matrix and Statistics\n",
       "\n",
       "          Reference\n",
       "Prediction CONTROL DISEASE\n",
       "   CONTROL       3       3\n",
       "   DISEASE     136     364\n",
       "                                          \n",
       "               Accuracy : 0.7253          \n",
       "                 95% CI : (0.6842, 0.7638)\n",
       "    No Information Rate : 0.7253          \n",
       "    P-Value [Acc > NIR] : 0.5228          \n",
       "                                          \n",
       "                  Kappa : 0.0191          \n",
       "                                          \n",
       " Mcnemar's Test P-Value : <2e-16          \n",
       "                                          \n",
       "            Sensitivity : 0.99183         \n",
       "            Specificity : 0.02158         \n",
       "         Pos Pred Value : 0.72800         \n",
       "         Neg Pred Value : 0.50000         \n",
       "             Prevalence : 0.72530         \n",
       "         Detection Rate : 0.71937         \n",
       "   Detection Prevalence : 0.98814         \n",
       "      Balanced Accuracy : 0.50670         \n",
       "                                          \n",
       "       'Positive' Class : DISEASE         \n",
       "                                          "
      ]
     },
     "metadata": {},
     "output_type": "display_data"
    },
    {
     "name": "stderr",
     "output_type": "stream",
     "text": [
      "Setting levels: control = CONTROL, case = DISEASE\n",
      "\n",
      "Setting direction: controls < cases\n",
      "\n"
     ]
    },
    {
     "data": {
      "text/plain": [
       "\n",
       "Call:\n",
       "roc.default(response = dat$reported, predictor = dat$probDisease)\n",
       "\n",
       "Data: dat$probDisease in 139 controls (dat$reported CONTROL) < 367 cases (dat$reported DISEASE).\n",
       "Area under the curve: 0.621"
      ]
     },
     "metadata": {},
     "output_type": "display_data"
    },
    {
     "name": "stderr",
     "output_type": "stream",
     "text": [
      "Warning message in confusionMatrix.default(data = as.factor(dat$predicted), reference = as.factor(dat$reported), :\n",
      "“Levels are not in the same order for reference and data. Refactoring data to match.”\n"
     ]
    },
    {
     "name": "stdout",
     "output_type": "stream",
     "text": [
      "[1] \n",
      "[1] \"LATINO\"\n"
     ]
    },
    {
     "data": {
      "text/plain": [
       "Confusion Matrix and Statistics\n",
       "\n",
       "          Reference\n",
       "Prediction CONTROL DISEASE\n",
       "   CONTROL       0       0\n",
       "   DISEASE     139     367\n",
       "                                          \n",
       "               Accuracy : 0.7253          \n",
       "                 95% CI : (0.6842, 0.7638)\n",
       "    No Information Rate : 0.7253          \n",
       "    P-Value [Acc > NIR] : 0.5228          \n",
       "                                          \n",
       "                  Kappa : 0               \n",
       "                                          \n",
       " Mcnemar's Test P-Value : <2e-16          \n",
       "                                          \n",
       "            Sensitivity : 1.0000          \n",
       "            Specificity : 0.0000          \n",
       "         Pos Pred Value : 0.7253          \n",
       "         Neg Pred Value :    NaN          \n",
       "             Prevalence : 0.7253          \n",
       "         Detection Rate : 0.7253          \n",
       "   Detection Prevalence : 1.0000          \n",
       "      Balanced Accuracy : 0.5000          \n",
       "                                          \n",
       "       'Positive' Class : DISEASE         \n",
       "                                          "
      ]
     },
     "metadata": {},
     "output_type": "display_data"
    },
    {
     "name": "stderr",
     "output_type": "stream",
     "text": [
      "Setting levels: control = CONTROL, case = DISEASE\n",
      "\n",
      "Setting direction: controls < cases\n",
      "\n"
     ]
    },
    {
     "data": {
      "text/plain": [
       "\n",
       "Call:\n",
       "roc.default(response = dat$reported, predictor = dat$probDisease)\n",
       "\n",
       "Data: dat$probDisease in 139 controls (dat$reported CONTROL) < 367 cases (dat$reported DISEASE).\n",
       "Area under the curve: 0.5673"
      ]
     },
     "metadata": {},
     "output_type": "display_data"
    },
    {
     "name": "stdout",
     "output_type": "stream",
     "text": [
      "[1] \n",
      "[1] \"EASTASIANS\"\n"
     ]
    },
    {
     "data": {
      "text/plain": [
       "Confusion Matrix and Statistics\n",
       "\n",
       "          Reference\n",
       "Prediction CONTROL DISEASE\n",
       "   CONTROL       1       1\n",
       "   DISEASE     138     366\n",
       "                                          \n",
       "               Accuracy : 0.7253          \n",
       "                 95% CI : (0.6842, 0.7638)\n",
       "    No Information Rate : 0.7253          \n",
       "    P-Value [Acc > NIR] : 0.5228          \n",
       "                                          \n",
       "                  Kappa : 0.0064          \n",
       "                                          \n",
       " Mcnemar's Test P-Value : <2e-16          \n",
       "                                          \n",
       "            Sensitivity : 0.997275        \n",
       "            Specificity : 0.007194        \n",
       "         Pos Pred Value : 0.726190        \n",
       "         Neg Pred Value : 0.500000        \n",
       "             Prevalence : 0.725296        \n",
       "         Detection Rate : 0.723320        \n",
       "   Detection Prevalence : 0.996047        \n",
       "      Balanced Accuracy : 0.502235        \n",
       "                                          \n",
       "       'Positive' Class : DISEASE         \n",
       "                                          "
      ]
     },
     "metadata": {},
     "output_type": "display_data"
    },
    {
     "name": "stderr",
     "output_type": "stream",
     "text": [
      "Setting levels: control = CONTROL, case = DISEASE\n",
      "\n",
      "Setting direction: controls < cases\n",
      "\n"
     ]
    },
    {
     "data": {
      "text/plain": [
       "\n",
       "Call:\n",
       "roc.default(response = dat$reported, predictor = dat$probDisease)\n",
       "\n",
       "Data: dat$probDisease in 139 controls (dat$reported CONTROL) < 367 cases (dat$reported DISEASE).\n",
       "Area under the curve: 0.6116"
      ]
     },
     "metadata": {},
     "output_type": "display_data"
    }
   ],
   "source": [
    "### RISK\n",
    "library(data.table)\n",
    "setwd(\"./imputed_data/AMR/\")\n",
    "library(caret)\n",
    "library(pROC)\n",
    "data <- read.table(\"PRS_score_release_AFRICANS.profile\", header = T) \n",
    "data$CASE <- data$PHENO - 1\n",
    "dat <- subset(data, CASE != -10)\n",
    "meanControls <- mean(dat$SCORE[dat$CASE == 0])\n",
    "sdControls <- sd(dat$SCORE[dat$CASE == 0])\n",
    "dat$zSCORE <- (dat$SCORE - meanControls)/sdControls\n",
    "grsTests <- glm(CASE ~ zSCORE, family=\"binomial\", data = dat)\n",
    "dat$probDisease <- predict(grsTests, dat, type = c(\"response\"))\n",
    "dat$predicted <- ifelse(dat$probDisease > 0.5, \"DISEASE\", \"CONTROL\")\n",
    "dat$reported <- ifelse(dat$CASE == 1, \"DISEASE\",\"CONTROL\")\n",
    "confMat <- confusionMatrix(data = as.factor(dat$predicted), reference = as.factor(dat$reported), positive = \"DISEASE\")\n",
    "print(noquote(\"\"))\n",
    "print(\"AFRICANS\")\n",
    "confMat\n",
    "roc <- roc(response = dat$reported, predictor = dat$probDisease)\n",
    "roc\n",
    "\n",
    "library(data.table)\n",
    "library(caret)\n",
    "data <- read.table(\"PRS_score_release_EUROPEAN.profile\", header = T) \n",
    "data$CASE <- data$PHENO - 1\n",
    "dat <- subset(data, CASE != -10)\n",
    "meanControls <- mean(dat$SCORE[dat$CASE == 0])\n",
    "sdControls <- sd(dat$SCORE[dat$CASE == 0])\n",
    "dat$zSCORE <- (dat$SCORE - meanControls)/sdControls\n",
    "grsTests <- glm(CASE ~ zSCORE, family=\"binomial\", data = dat)\n",
    "dat$probDisease <- predict(grsTests, dat, type = c(\"response\"))\n",
    "dat$predicted <- ifelse(dat$probDisease > 0.5, \"DISEASE\", \"CONTROL\")\n",
    "dat$reported <- ifelse(dat$CASE == 1, \"DISEASE\",\"CONTROL\")\n",
    "confMat <- confusionMatrix(data = as.factor(dat$predicted), reference = as.factor(dat$reported), positive = \"DISEASE\")\n",
    "print(noquote(\"\"))\n",
    "print(\"EUROPEANS\")\n",
    "confMat\n",
    "roc <- roc(response = dat$reported, predictor = dat$probDisease)\n",
    "roc\n",
    "\n",
    "library(data.table)\n",
    "library(caret)\n",
    "data <- read.table(\"PRS_score_release_LATINO.profile\", header = T) \n",
    "data$CASE <- data$PHENO - 1\n",
    "dat <- subset(data, CASE != -10)\n",
    "meanControls <- mean(dat$SCORE[dat$CASE == 0])\n",
    "sdControls <- sd(dat$SCORE[dat$CASE == 0])\n",
    "dat$zSCORE <- (dat$SCORE - meanControls)/sdControls\n",
    "grsTests <- glm(CASE ~ zSCORE, family=\"binomial\", data = dat)\n",
    "dat$probDisease <- predict(grsTests, dat, type = c(\"response\"))\n",
    "dat$predicted <- ifelse(dat$probDisease > 0.5, \"DISEASE\", \"CONTROL\")\n",
    "dat$reported <- ifelse(dat$CASE == 1, \"DISEASE\",\"CONTROL\")\n",
    "confMat <- confusionMatrix(data = as.factor(dat$predicted), reference = as.factor(dat$reported), positive = \"DISEASE\")\n",
    "print(noquote(\"\"))\n",
    "print(\"LATINO\")\n",
    "confMat\n",
    "roc <- roc(response = dat$reported, predictor = dat$probDisease)\n",
    "roc\n",
    "\n",
    "library(data.table)\n",
    "library(caret)\n",
    "data <- read.table(\"PRS_score_release_EASTASIANS.profile\", header = T) \n",
    "data$CASE <- data$PHENO - 1\n",
    "dat <- subset(data, CASE != -10)\n",
    "meanControls <- mean(dat$SCORE[dat$CASE == 0])\n",
    "sdControls <- sd(dat$SCORE[dat$CASE == 0])\n",
    "dat$zSCORE <- (dat$SCORE - meanControls)/sdControls\n",
    "grsTests <- glm(CASE ~ zSCORE, family=\"binomial\", data = dat)\n",
    "dat$probDisease <- predict(grsTests, dat, type = c(\"response\"))\n",
    "dat$predicted <- ifelse(dat$probDisease > 0.5, \"DISEASE\", \"CONTROL\")\n",
    "dat$reported <- ifelse(dat$CASE == 1, \"DISEASE\",\"CONTROL\")\n",
    "confMat <- confusionMatrix(data = as.factor(dat$predicted), reference = as.factor(dat$reported), positive = \"DISEASE\")\n",
    "print(noquote(\"\"))\n",
    "print(\"EASTASIANS\")\n",
    "confMat\n",
    "roc <- roc(response = dat$reported, predictor = dat$probDisease)\n",
    "roc"
   ]
  },
  {
   "cell_type": "code",
   "execution_count": 1,
   "id": "78648326-1541-447e-ac67-82f7bafc08cb",
   "metadata": {
    "vscode": {
     "languageId": "r"
    }
   },
   "outputs": [],
   "source": [
    "###################################### CAS ###################################### \n",
    "cd ${WORK_DIR}/imputed_data/CAS/"
   ]
  },
  {
   "cell_type": "code",
   "execution_count": 1,
   "id": "be5e9b77-f609-4a3b-883b-f356a2d0e8f0",
   "metadata": {
    "vscode": {
     "languageId": "r"
    }
   },
   "outputs": [
    {
     "name": "stderr",
     "output_type": "stream",
     "text": [
      "Loading required package: ggplot2\n",
      "\n",
      "Loading required package: lattice\n",
      "\n",
      "Type 'citation(\"pROC\")' for a citation.\n",
      "\n",
      "\n",
      "Attaching package: ‘pROC’\n",
      "\n",
      "\n",
      "The following objects are masked from ‘package:stats’:\n",
      "\n",
      "    cov, smooth, var\n",
      "\n",
      "\n"
     ]
    },
    {
     "name": "stdout",
     "output_type": "stream",
     "text": [
      "[1] \n",
      "[1] \"AFRICANS\"\n"
     ]
    },
    {
     "data": {
      "text/plain": [
       "Confusion Matrix and Statistics\n",
       "\n",
       "          Reference\n",
       "Prediction CONTROL DISEASE\n",
       "   CONTROL     175     153\n",
       "   DISEASE     119     133\n",
       "                                          \n",
       "               Accuracy : 0.531           \n",
       "                 95% CI : (0.4895, 0.5723)\n",
       "    No Information Rate : 0.5069          \n",
       "    P-Value [Acc > NIR] : 0.1311          \n",
       "                                          \n",
       "                  Kappa : 0.0604          \n",
       "                                          \n",
       " Mcnemar's Test P-Value : 0.0454          \n",
       "                                          \n",
       "            Sensitivity : 0.4650          \n",
       "            Specificity : 0.5952          \n",
       "         Pos Pred Value : 0.5278          \n",
       "         Neg Pred Value : 0.5335          \n",
       "             Prevalence : 0.4931          \n",
       "         Detection Rate : 0.2293          \n",
       "   Detection Prevalence : 0.4345          \n",
       "      Balanced Accuracy : 0.5301          \n",
       "                                          \n",
       "       'Positive' Class : DISEASE         \n",
       "                                          "
      ]
     },
     "metadata": {},
     "output_type": "display_data"
    },
    {
     "name": "stderr",
     "output_type": "stream",
     "text": [
      "Setting levels: control = CONTROL, case = DISEASE\n",
      "\n",
      "Setting direction: controls < cases\n",
      "\n"
     ]
    },
    {
     "data": {
      "text/plain": [
       "\n",
       "Call:\n",
       "roc.default(response = dat$reported, predictor = dat$probDisease)\n",
       "\n",
       "Data: dat$probDisease in 294 controls (dat$reported CONTROL) < 286 cases (dat$reported DISEASE).\n",
       "Area under the curve: 0.5493"
      ]
     },
     "metadata": {},
     "output_type": "display_data"
    },
    {
     "name": "stdout",
     "output_type": "stream",
     "text": [
      "[1] \n",
      "[1] \"EUROPEANS\"\n"
     ]
    },
    {
     "data": {
      "text/plain": [
       "Confusion Matrix and Statistics\n",
       "\n",
       "          Reference\n",
       "Prediction CONTROL DISEASE\n",
       "   CONTROL     168     146\n",
       "   DISEASE     126     140\n",
       "                                          \n",
       "               Accuracy : 0.531           \n",
       "                 95% CI : (0.4895, 0.5723)\n",
       "    No Information Rate : 0.5069          \n",
       "    P-Value [Acc > NIR] : 0.1311          \n",
       "                                          \n",
       "                  Kappa : 0.061           \n",
       "                                          \n",
       " Mcnemar's Test P-Value : 0.2493          \n",
       "                                          \n",
       "            Sensitivity : 0.4895          \n",
       "            Specificity : 0.5714          \n",
       "         Pos Pred Value : 0.5263          \n",
       "         Neg Pred Value : 0.5350          \n",
       "             Prevalence : 0.4931          \n",
       "         Detection Rate : 0.2414          \n",
       "   Detection Prevalence : 0.4586          \n",
       "      Balanced Accuracy : 0.5305          \n",
       "                                          \n",
       "       'Positive' Class : DISEASE         \n",
       "                                          "
      ]
     },
     "metadata": {},
     "output_type": "display_data"
    },
    {
     "name": "stderr",
     "output_type": "stream",
     "text": [
      "Setting levels: control = CONTROL, case = DISEASE\n",
      "\n",
      "Setting direction: controls < cases\n",
      "\n"
     ]
    },
    {
     "data": {
      "text/plain": [
       "\n",
       "Call:\n",
       "roc.default(response = dat$reported, predictor = dat$probDisease)\n",
       "\n",
       "Data: dat$probDisease in 294 controls (dat$reported CONTROL) < 286 cases (dat$reported DISEASE).\n",
       "Area under the curve: 0.5634"
      ]
     },
     "metadata": {},
     "output_type": "display_data"
    },
    {
     "name": "stdout",
     "output_type": "stream",
     "text": [
      "[1] \n",
      "[1] \"LATINO\"\n"
     ]
    },
    {
     "data": {
      "text/plain": [
       "Confusion Matrix and Statistics\n",
       "\n",
       "          Reference\n",
       "Prediction CONTROL DISEASE\n",
       "   CONTROL     173     134\n",
       "   DISEASE     121     152\n",
       "                                          \n",
       "               Accuracy : 0.5603          \n",
       "                 95% CI : (0.5189, 0.6012)\n",
       "    No Information Rate : 0.5069          \n",
       "    P-Value [Acc > NIR] : 0.005604        \n",
       "                                          \n",
       "                  Kappa : 0.12            \n",
       "                                          \n",
       " Mcnemar's Test P-Value : 0.452370        \n",
       "                                          \n",
       "            Sensitivity : 0.5315          \n",
       "            Specificity : 0.5884          \n",
       "         Pos Pred Value : 0.5568          \n",
       "         Neg Pred Value : 0.5635          \n",
       "             Prevalence : 0.4931          \n",
       "         Detection Rate : 0.2621          \n",
       "   Detection Prevalence : 0.4707          \n",
       "      Balanced Accuracy : 0.5600          \n",
       "                                          \n",
       "       'Positive' Class : DISEASE         \n",
       "                                          "
      ]
     },
     "metadata": {},
     "output_type": "display_data"
    },
    {
     "name": "stderr",
     "output_type": "stream",
     "text": [
      "Setting levels: control = CONTROL, case = DISEASE\n",
      "\n",
      "Setting direction: controls < cases\n",
      "\n"
     ]
    },
    {
     "data": {
      "text/plain": [
       "\n",
       "Call:\n",
       "roc.default(response = dat$reported, predictor = dat$probDisease)\n",
       "\n",
       "Data: dat$probDisease in 294 controls (dat$reported CONTROL) < 286 cases (dat$reported DISEASE).\n",
       "Area under the curve: 0.5829"
      ]
     },
     "metadata": {},
     "output_type": "display_data"
    },
    {
     "name": "stdout",
     "output_type": "stream",
     "text": [
      "[1] \n",
      "[1] \"EASTASIANS\"\n"
     ]
    },
    {
     "data": {
      "text/plain": [
       "Confusion Matrix and Statistics\n",
       "\n",
       "          Reference\n",
       "Prediction CONTROL DISEASE\n",
       "   CONTROL     169     141\n",
       "   DISEASE     125     145\n",
       "                                          \n",
       "               Accuracy : 0.5414          \n",
       "                 95% CI : (0.4998, 0.5825)\n",
       "    No Information Rate : 0.5069          \n",
       "    P-Value [Acc > NIR] : 0.05259         \n",
       "                                          \n",
       "                  Kappa : 0.0819          \n",
       "                                          \n",
       " Mcnemar's Test P-Value : 0.35772         \n",
       "                                          \n",
       "            Sensitivity : 0.5070          \n",
       "            Specificity : 0.5748          \n",
       "         Pos Pred Value : 0.5370          \n",
       "         Neg Pred Value : 0.5452          \n",
       "             Prevalence : 0.4931          \n",
       "         Detection Rate : 0.2500          \n",
       "   Detection Prevalence : 0.4655          \n",
       "      Balanced Accuracy : 0.5409          \n",
       "                                          \n",
       "       'Positive' Class : DISEASE         \n",
       "                                          "
      ]
     },
     "metadata": {},
     "output_type": "display_data"
    },
    {
     "name": "stderr",
     "output_type": "stream",
     "text": [
      "Setting levels: control = CONTROL, case = DISEASE\n",
      "\n",
      "Setting direction: controls < cases\n",
      "\n"
     ]
    },
    {
     "data": {
      "text/plain": [
       "\n",
       "Call:\n",
       "roc.default(response = dat$reported, predictor = dat$probDisease)\n",
       "\n",
       "Data: dat$probDisease in 294 controls (dat$reported CONTROL) < 286 cases (dat$reported DISEASE).\n",
       "Area under the curve: 0.563"
      ]
     },
     "metadata": {},
     "output_type": "display_data"
    }
   ],
   "source": [
    "### RISK\n",
    "library(data.table)\n",
    "setwd(\"./imputed_data/CAS/\")\n",
    "library(caret)\n",
    "library(pROC)\n",
    "data <- read.table(\"PRS_score_release_AFRICANS.profile\", header = T) \n",
    "data$CASE <- data$PHENO - 1\n",
    "dat <- subset(data, CASE != -10)\n",
    "meanControls <- mean(dat$SCORE[dat$CASE == 0])\n",
    "sdControls <- sd(dat$SCORE[dat$CASE == 0])\n",
    "dat$zSCORE <- (dat$SCORE - meanControls)/sdControls\n",
    "grsTests <- glm(CASE ~ zSCORE, family=\"binomial\", data = dat)\n",
    "dat$probDisease <- predict(grsTests, dat, type = c(\"response\"))\n",
    "dat$predicted <- ifelse(dat$probDisease > 0.5, \"DISEASE\", \"CONTROL\")\n",
    "dat$reported <- ifelse(dat$CASE == 1, \"DISEASE\",\"CONTROL\")\n",
    "confMat <- confusionMatrix(data = as.factor(dat$predicted), reference = as.factor(dat$reported), positive = \"DISEASE\")\n",
    "print(noquote(\"\"))\n",
    "print(\"AFRICANS\")\n",
    "confMat\n",
    "roc <- roc(response = dat$reported, predictor = dat$probDisease)\n",
    "roc\n",
    "\n",
    "library(data.table)\n",
    "library(caret)\n",
    "data <- read.table(\"PRS_score_release_EUROPEAN.profile\", header = T) \n",
    "data$CASE <- data$PHENO - 1\n",
    "dat <- subset(data, CASE != -10)\n",
    "meanControls <- mean(dat$SCORE[dat$CASE == 0])\n",
    "sdControls <- sd(dat$SCORE[dat$CASE == 0])\n",
    "dat$zSCORE <- (dat$SCORE - meanControls)/sdControls\n",
    "grsTests <- glm(CASE ~ zSCORE, family=\"binomial\", data = dat)\n",
    "dat$probDisease <- predict(grsTests, dat, type = c(\"response\"))\n",
    "dat$predicted <- ifelse(dat$probDisease > 0.5, \"DISEASE\", \"CONTROL\")\n",
    "dat$reported <- ifelse(dat$CASE == 1, \"DISEASE\",\"CONTROL\")\n",
    "confMat <- confusionMatrix(data = as.factor(dat$predicted), reference = as.factor(dat$reported), positive = \"DISEASE\")\n",
    "print(noquote(\"\"))\n",
    "print(\"EUROPEANS\")\n",
    "confMat\n",
    "roc <- roc(response = dat$reported, predictor = dat$probDisease)\n",
    "roc\n",
    "\n",
    "library(data.table)\n",
    "library(caret)\n",
    "data <- read.table(\"PRS_score_release_LATINO.profile\", header = T) \n",
    "data$CASE <- data$PHENO - 1\n",
    "dat <- subset(data, CASE != -10)\n",
    "meanControls <- mean(dat$SCORE[dat$CASE == 0])\n",
    "sdControls <- sd(dat$SCORE[dat$CASE == 0])\n",
    "dat$zSCORE <- (dat$SCORE - meanControls)/sdControls\n",
    "grsTests <- glm(CASE ~ zSCORE, family=\"binomial\", data = dat)\n",
    "dat$probDisease <- predict(grsTests, dat, type = c(\"response\"))\n",
    "dat$predicted <- ifelse(dat$probDisease > 0.5, \"DISEASE\", \"CONTROL\")\n",
    "dat$reported <- ifelse(dat$CASE == 1, \"DISEASE\",\"CONTROL\")\n",
    "confMat <- confusionMatrix(data = as.factor(dat$predicted), reference = as.factor(dat$reported), positive = \"DISEASE\")\n",
    "print(noquote(\"\"))\n",
    "print(\"LATINO\")\n",
    "confMat\n",
    "roc <- roc(response = dat$reported, predictor = dat$probDisease)\n",
    "roc\n",
    "\n",
    "library(data.table)\n",
    "library(caret)\n",
    "data <- read.table(\"PRS_score_release_EASTASIANS.profile\", header = T) \n",
    "data$CASE <- data$PHENO - 1\n",
    "dat <- subset(data, CASE != -10)\n",
    "meanControls <- mean(dat$SCORE[dat$CASE == 0])\n",
    "sdControls <- sd(dat$SCORE[dat$CASE == 0])\n",
    "dat$zSCORE <- (dat$SCORE - meanControls)/sdControls\n",
    "grsTests <- glm(CASE ~ zSCORE, family=\"binomial\", data = dat)\n",
    "dat$probDisease <- predict(grsTests, dat, type = c(\"response\"))\n",
    "dat$predicted <- ifelse(dat$probDisease > 0.5, \"DISEASE\", \"CONTROL\")\n",
    "dat$reported <- ifelse(dat$CASE == 1, \"DISEASE\",\"CONTROL\")\n",
    "confMat <- confusionMatrix(data = as.factor(dat$predicted), reference = as.factor(dat$reported), positive = \"DISEASE\")\n",
    "print(noquote(\"\"))\n",
    "print(\"EASTASIANS\")\n",
    "confMat\n",
    "roc <- roc(response = dat$reported, predictor = dat$probDisease)\n",
    "roc"
   ]
  },
  {
   "cell_type": "code",
   "execution_count": 1,
   "id": "9e64cfc3-707c-40ca-ad60-77bc0e025d34",
   "metadata": {
    "vscode": {
     "languageId": "r"
    }
   },
   "outputs": [],
   "source": [
    "###################################### EAS ###################################### \n",
    "cd ${WORK_DIR}/imputed_data/EAS/"
   ]
  },
  {
   "cell_type": "code",
   "execution_count": 1,
   "id": "001bb3ce-30fb-4591-bf07-ff59f559da54",
   "metadata": {
    "vscode": {
     "languageId": "r"
    }
   },
   "outputs": [
    {
     "name": "stderr",
     "output_type": "stream",
     "text": [
      "Loading required package: ggplot2\n",
      "\n",
      "Loading required package: lattice\n",
      "\n",
      "Type 'citation(\"pROC\")' for a citation.\n",
      "\n",
      "\n",
      "Attaching package: ‘pROC’\n",
      "\n",
      "\n",
      "The following objects are masked from ‘package:stats’:\n",
      "\n",
      "    cov, smooth, var\n",
      "\n",
      "\n"
     ]
    },
    {
     "name": "stdout",
     "output_type": "stream",
     "text": [
      "[1] \n",
      "[1] \"AFRICANS\"\n"
     ]
    },
    {
     "data": {
      "text/plain": [
       "Confusion Matrix and Statistics\n",
       "\n",
       "          Reference\n",
       "Prediction CONTROL DISEASE\n",
       "   CONTROL    2273    1460\n",
       "   DISEASE     105     117\n",
       "                                          \n",
       "               Accuracy : 0.6043          \n",
       "                 95% CI : (0.5889, 0.6196)\n",
       "    No Information Rate : 0.6013          \n",
       "    P-Value [Acc > NIR] : 0.3548          \n",
       "                                          \n",
       "                  Kappa : 0.0351          \n",
       "                                          \n",
       " Mcnemar's Test P-Value : <2e-16          \n",
       "                                          \n",
       "            Sensitivity : 0.07419         \n",
       "            Specificity : 0.95585         \n",
       "         Pos Pred Value : 0.52703         \n",
       "         Neg Pred Value : 0.60889         \n",
       "             Prevalence : 0.39874         \n",
       "         Detection Rate : 0.02958         \n",
       "   Detection Prevalence : 0.05613         \n",
       "      Balanced Accuracy : 0.51502         \n",
       "                                          \n",
       "       'Positive' Class : DISEASE         \n",
       "                                          "
      ]
     },
     "metadata": {},
     "output_type": "display_data"
    },
    {
     "name": "stderr",
     "output_type": "stream",
     "text": [
      "Setting levels: control = CONTROL, case = DISEASE\n",
      "\n",
      "Setting direction: controls < cases\n",
      "\n"
     ]
    },
    {
     "data": {
      "text/plain": [
       "\n",
       "Call:\n",
       "roc.default(response = dat$reported, predictor = dat$probDisease)\n",
       "\n",
       "Data: dat$probDisease in 2378 controls (dat$reported CONTROL) < 1577 cases (dat$reported DISEASE).\n",
       "Area under the curve: 0.5724"
      ]
     },
     "metadata": {},
     "output_type": "display_data"
    },
    {
     "name": "stdout",
     "output_type": "stream",
     "text": [
      "[1] \n",
      "[1] \"EUROPEANS\"\n"
     ]
    },
    {
     "data": {
      "text/plain": [
       "Confusion Matrix and Statistics\n",
       "\n",
       "          Reference\n",
       "Prediction CONTROL DISEASE\n",
       "   CONTROL    2063    1182\n",
       "   DISEASE     315     395\n",
       "                                          \n",
       "               Accuracy : 0.6215          \n",
       "                 95% CI : (0.6062, 0.6366)\n",
       "    No Information Rate : 0.6013          \n",
       "    P-Value [Acc > NIR] : 0.004822        \n",
       "                                          \n",
       "                  Kappa : 0.1301          \n",
       "                                          \n",
       " Mcnemar's Test P-Value : < 2.2e-16       \n",
       "                                          \n",
       "            Sensitivity : 0.25048         \n",
       "            Specificity : 0.86754         \n",
       "         Pos Pred Value : 0.55634         \n",
       "         Neg Pred Value : 0.63575         \n",
       "             Prevalence : 0.39874         \n",
       "         Detection Rate : 0.09987         \n",
       "   Detection Prevalence : 0.17952         \n",
       "      Balanced Accuracy : 0.55901         \n",
       "                                          \n",
       "       'Positive' Class : DISEASE         \n",
       "                                          "
      ]
     },
     "metadata": {},
     "output_type": "display_data"
    },
    {
     "name": "stderr",
     "output_type": "stream",
     "text": [
      "Setting levels: control = CONTROL, case = DISEASE\n",
      "\n",
      "Setting direction: controls < cases\n",
      "\n"
     ]
    },
    {
     "data": {
      "text/plain": [
       "\n",
       "Call:\n",
       "roc.default(response = dat$reported, predictor = dat$probDisease)\n",
       "\n",
       "Data: dat$probDisease in 2378 controls (dat$reported CONTROL) < 1577 cases (dat$reported DISEASE).\n",
       "Area under the curve: 0.6231"
      ]
     },
     "metadata": {},
     "output_type": "display_data"
    },
    {
     "name": "stdout",
     "output_type": "stream",
     "text": [
      "[1] \n",
      "[1] \"LATINO\"\n"
     ]
    },
    {
     "data": {
      "text/plain": [
       "Confusion Matrix and Statistics\n",
       "\n",
       "          Reference\n",
       "Prediction CONTROL DISEASE\n",
       "   CONTROL    2261    1463\n",
       "   DISEASE     117     114\n",
       "                                         \n",
       "               Accuracy : 0.6005         \n",
       "                 95% CI : (0.585, 0.6158)\n",
       "    No Information Rate : 0.6013         \n",
       "    P-Value [Acc > NIR] : 0.5457         \n",
       "                                         \n",
       "                  Kappa : 0.027          \n",
       "                                         \n",
       " Mcnemar's Test P-Value : <2e-16         \n",
       "                                         \n",
       "            Sensitivity : 0.07229        \n",
       "            Specificity : 0.95080        \n",
       "         Pos Pred Value : 0.49351        \n",
       "         Neg Pred Value : 0.60714        \n",
       "             Prevalence : 0.39874        \n",
       "         Detection Rate : 0.02882        \n",
       "   Detection Prevalence : 0.05841        \n",
       "      Balanced Accuracy : 0.51154        \n",
       "                                         \n",
       "       'Positive' Class : DISEASE        \n",
       "                                         "
      ]
     },
     "metadata": {},
     "output_type": "display_data"
    },
    {
     "name": "stderr",
     "output_type": "stream",
     "text": [
      "Setting levels: control = CONTROL, case = DISEASE\n",
      "\n",
      "Setting direction: controls < cases\n",
      "\n"
     ]
    },
    {
     "data": {
      "text/plain": [
       "\n",
       "Call:\n",
       "roc.default(response = dat$reported, predictor = dat$probDisease)\n",
       "\n",
       "Data: dat$probDisease in 2378 controls (dat$reported CONTROL) < 1577 cases (dat$reported DISEASE).\n",
       "Area under the curve: 0.575"
      ]
     },
     "metadata": {},
     "output_type": "display_data"
    },
    {
     "name": "stdout",
     "output_type": "stream",
     "text": [
      "[1] \n",
      "[1] \"EASTASIANS\"\n"
     ]
    },
    {
     "data": {
      "text/plain": [
       "Confusion Matrix and Statistics\n",
       "\n",
       "          Reference\n",
       "Prediction CONTROL DISEASE\n",
       "   CONTROL    2330    1543\n",
       "   DISEASE      48      34\n",
       "                                          \n",
       "               Accuracy : 0.5977          \n",
       "                 95% CI : (0.5822, 0.6131)\n",
       "    No Information Rate : 0.6013          \n",
       "    P-Value [Acc > NIR] : 0.6814          \n",
       "                                          \n",
       "                  Kappa : 0.0016          \n",
       "                                          \n",
       " Mcnemar's Test P-Value : <2e-16          \n",
       "                                          \n",
       "            Sensitivity : 0.021560        \n",
       "            Specificity : 0.979815        \n",
       "         Pos Pred Value : 0.414634        \n",
       "         Neg Pred Value : 0.601601        \n",
       "             Prevalence : 0.398736        \n",
       "         Detection Rate : 0.008597        \n",
       "   Detection Prevalence : 0.020733        \n",
       "      Balanced Accuracy : 0.500687        \n",
       "                                          \n",
       "       'Positive' Class : DISEASE         \n",
       "                                          "
      ]
     },
     "metadata": {},
     "output_type": "display_data"
    },
    {
     "name": "stderr",
     "output_type": "stream",
     "text": [
      "Setting levels: control = CONTROL, case = DISEASE\n",
      "\n",
      "Setting direction: controls < cases\n",
      "\n"
     ]
    },
    {
     "data": {
      "text/plain": [
       "\n",
       "Call:\n",
       "roc.default(response = dat$reported, predictor = dat$probDisease)\n",
       "\n",
       "Data: dat$probDisease in 2378 controls (dat$reported CONTROL) < 1577 cases (dat$reported DISEASE).\n",
       "Area under the curve: 0.5579"
      ]
     },
     "metadata": {},
     "output_type": "display_data"
    }
   ],
   "source": [
    "### RISK\n",
    "library(data.table)\n",
    "setwd(\"./imputed_data/EAS/\")\n",
    "library(caret)\n",
    "library(pROC)\n",
    "data <- read.table(\"PRS_score_release_AFRICANS.profile\", header = T) \n",
    "data$CASE <- data$PHENO - 1\n",
    "dat <- subset(data, CASE != -10)\n",
    "meanControls <- mean(dat$SCORE[dat$CASE == 0])\n",
    "sdControls <- sd(dat$SCORE[dat$CASE == 0])\n",
    "dat$zSCORE <- (dat$SCORE - meanControls)/sdControls\n",
    "grsTests <- glm(CASE ~ zSCORE, family=\"binomial\", data = dat)\n",
    "dat$probDisease <- predict(grsTests, dat, type = c(\"response\"))\n",
    "dat$predicted <- ifelse(dat$probDisease > 0.5, \"DISEASE\", \"CONTROL\")\n",
    "dat$reported <- ifelse(dat$CASE == 1, \"DISEASE\",\"CONTROL\")\n",
    "confMat <- confusionMatrix(data = as.factor(dat$predicted), reference = as.factor(dat$reported), positive = \"DISEASE\")\n",
    "print(noquote(\"\"))\n",
    "print(\"AFRICANS\")\n",
    "confMat\n",
    "roc <- roc(response = dat$reported, predictor = dat$probDisease)\n",
    "roc\n",
    "\n",
    "library(data.table)\n",
    "library(caret)\n",
    "data <- read.table(\"PRS_score_release_EUROPEAN.profile\", header = T) \n",
    "data$CASE <- data$PHENO - 1\n",
    "dat <- subset(data, CASE != -10)\n",
    "meanControls <- mean(dat$SCORE[dat$CASE == 0])\n",
    "sdControls <- sd(dat$SCORE[dat$CASE == 0])\n",
    "dat$zSCORE <- (dat$SCORE - meanControls)/sdControls\n",
    "grsTests <- glm(CASE ~ zSCORE, family=\"binomial\", data = dat)\n",
    "dat$probDisease <- predict(grsTests, dat, type = c(\"response\"))\n",
    "dat$predicted <- ifelse(dat$probDisease > 0.5, \"DISEASE\", \"CONTROL\")\n",
    "dat$reported <- ifelse(dat$CASE == 1, \"DISEASE\",\"CONTROL\")\n",
    "confMat <- confusionMatrix(data = as.factor(dat$predicted), reference = as.factor(dat$reported), positive = \"DISEASE\")\n",
    "print(noquote(\"\"))\n",
    "print(\"EUROPEANS\")\n",
    "confMat\n",
    "roc <- roc(response = dat$reported, predictor = dat$probDisease)\n",
    "roc\n",
    "\n",
    "library(data.table)\n",
    "library(caret)\n",
    "data <- read.table(\"PRS_score_release_LATINO.profile\", header = T) \n",
    "data$CASE <- data$PHENO - 1\n",
    "dat <- subset(data, CASE != -10)\n",
    "meanControls <- mean(dat$SCORE[dat$CASE == 0])\n",
    "sdControls <- sd(dat$SCORE[dat$CASE == 0])\n",
    "dat$zSCORE <- (dat$SCORE - meanControls)/sdControls\n",
    "grsTests <- glm(CASE ~ zSCORE, family=\"binomial\", data = dat)\n",
    "dat$probDisease <- predict(grsTests, dat, type = c(\"response\"))\n",
    "dat$predicted <- ifelse(dat$probDisease > 0.5, \"DISEASE\", \"CONTROL\")\n",
    "dat$reported <- ifelse(dat$CASE == 1, \"DISEASE\",\"CONTROL\")\n",
    "confMat <- confusionMatrix(data = as.factor(dat$predicted), reference = as.factor(dat$reported), positive = \"DISEASE\")\n",
    "print(noquote(\"\"))\n",
    "print(\"LATINO\")\n",
    "confMat\n",
    "roc <- roc(response = dat$reported, predictor = dat$probDisease)\n",
    "roc\n",
    "\n",
    "library(data.table)\n",
    "library(caret)\n",
    "data <- read.table(\"PRS_score_release_EASTASIANS.profile\", header = T) \n",
    "data$CASE <- data$PHENO - 1\n",
    "dat <- subset(data, CASE != -10)\n",
    "meanControls <- mean(dat$SCORE[dat$CASE == 0])\n",
    "sdControls <- sd(dat$SCORE[dat$CASE == 0])\n",
    "dat$zSCORE <- (dat$SCORE - meanControls)/sdControls\n",
    "grsTests <- glm(CASE ~ zSCORE, family=\"binomial\", data = dat)\n",
    "dat$probDisease <- predict(grsTests, dat, type = c(\"response\"))\n",
    "dat$predicted <- ifelse(dat$probDisease > 0.5, \"DISEASE\", \"CONTROL\")\n",
    "dat$reported <- ifelse(dat$CASE == 1, \"DISEASE\",\"CONTROL\")\n",
    "confMat <- confusionMatrix(data = as.factor(dat$predicted), reference = as.factor(dat$reported), positive = \"DISEASE\")\n",
    "print(noquote(\"\"))\n",
    "print(\"EASTASIANS\")\n",
    "confMat\n",
    "roc <- roc(response = dat$reported, predictor = dat$probDisease)\n",
    "roc"
   ]
  },
  {
   "cell_type": "code",
   "execution_count": 1,
   "id": "f6d054a5-9a4d-49c8-93a3-a2f66c66b519",
   "metadata": {
    "vscode": {
     "languageId": "r"
    }
   },
   "outputs": [],
   "source": [
    "###################################### EUR ###################################### \n",
    "cd ${WORK_DIR}/imputed_data/EUR/"
   ]
  },
  {
   "cell_type": "code",
   "execution_count": 1,
   "id": "12689105-9c7f-44e8-b9ff-47ed1ae69428",
   "metadata": {
    "vscode": {
     "languageId": "r"
    }
   },
   "outputs": [
    {
     "name": "stderr",
     "output_type": "stream",
     "text": [
      "Loading required package: ggplot2\n",
      "\n",
      "Loading required package: lattice\n",
      "\n",
      "Type 'citation(\"pROC\")' for a citation.\n",
      "\n",
      "\n",
      "Attaching package: ‘pROC’\n",
      "\n",
      "\n",
      "The following objects are masked from ‘package:stats’:\n",
      "\n",
      "    cov, smooth, var\n",
      "\n",
      "\n"
     ]
    },
    {
     "name": "stdout",
     "output_type": "stream",
     "text": [
      "[1] \n",
      "[1] \"AFRICANS\"\n"
     ]
    },
    {
     "data": {
      "text/plain": [
       "Confusion Matrix and Statistics\n",
       "\n",
       "          Reference\n",
       "Prediction CONTROL DISEASE\n",
       "   CONTROL       4       3\n",
       "   DISEASE    7592   11838\n",
       "                                          \n",
       "               Accuracy : 0.6093          \n",
       "                 95% CI : (0.6023, 0.6161)\n",
       "    No Information Rate : 0.6092          \n",
       "    P-Value [Acc > NIR] : 0.4973          \n",
       "                                          \n",
       "                  Kappa : 3e-04           \n",
       "                                          \n",
       " Mcnemar's Test P-Value : <2e-16          \n",
       "                                          \n",
       "            Sensitivity : 0.9997466       \n",
       "            Specificity : 0.0005266       \n",
       "         Pos Pred Value : 0.6092640       \n",
       "         Neg Pred Value : 0.5714286       \n",
       "             Prevalence : 0.6091990       \n",
       "         Detection Rate : 0.6090446       \n",
       "   Detection Prevalence : 0.9996399       \n",
       "      Balanced Accuracy : 0.5001366       \n",
       "                                          \n",
       "       'Positive' Class : DISEASE         \n",
       "                                          "
      ]
     },
     "metadata": {},
     "output_type": "display_data"
    },
    {
     "name": "stderr",
     "output_type": "stream",
     "text": [
      "Setting levels: control = CONTROL, case = DISEASE\n",
      "\n",
      "Setting direction: controls < cases\n",
      "\n"
     ]
    },
    {
     "data": {
      "text/plain": [
       "\n",
       "Call:\n",
       "roc.default(response = dat$reported, predictor = dat$probDisease)\n",
       "\n",
       "Data: dat$probDisease in 7596 controls (dat$reported CONTROL) < 11841 cases (dat$reported DISEASE).\n",
       "Area under the curve: 0.5385"
      ]
     },
     "metadata": {},
     "output_type": "display_data"
    },
    {
     "name": "stdout",
     "output_type": "stream",
     "text": [
      "[1] \n",
      "[1] \"EUROPEANS\"\n"
     ]
    },
    {
     "data": {
      "text/plain": [
       "Confusion Matrix and Statistics\n",
       "\n",
       "          Reference\n",
       "Prediction CONTROL DISEASE\n",
       "   CONTROL    1832    1390\n",
       "   DISEASE    5764   10451\n",
       "                                          \n",
       "               Accuracy : 0.6319          \n",
       "                 95% CI : (0.6251, 0.6387)\n",
       "    No Information Rate : 0.6092          \n",
       "    P-Value [Acc > NIR] : 3.669e-11       \n",
       "                                          \n",
       "                  Kappa : 0.138           \n",
       "                                          \n",
       " Mcnemar's Test P-Value : < 2.2e-16       \n",
       "                                          \n",
       "            Sensitivity : 0.8826          \n",
       "            Specificity : 0.2412          \n",
       "         Pos Pred Value : 0.6445          \n",
       "         Neg Pred Value : 0.5686          \n",
       "             Prevalence : 0.6092          \n",
       "         Detection Rate : 0.5377          \n",
       "   Detection Prevalence : 0.8342          \n",
       "      Balanced Accuracy : 0.5619          \n",
       "                                          \n",
       "       'Positive' Class : DISEASE         \n",
       "                                          "
      ]
     },
     "metadata": {},
     "output_type": "display_data"
    },
    {
     "name": "stderr",
     "output_type": "stream",
     "text": [
      "Setting levels: control = CONTROL, case = DISEASE\n",
      "\n",
      "Setting direction: controls < cases\n",
      "\n"
     ]
    },
    {
     "data": {
      "text/plain": [
       "\n",
       "Call:\n",
       "roc.default(response = dat$reported, predictor = dat$probDisease)\n",
       "\n",
       "Data: dat$probDisease in 7596 controls (dat$reported CONTROL) < 11841 cases (dat$reported DISEASE).\n",
       "Area under the curve: 0.6303"
      ]
     },
     "metadata": {},
     "output_type": "display_data"
    },
    {
     "name": "stdout",
     "output_type": "stream",
     "text": [
      "[1] \n",
      "[1] \"LATINO\"\n"
     ]
    },
    {
     "data": {
      "text/plain": [
       "Confusion Matrix and Statistics\n",
       "\n",
       "          Reference\n",
       "Prediction CONTROL DISEASE\n",
       "   CONTROL     344     321\n",
       "   DISEASE    7252   11520\n",
       "                                          \n",
       "               Accuracy : 0.6104          \n",
       "                 95% CI : (0.6035, 0.6172)\n",
       "    No Information Rate : 0.6092          \n",
       "    P-Value [Acc > NIR] : 0.3706          \n",
       "                                          \n",
       "                  Kappa : 0.0217          \n",
       "                                          \n",
       " Mcnemar's Test P-Value : <2e-16          \n",
       "                                          \n",
       "            Sensitivity : 0.97289         \n",
       "            Specificity : 0.04529         \n",
       "         Pos Pred Value : 0.61368         \n",
       "         Neg Pred Value : 0.51729         \n",
       "             Prevalence : 0.60920         \n",
       "         Detection Rate : 0.59268         \n",
       "   Detection Prevalence : 0.96579         \n",
       "      Balanced Accuracy : 0.50909         \n",
       "                                          \n",
       "       'Positive' Class : DISEASE         \n",
       "                                          "
      ]
     },
     "metadata": {},
     "output_type": "display_data"
    },
    {
     "name": "stderr",
     "output_type": "stream",
     "text": [
      "Setting levels: control = CONTROL, case = DISEASE\n",
      "\n",
      "Setting direction: controls < cases\n",
      "\n"
     ]
    },
    {
     "data": {
      "text/plain": [
       "\n",
       "Call:\n",
       "roc.default(response = dat$reported, predictor = dat$probDisease)\n",
       "\n",
       "Data: dat$probDisease in 7596 controls (dat$reported CONTROL) < 11841 cases (dat$reported DISEASE).\n",
       "Area under the curve: 0.5689"
      ]
     },
     "metadata": {},
     "output_type": "display_data"
    },
    {
     "name": "stdout",
     "output_type": "stream",
     "text": [
      "[1] \n",
      "[1] \"EASTASIANS\"\n"
     ]
    },
    {
     "data": {
      "text/plain": [
       "Confusion Matrix and Statistics\n",
       "\n",
       "          Reference\n",
       "Prediction CONTROL DISEASE\n",
       "   CONTROL     697     586\n",
       "   DISEASE    6899   11255\n",
       "                                         \n",
       "               Accuracy : 0.6149         \n",
       "                 95% CI : (0.608, 0.6218)\n",
       "    No Information Rate : 0.6092         \n",
       "    P-Value [Acc > NIR] : 0.05205        \n",
       "                                         \n",
       "                  Kappa : 0.0497         \n",
       "                                         \n",
       " Mcnemar's Test P-Value : < 2e-16        \n",
       "                                         \n",
       "            Sensitivity : 0.95051        \n",
       "            Specificity : 0.09176        \n",
       "         Pos Pred Value : 0.61997        \n",
       "         Neg Pred Value : 0.54326        \n",
       "             Prevalence : 0.60920        \n",
       "         Detection Rate : 0.57905        \n",
       "   Detection Prevalence : 0.93399        \n",
       "      Balanced Accuracy : 0.52113        \n",
       "                                         \n",
       "       'Positive' Class : DISEASE        \n",
       "                                         "
      ]
     },
     "metadata": {},
     "output_type": "display_data"
    },
    {
     "name": "stderr",
     "output_type": "stream",
     "text": [
      "Setting levels: control = CONTROL, case = DISEASE\n",
      "\n",
      "Setting direction: controls < cases\n",
      "\n"
     ]
    },
    {
     "data": {
      "text/plain": [
       "\n",
       "Call:\n",
       "roc.default(response = dat$reported, predictor = dat$probDisease)\n",
       "\n",
       "Data: dat$probDisease in 7596 controls (dat$reported CONTROL) < 11841 cases (dat$reported DISEASE).\n",
       "Area under the curve: 0.5822"
      ]
     },
     "metadata": {},
     "output_type": "display_data"
    }
   ],
   "source": [
    "### RISK\n",
    "library(data.table)\n",
    "setwd(\"./imputed_data/EUR/\")\n",
    "library(caret)\n",
    "library(pROC)\n",
    "data <- read.table(\"PRS_score_release_AFRICANS.profile\", header = T) \n",
    "data$CASE <- data$PHENO - 1\n",
    "dat <- subset(data, CASE != -10)\n",
    "meanControls <- mean(dat$SCORE[dat$CASE == 0])\n",
    "sdControls <- sd(dat$SCORE[dat$CASE == 0])\n",
    "dat$zSCORE <- (dat$SCORE - meanControls)/sdControls\n",
    "grsTests <- glm(CASE ~ zSCORE, family=\"binomial\", data = dat)\n",
    "dat$probDisease <- predict(grsTests, dat, type = c(\"response\"))\n",
    "dat$predicted <- ifelse(dat$probDisease > 0.5, \"DISEASE\", \"CONTROL\")\n",
    "dat$reported <- ifelse(dat$CASE == 1, \"DISEASE\",\"CONTROL\")\n",
    "confMat <- confusionMatrix(data = as.factor(dat$predicted), reference = as.factor(dat$reported), positive = \"DISEASE\")\n",
    "print(noquote(\"\"))\n",
    "print(\"AFRICANS\")\n",
    "confMat\n",
    "roc <- roc(response = dat$reported, predictor = dat$probDisease)\n",
    "roc\n",
    "\n",
    "library(data.table)\n",
    "library(caret)\n",
    "data <- read.table(\"PRS_score_release_EUROPEAN.profile\", header = T) \n",
    "data$CASE <- data$PHENO - 1\n",
    "dat <- subset(data, CASE != -10)\n",
    "meanControls <- mean(dat$SCORE[dat$CASE == 0])\n",
    "sdControls <- sd(dat$SCORE[dat$CASE == 0])\n",
    "dat$zSCORE <- (dat$SCORE - meanControls)/sdControls\n",
    "grsTests <- glm(CASE ~ zSCORE, family=\"binomial\", data = dat)\n",
    "dat$probDisease <- predict(grsTests, dat, type = c(\"response\"))\n",
    "dat$predicted <- ifelse(dat$probDisease > 0.5, \"DISEASE\", \"CONTROL\")\n",
    "dat$reported <- ifelse(dat$CASE == 1, \"DISEASE\",\"CONTROL\")\n",
    "confMat <- confusionMatrix(data = as.factor(dat$predicted), reference = as.factor(dat$reported), positive = \"DISEASE\")\n",
    "print(noquote(\"\"))\n",
    "print(\"EUROPEANS\")\n",
    "confMat\n",
    "roc <- roc(response = dat$reported, predictor = dat$probDisease)\n",
    "roc\n",
    "\n",
    "library(data.table)\n",
    "library(caret)\n",
    "data <- read.table(\"PRS_score_release_LATINO.profile\", header = T) \n",
    "data$CASE <- data$PHENO - 1\n",
    "dat <- subset(data, CASE != -10)\n",
    "meanControls <- mean(dat$SCORE[dat$CASE == 0])\n",
    "sdControls <- sd(dat$SCORE[dat$CASE == 0])\n",
    "dat$zSCORE <- (dat$SCORE - meanControls)/sdControls\n",
    "grsTests <- glm(CASE ~ zSCORE, family=\"binomial\", data = dat)\n",
    "dat$probDisease <- predict(grsTests, dat, type = c(\"response\"))\n",
    "dat$predicted <- ifelse(dat$probDisease > 0.5, \"DISEASE\", \"CONTROL\")\n",
    "dat$reported <- ifelse(dat$CASE == 1, \"DISEASE\",\"CONTROL\")\n",
    "confMat <- confusionMatrix(data = as.factor(dat$predicted), reference = as.factor(dat$reported), positive = \"DISEASE\")\n",
    "print(noquote(\"\"))\n",
    "print(\"LATINO\")\n",
    "confMat\n",
    "roc <- roc(response = dat$reported, predictor = dat$probDisease)\n",
    "roc\n",
    "\n",
    "library(data.table)\n",
    "library(caret)\n",
    "data <- read.table(\"PRS_score_release_EASTASIANS.profile\", header = T) \n",
    "data$CASE <- data$PHENO - 1\n",
    "dat <- subset(data, CASE != -10)\n",
    "meanControls <- mean(dat$SCORE[dat$CASE == 0])\n",
    "sdControls <- sd(dat$SCORE[dat$CASE == 0])\n",
    "dat$zSCORE <- (dat$SCORE - meanControls)/sdControls\n",
    "grsTests <- glm(CASE ~ zSCORE, family=\"binomial\", data = dat)\n",
    "dat$probDisease <- predict(grsTests, dat, type = c(\"response\"))\n",
    "dat$predicted <- ifelse(dat$probDisease > 0.5, \"DISEASE\", \"CONTROL\")\n",
    "dat$reported <- ifelse(dat$CASE == 1, \"DISEASE\",\"CONTROL\")\n",
    "confMat <- confusionMatrix(data = as.factor(dat$predicted), reference = as.factor(dat$reported), positive = \"DISEASE\")\n",
    "print(noquote(\"\"))\n",
    "print(\"EASTASIANS\")\n",
    "confMat\n",
    "roc <- roc(response = dat$reported, predictor = dat$probDisease)\n",
    "roc"
   ]
  },
  {
   "cell_type": "code",
   "execution_count": null,
   "id": "3d0cf42e-da5b-45fc-84a6-02f306271291",
   "metadata": {
    "vscode": {
     "languageId": "r"
    }
   },
   "outputs": [],
   "source": []
  }
 ],
 "metadata": {
  "kernelspec": {
   "display_name": "R/4.3",
   "language": "R",
   "name": "ir43"
  },
  "language_info": {
   "codemirror_mode": "r",
   "file_extension": ".r",
   "mimetype": "text/x-r-source",
   "name": "R",
   "pygments_lexer": "r",
   "version": "4.3.2"
  }
 },
 "nbformat": 4,
 "nbformat_minor": 5
}
