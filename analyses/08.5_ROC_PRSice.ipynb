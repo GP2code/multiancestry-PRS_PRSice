{
 "cells": [
  {
   "cell_type": "markdown",
   "id": "57ca8c63-1f94-42a2-940e-0a4f54bab173",
   "metadata": {},
   "source": [
    "# Estimate AUC for PRSice\n",
    "- **Project:** Multi-ancestry PRS\n",
    "- **Version:** Python/3.9\n",
    "- **Status:** COMPLETE\n",
    "- **Last Updated:** 2-MAY-2024\n",
    "\n",
    "## Notebook Overview\n",
    "- Estimate AUC for PRSice "
   ]
  },
  {
   "cell_type": "code",
   "execution_count": 2,
   "id": "8c73db19-2393-486f-a819-8f9d6b4e413e",
   "metadata": {
    "tags": [],
    "vscode": {
     "languageId": "r"
    }
   },
   "outputs": [
    {
     "name": "stderr",
     "output_type": "stream",
     "text": [
      "Loading required package: data.table\n",
      "\n",
      "Loading required package: dplyr\n",
      "\n",
      "\n",
      "Attaching package: ‘dplyr’\n",
      "\n",
      "\n",
      "The following objects are masked from ‘package:data.table’:\n",
      "\n",
      "    between, first, last\n",
      "\n",
      "\n",
      "The following objects are masked from ‘package:stats’:\n",
      "\n",
      "    filter, lag\n",
      "\n",
      "\n",
      "The following objects are masked from ‘package:base’:\n",
      "\n",
      "    intersect, setdiff, setequal, union\n",
      "\n",
      "\n",
      "Loading required package: metafor\n",
      "\n",
      "Loading required package: Matrix\n",
      "\n",
      "Loading required package: metadat\n",
      "\n",
      "Loading required package: numDeriv\n",
      "\n",
      "\n",
      "Loading the 'metafor' package (version 4.6-0). For an\n",
      "introduction to the package please type: help(metafor)\n",
      "\n",
      "\n",
      "Loading required package: tidyverse\n",
      "\n",
      "── \u001b[1mAttaching core tidyverse packages\u001b[22m ──────────────────────── tidyverse 2.0.0 ──\n",
      "\u001b[32m✔\u001b[39m \u001b[34mforcats  \u001b[39m 1.0.0     \u001b[32m✔\u001b[39m \u001b[34mreadr    \u001b[39m 2.1.5\n",
      "\u001b[32m✔\u001b[39m \u001b[34mggplot2  \u001b[39m 3.5.1     \u001b[32m✔\u001b[39m \u001b[34mstringr  \u001b[39m 1.5.1\n",
      "\u001b[32m✔\u001b[39m \u001b[34mlubridate\u001b[39m 1.9.3     \u001b[32m✔\u001b[39m \u001b[34mtibble   \u001b[39m 3.2.1\n",
      "\u001b[32m✔\u001b[39m \u001b[34mpurrr    \u001b[39m 1.0.2     \u001b[32m✔\u001b[39m \u001b[34mtidyr    \u001b[39m 1.3.1\n",
      "── \u001b[1mConflicts\u001b[22m ────────────────────────────────────────── tidyverse_conflicts() ──\n",
      "\u001b[31m✖\u001b[39m \u001b[34mdplyr\u001b[39m::\u001b[32mbetween()\u001b[39m     masks \u001b[34mdata.table\u001b[39m::between()\n",
      "\u001b[31m✖\u001b[39m \u001b[34mtidyr\u001b[39m::\u001b[32mexpand()\u001b[39m      masks \u001b[34mMatrix\u001b[39m::expand()\n",
      "\u001b[31m✖\u001b[39m \u001b[34mdplyr\u001b[39m::\u001b[32mfilter()\u001b[39m      masks \u001b[34mstats\u001b[39m::filter()\n",
      "\u001b[31m✖\u001b[39m \u001b[34mdplyr\u001b[39m::\u001b[32mfirst()\u001b[39m       masks \u001b[34mdata.table\u001b[39m::first()\n",
      "\u001b[31m✖\u001b[39m \u001b[34mlubridate\u001b[39m::\u001b[32mhour()\u001b[39m    masks \u001b[34mdata.table\u001b[39m::hour()\n",
      "\u001b[31m✖\u001b[39m \u001b[34mlubridate\u001b[39m::\u001b[32misoweek()\u001b[39m masks \u001b[34mdata.table\u001b[39m::isoweek()\n",
      "\u001b[31m✖\u001b[39m \u001b[34mdplyr\u001b[39m::\u001b[32mlag()\u001b[39m         masks \u001b[34mstats\u001b[39m::lag()\n",
      "\u001b[31m✖\u001b[39m \u001b[34mdplyr\u001b[39m::\u001b[32mlast()\u001b[39m        masks \u001b[34mdata.table\u001b[39m::last()\n",
      "\u001b[31m✖\u001b[39m \u001b[34mlubridate\u001b[39m::\u001b[32mmday()\u001b[39m    masks \u001b[34mdata.table\u001b[39m::mday()\n",
      "\u001b[31m✖\u001b[39m \u001b[34mlubridate\u001b[39m::\u001b[32mminute()\u001b[39m  masks \u001b[34mdata.table\u001b[39m::minute()\n",
      "\u001b[31m✖\u001b[39m \u001b[34mlubridate\u001b[39m::\u001b[32mmonth()\u001b[39m   masks \u001b[34mdata.table\u001b[39m::month()\n",
      "\u001b[31m✖\u001b[39m \u001b[34mtidyr\u001b[39m::\u001b[32mpack()\u001b[39m        masks \u001b[34mMatrix\u001b[39m::pack()\n",
      "\u001b[31m✖\u001b[39m \u001b[34mlubridate\u001b[39m::\u001b[32mquarter()\u001b[39m masks \u001b[34mdata.table\u001b[39m::quarter()\n",
      "\u001b[31m✖\u001b[39m \u001b[34mlubridate\u001b[39m::\u001b[32msecond()\u001b[39m  masks \u001b[34mdata.table\u001b[39m::second()\n",
      "\u001b[31m✖\u001b[39m \u001b[34mpurrr\u001b[39m::\u001b[32mtranspose()\u001b[39m   masks \u001b[34mdata.table\u001b[39m::transpose()\n",
      "\u001b[31m✖\u001b[39m \u001b[34mtidyr\u001b[39m::\u001b[32munpack()\u001b[39m      masks \u001b[34mMatrix\u001b[39m::unpack()\n",
      "\u001b[31m✖\u001b[39m \u001b[34mlubridate\u001b[39m::\u001b[32mwday()\u001b[39m    masks \u001b[34mdata.table\u001b[39m::wday()\n",
      "\u001b[31m✖\u001b[39m \u001b[34mlubridate\u001b[39m::\u001b[32mweek()\u001b[39m    masks \u001b[34mdata.table\u001b[39m::week()\n",
      "\u001b[31m✖\u001b[39m \u001b[34mlubridate\u001b[39m::\u001b[32myday()\u001b[39m    masks \u001b[34mdata.table\u001b[39m::yday()\n",
      "\u001b[31m✖\u001b[39m \u001b[34mlubridate\u001b[39m::\u001b[32myear()\u001b[39m    masks \u001b[34mdata.table\u001b[39m::year()\n",
      "\u001b[36mℹ\u001b[39m Use the conflicted package (\u001b[3m\u001b[34m<http://conflicted.r-lib.org/>\u001b[39m\u001b[23m) to force all conflicts to become errors\n",
      "Loading required package: pROC\n",
      "\n",
      "Type 'citation(\"pROC\")' for a citation.\n",
      "\n",
      "\n",
      "Attaching package: ‘pROC’\n",
      "\n",
      "\n",
      "The following objects are masked from ‘package:stats’:\n",
      "\n",
      "    cov, smooth, var\n",
      "\n",
      "\n",
      "Loading required package: ggpubr\n",
      "\n"
     ]
    }
   ],
   "source": [
    "## Load packages\n",
    "require(data.table)\n",
    "require(dplyr)\n",
    "require(metafor)\n",
    "require(tidyverse)\n",
    "require(ggplot2)\n",
    "require(pROC)\n",
    "require(ggpubr)"
   ]
  },
  {
   "cell_type": "code",
   "execution_count": 1,
   "id": "d07593db-f8bc-465d-90c3-f55dd4e92281",
   "metadata": {
    "vscode": {
     "languageId": "r"
    }
   },
   "outputs": [],
   "source": [
    "###################################### DATA ###################################### \n",
    "cd /data/LNG/saraB/MULTI_PRS_MARCH2024/"
   ]
  },
  {
   "cell_type": "code",
   "execution_count": null,
   "id": "6cf29c51-bb15-41be-91bc-81e2e8c07d55",
   "metadata": {
    "vscode": {
     "languageId": "r"
    }
   },
   "outputs": [],
   "source": [
    "## Pull in covariates and PRS results\n",
    "library(data.table)\n",
    "AAC=fread('multi_ancestry_AAC.best',header=T)\n",
    "head(AAC)\n",
    "AFR=fread('multi_ancestry_AFR.best',header=T)\n",
    "head(AFR)\n",
    "EUR=fread('multi_ancestry_EUR.best',header=T)\n",
    "head(EUR)\n",
    "EAS=fread('multi_ancestry_EAS.best',header=T)\n",
    "head(EAS)\n",
    "AMR=fread('multi_ancestry_AMR.best',header=T)\n",
    "head(AMR)\n",
    "CAS=fread('multi_ancestry_CAS.best',header=T)\n",
    "head(CAS)\n",
    "AJ=fread('multi_ancestry_AJ.best',header=T)\n",
    "head(AJ)"
   ]
  },
  {
   "cell_type": "code",
   "execution_count": 27,
   "id": "7dc34694-eeab-4493-ad1c-0d8605e5bb5c",
   "metadata": {
    "vscode": {
     "languageId": "r"
    }
   },
   "outputs": [],
   "source": [
    "## Colnames\n",
    "library(data.table)\n",
    "colnames(AAC)[4]=\"AAC_PRS\"\n",
    "colnames(AFR)[4]=\"AFR_PRS\"\n",
    "colnames(EUR)[4]=\"EUR_PRS\"\n",
    "colnames(EAS)[4]=\"EAS_PRS\"\n",
    "colnames(AMR)[4]=\"AMR_PRS\"\n",
    "colnames(AJ)[4]=\"AJ_PRS\"\n",
    "colnames(CAS)[4]=\"CAS_PRS\""
   ]
  },
  {
   "cell_type": "code",
   "execution_count": 28,
   "id": "7ccbe2f8-1f57-43b4-b4a2-10dc87199765",
   "metadata": {
    "tags": [],
    "vscode": {
     "languageId": "r"
    }
   },
   "outputs": [],
   "source": [
    "library(data.table)\n",
    "library(\"ggplot2\")\n",
    "\n",
    "covar <- fread(\"cov_PRS_plot.txt\", header=T)\n",
    "temp <- merge(EAS,covar, by = c(\"FID\",\"IID\"))\n",
    "temp$pheno <- temp$pheno - 1\n",
    "DATA <- subset(temp, pheno != -10)\n",
    "\n",
    "## Probability of disease calculation\n",
    "Model <- glm(pheno ~ EAS_PRS, data = DATA, family = 'binomial')\n",
    "DATA$probDisease <- predict(Model, DATA, type = c(\"response\"))\n",
    "DATA$predicted <- ifelse(DATA$probDisease > 0.5, \"DISEASE\", \"CONTROL\")\n",
    "DATA$reported <- ifelse(DATA$pheno == 1, \"DISEASE\",\"CONTROL\")\n",
    "\n",
    "EAS_dat <- DATA\n",
    "EAS_dat$Group <- \"Multi ancestry best-fit EAS\""
   ]
  },
  {
   "cell_type": "code",
   "execution_count": 29,
   "id": "5b064326-7c2e-4a1c-a47f-98aa4a350097",
   "metadata": {
    "tags": [],
    "vscode": {
     "languageId": "r"
    }
   },
   "outputs": [],
   "source": [
    "library(data.table)\n",
    "library(\"ggplot2\")\n",
    "\n",
    "covar <- fread(\"cov_PRS_plot.txt\", header=T)\n",
    "temp <- merge(AFR,covar, by = c(\"FID\",\"IID\"))\n",
    "temp$pheno <- temp$pheno - 1\n",
    "DATA <- subset(temp, pheno != -10)\n",
    "\n",
    "## Probability of disease calculation\n",
    "Model <- glm(pheno ~ AFR_PRS, data = DATA, family = 'binomial')\n",
    "DATA$probDisease <- predict(Model, DATA, type = c(\"response\"))\n",
    "DATA$predicted <- ifelse(DATA$probDisease > 0.5, \"DISEASE\", \"CONTROL\")\n",
    "DATA$reported <- ifelse(DATA$pheno == 1, \"DISEASE\",\"CONTROL\")\n",
    "\n",
    "AFR_dat <- DATA\n",
    "AFR_dat$Group <- \"Multi ancestry best-fit AFR\""
   ]
  },
  {
   "cell_type": "code",
   "execution_count": 30,
   "id": "673ff5f7-fc9c-452a-92ef-296aaea5cd72",
   "metadata": {
    "tags": [],
    "vscode": {
     "languageId": "r"
    }
   },
   "outputs": [],
   "source": [
    "library(data.table)\n",
    "library(\"ggplot2\")\n",
    "\n",
    "covar <- fread(\"cov_PRS_plot.txt\", header=T)\n",
    "temp <- merge(AAC,covar, by = c(\"FID\",\"IID\"))\n",
    "temp$pheno <- temp$pheno - 1\n",
    "DATA <- subset(temp, pheno != -10)\n",
    "\n",
    "## Probability of disease calculation\n",
    "Model <- glm(pheno ~ AAC_PRS, data = DATA, family = 'binomial')\n",
    "DATA$probDisease <- predict(Model, DATA, type = c(\"response\"))\n",
    "DATA$predicted <- ifelse(DATA$probDisease > 0.5, \"DISEASE\", \"CONTROL\")\n",
    "DATA$reported <- ifelse(DATA$pheno == 1, \"DISEASE\",\"CONTROL\")\n",
    "\n",
    "AAC_dat <- DATA\n",
    "AAC_dat$Group <- \"Multi ancestry best-fit AAC\""
   ]
  },
  {
   "cell_type": "code",
   "execution_count": 31,
   "id": "dae29501-1c49-45e9-bbe1-03cfb8a8fabf",
   "metadata": {
    "tags": [],
    "vscode": {
     "languageId": "r"
    }
   },
   "outputs": [],
   "source": [
    "library(data.table)\n",
    "library(\"ggplot2\")\n",
    "\n",
    "covar <- fread(\"cov_PRS_plot.txt\", header=T)\n",
    "temp <- merge(AJ,covar, by = c(\"FID\",\"IID\"))\n",
    "temp$pheno <- temp$pheno - 1\n",
    "DATA <- subset(temp, pheno != -10)\n",
    "\n",
    "## Probability of disease calculation\n",
    "Model <- glm(pheno ~ AJ_PRS, data = DATA, family = 'binomial')\n",
    "DATA$probDisease <- predict(Model, DATA, type = c(\"response\"))\n",
    "DATA$predicted <- ifelse(DATA$probDisease > 0.5, \"DISEASE\", \"CONTROL\")\n",
    "DATA$reported <- ifelse(DATA$pheno == 1, \"DISEASE\",\"CONTROL\")\n",
    "\n",
    "AJ_dat <- DATA\n",
    "AJ_dat$Group <- \"Multi ancestry best-fit AJ\""
   ]
  },
  {
   "cell_type": "code",
   "execution_count": 32,
   "id": "a3d1d35a-6428-4ec9-96c0-01c41b3bddce",
   "metadata": {
    "tags": [],
    "vscode": {
     "languageId": "r"
    }
   },
   "outputs": [],
   "source": [
    "library(data.table)\n",
    "library(\"ggplot2\")\n",
    "\n",
    "covar <- fread(\"cov_PRS_plot.txt\", header=T)\n",
    "temp <- merge(CAS,covar, by = c(\"FID\",\"IID\"))\n",
    "temp$pheno <- temp$pheno - 1\n",
    "DATA <- subset(temp, pheno != -10)\n",
    "\n",
    "## Probability of disease calculation\n",
    "Model <- glm(pheno ~ CAS_PRS, data = DATA, family = 'binomial')\n",
    "DATA$probDisease <- predict(Model, DATA, type = c(\"response\"))\n",
    "DATA$predicted <- ifelse(DATA$probDisease > 0.5, \"DISEASE\", \"CONTROL\")\n",
    "DATA$reported <- ifelse(DATA$pheno == 1, \"DISEASE\",\"CONTROL\")\n",
    "\n",
    "CAS_dat <- DATA\n",
    "CAS_dat$Group <- \"Multi ancestry best-fit CAS\""
   ]
  },
  {
   "cell_type": "code",
   "execution_count": 33,
   "id": "ba8fda3c-510f-4aa3-94a2-5383bce6c309",
   "metadata": {
    "tags": [],
    "vscode": {
     "languageId": "r"
    }
   },
   "outputs": [],
   "source": [
    "library(data.table)\n",
    "library(\"ggplot2\")\n",
    "\n",
    "covar <- fread(\"cov_PRS_plot.txt\", header=T)\n",
    "temp <- merge(AMR,covar, by = c(\"FID\",\"IID\"))\n",
    "temp$pheno <- temp$pheno - 1\n",
    "DATA <- subset(temp, pheno != -10)\n",
    "\n",
    "## Probability of disease calculation\n",
    "Model <- glm(pheno ~ AMR_PRS, data = DATA, family = 'binomial')\n",
    "DATA$probDisease <- predict(Model, DATA, type = c(\"response\"))\n",
    "DATA$predicted <- ifelse(DATA$probDisease > 0.5, \"DISEASE\", \"CONTROL\")\n",
    "DATA$reported <- ifelse(DATA$pheno == 1, \"DISEASE\",\"CONTROL\")\n",
    "\n",
    "AMR_dat <- DATA\n",
    "AMR_dat$Group <- \"Multi ancestry best-fit AMR\""
   ]
  },
  {
   "cell_type": "code",
   "execution_count": 34,
   "id": "2a0bb8d0-5ca4-4e16-8181-ee2fb4039512",
   "metadata": {
    "tags": [],
    "vscode": {
     "languageId": "r"
    }
   },
   "outputs": [],
   "source": [
    "library(data.table)\n",
    "library(\"ggplot2\")\n",
    "\n",
    "covar <- fread(\"cov_PRS_plot.txt\", header=T)\n",
    "temp <- merge(EUR,covar, by = c(\"FID\",\"IID\"))\n",
    "temp$pheno <- temp$pheno - 1\n",
    "DATA <- subset(temp, pheno != -10)\n",
    "\n",
    "## Probability of disease calculation\n",
    "Model <- glm(pheno ~ EUR_PRS, data = DATA, family = 'binomial')\n",
    "DATA$probDisease <- predict(Model, DATA, type = c(\"response\"))\n",
    "DATA$predicted <- ifelse(DATA$probDisease > 0.5, \"DISEASE\", \"CONTROL\")\n",
    "DATA$reported <- ifelse(DATA$pheno == 1, \"DISEASE\",\"CONTROL\")\n",
    "\n",
    "EUR_dat <- DATA\n",
    "EUR_dat$Group <- \"Multi ancestry best-fit EUR\""
   ]
  },
  {
   "cell_type": "code",
   "execution_count": 37,
   "id": "368d0cdd-55d3-4c6c-b1d8-161051696ebe",
   "metadata": {
    "tags": [],
    "vscode": {
     "languageId": "r"
    }
   },
   "outputs": [],
   "source": [
    "### style plot\n",
    "library(plotROC)\n",
    "to_plot = rbind(AFR_dat, EUR_dat, AMR_dat, AJ_dat, EAS_dat, AAC_dat, CAS_dat, fill=TRUE)\n",
    "combo_rocs_plot <- ggplot(to_plot, aes(d = pheno, m = probDisease, color=Group)) + geom_roc(n.cuts = 0, labels = FALSE) + geom_roc(n.cuts = 0) + style_roc()\n",
    "ggsave(plot = combo_rocs_plot, filename = \"multi-best-fit.png\", width = 8, height = 5, units = \"in\", dpi = 300)\n"
   ]
  },
  {
   "cell_type": "code",
   "execution_count": 36,
   "id": "6c77c41e-d733-460f-a10c-f39ad18836f1",
   "metadata": {
    "tags": [],
    "vscode": {
     "languageId": "r"
    }
   },
   "outputs": [
    {
     "name": "stderr",
     "output_type": "stream",
     "text": [
      "Setting levels: control = 0, case = 1\n",
      "\n",
      "Setting direction: controls < cases\n",
      "\n",
      "Setting levels: control = 0, case = 1\n",
      "\n",
      "Setting direction: controls < cases\n",
      "\n",
      "Setting levels: control = 0, case = 1\n",
      "\n",
      "Setting direction: controls < cases\n",
      "\n",
      "Setting levels: control = 0, case = 1\n",
      "\n",
      "Setting direction: controls < cases\n",
      "\n",
      "Setting levels: control = 0, case = 1\n",
      "\n",
      "Setting direction: controls < cases\n",
      "\n",
      "Setting levels: control = 0, case = 1\n",
      "\n",
      "Setting direction: controls < cases\n",
      "\n",
      "Setting levels: control = 0, case = 1\n",
      "\n",
      "Setting direction: controls < cases\n",
      "\n"
     ]
    }
   ],
   "source": [
    "## Store roc object\n",
    "roc.list <- roc(pheno ~ AAC_PRS + AFR_PRS + EUR_PRS + EAS_PRS + AMR_PRS + AJ_PRS + CAS_PRS, data = full_table, smooth=FALSE)"
   ]
  },
  {
   "cell_type": "code",
   "execution_count": 26,
   "id": "7556eabd-0807-458a-8f6f-d7dbee519fab",
   "metadata": {
    "tags": [],
    "vscode": {
     "languageId": "r"
    }
   },
   "outputs": [
    {
     "data": {
      "text/plain": [
       "$AAC_PRS\n",
       "\n",
       "Call:\n",
       "roc.formula(formula = pheno ~ AAC_PRS, data = full_table, smooth = FALSE)\n",
       "\n",
       "Data: AAC_PRS in 800 controls (pheno 0) < 257 cases (pheno 1).\n",
       "Area under the curve: 0.6354\n",
       "\n",
       "$AFR_PRS\n",
       "\n",
       "Call:\n",
       "roc.formula(formula = pheno ~ AFR_PRS, data = full_table, smooth = FALSE)\n",
       "\n",
       "Data: AFR_PRS in 1677 controls (pheno 0) < 920 cases (pheno 1).\n",
       "Area under the curve: 0.5867\n",
       "\n",
       "$EUR_PRS\n",
       "\n",
       "Call:\n",
       "roc.formula(formula = pheno ~ EUR_PRS, data = full_table, smooth = FALSE)\n",
       "\n",
       "Data: EUR_PRS in 5053 controls (pheno 0) < 11766 cases (pheno 1).\n",
       "Area under the curve: 0.6322\n",
       "\n",
       "$EAS_PRS\n",
       "\n",
       "Call:\n",
       "roc.formula(formula = pheno ~ EAS_PRS, data = full_table, smooth = FALSE)\n",
       "\n",
       "Data: EAS_PRS in 2377 controls (pheno 0) < 1576 cases (pheno 1).\n",
       "Area under the curve: 0.5856\n",
       "\n",
       "$AMR_PRS\n",
       "\n",
       "Call:\n",
       "roc.formula(formula = pheno ~ AMR_PRS, data = full_table, smooth = FALSE)\n",
       "\n",
       "Data: AMR_PRS in 134 controls (pheno 0) < 367 cases (pheno 1).\n",
       "Area under the curve: 0.5814\n",
       "\n",
       "$AJ_PRS\n",
       "\n",
       "Call:\n",
       "roc.formula(formula = pheno ~ AJ_PRS, data = full_table, smooth = FALSE)\n",
       "\n",
       "Data: AJ_PRS in 394 controls (pheno 0) < 1008 cases (pheno 1).\n",
       "Area under the curve: 0.6897\n",
       "\n",
       "$CAS_PRS\n",
       "\n",
       "Call:\n",
       "roc.formula(formula = pheno ~ CAS_PRS, data = full_table, smooth = FALSE)\n",
       "\n",
       "Data: CAS_PRS in 294 controls (pheno 0) < 244 cases (pheno 1).\n",
       "Area under the curve: 0.5676\n"
      ]
     },
     "metadata": {},
     "output_type": "display_data"
    }
   ],
   "source": [
    "roc.list"
   ]
  },
  {
   "cell_type": "code",
   "execution_count": null,
   "id": "a96d8250-a371-4815-927a-3c7ad59ce75b",
   "metadata": {
    "vscode": {
     "languageId": "r"
    }
   },
   "outputs": [],
   "source": []
  }
 ],
 "metadata": {
  "kernelspec": {
   "display_name": "R/4.3",
   "language": "R",
   "name": "ir43"
  },
  "language_info": {
   "codemirror_mode": "r",
   "file_extension": ".r",
   "mimetype": "text/x-r-source",
   "name": "R",
   "pygments_lexer": "r",
   "version": "4.3.2"
  }
 },
 "nbformat": 4,
 "nbformat_minor": 5
}
