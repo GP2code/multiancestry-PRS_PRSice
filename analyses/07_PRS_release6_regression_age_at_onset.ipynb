{
 "cells": [
  {
   "cell_type": "markdown",
   "id": "57ca8c63-1f94-42a2-940e-0a4f54bab173",
   "metadata": {},
   "source": [
    "# Estimate Multi-ancestry PRS versus age at onset\n",
    "- **Project:** Multi-ancestry PRS\n",
    "- **Version:** Python/3.9\n",
    "- **Status:** COMPLETE\n",
    "- **Last Updated:** 6-MARCH-2024\n",
    "\n",
    "## Notebook Overview\n",
    "- Linear regression models adjusted by covariates (gender, PCs)"
   ]
  },
  {
   "cell_type": "code",
   "execution_count": 1,
   "id": "8c73db19-2393-486f-a819-8f9d6b4e413e",
   "metadata": {
    "tags": [],
    "vscode": {
     "languageId": "r"
    }
   },
   "outputs": [
    {
     "name": "stdout",
     "output_type": "stream",
     "text": [
      "[+] Loading python 3.10  ... \n",
      "[+] Loading gcc  11.3.0  ... \n",
      "[+] Loading HDF5  1.12.2 \n",
      "[+] Loading netcdf  4.9.0 \n",
      "[-] Unloading gcc  11.3.0  ... \n",
      "[+] Loading gcc  11.3.0  ... \n",
      "[+] Loading openmpi/4.1.3/gcc-11.3.0  ... \n",
      "[+] Loading pandoc  2.18  on cn1035 \n",
      "[+] Loading pcre2  10.40 \n",
      "[+] Loading R 4.3.2 \n"
     ]
    }
   ],
   "source": [
    "## Load packages\n",
    "module load python\n",
    "module load R"
   ]
  },
  {
   "cell_type": "code",
   "execution_count": 2,
   "id": "d7cc0aa9-ff62-449e-8ec9-711b13e1e203",
   "metadata": {
    "tags": [],
    "vscode": {
     "languageId": "r"
    }
   },
   "outputs": [
    {
     "name": "stdout",
     "output_type": "stream",
     "text": [
      "GP2_release6_NOVEMBER_2023_AAC.eigenvec\n",
      "GP2_release6_NOVEMBER_2023_AFR.eigenvec\n",
      "GP2_release6_NOVEMBER_2023_AJ.eigenvec\n",
      "GP2_release6_NOVEMBER_2023_AMR.eigenvec\n",
      "GP2_release6_NOVEMBER_2023_CAH.eigenvec\n",
      "GP2_release6_NOVEMBER_2023_CAS.eigenvec\n",
      "GP2_release6_NOVEMBER_2023_EAS.eigenvec\n",
      "GP2_release6_NOVEMBER_2023_EUR.eigenvec\n",
      "GP2_release6_NOVEMBER_2023_FIN.eigenvec\n",
      "GP2_release6_NOVEMBER_2023_MDE.eigenvec\n",
      "GP2_release6_NOVEMBER_2023_SAS.eigenvec\n",
      "GP2_release6_NOVEMBER_AAC_maf_hwe_pca.eigenvec\n",
      "GP2_release6_NOVEMBER_AFR_maf_hwe_pca.eigenvec\n",
      "GP2_release6_NOVEMBER_AJ_maf_hwe_pca.eigenvec\n",
      "GP2_release6_NOVEMBER_AMR_maf_hwe_pca.eigenvec\n",
      "GP2_release6_NOVEMBER_CAS_maf_hwe_pca.eigenvec\n",
      "GP2_release6_NOVEMBER_EAS_maf_hwe_pca.eigenvec\n",
      "GP2_release6_NOVEMBER_EUR_maf_hwe_pca.eigenvec\n",
      "GP2_release6_NOVEMBER_FIN_maf_hwe_pca.eigenvec\n",
      "GP2_release6_NOVEMBER_MDE_maf_hwe_pca.eigenvec\n",
      "GP2_release6_NOVEMBER_SAS_maf_hwe_pca.eigenvec\n"
     ]
    }
   ],
   "source": [
    "cd ${WORK_DIR}/quality_control/release6/genotype_qc/\n",
    "ls *eigenvec"
   ]
  },
  {
   "cell_type": "code",
   "execution_count": null,
   "id": "6c4ef839-8333-468a-9e05-59d94d8fac1d",
   "metadata": {
    "tags": [],
    "vscode": {
     "languageId": "r"
    }
   },
   "outputs": [],
   "source": [
    "## Change kernel to python\n",
    "import pandas as pd\n",
    "\n",
    "# Read the file into a DataFrame\n",
    "file_path = f\"{WORK_DIR}/GP2_master_key_release6.txt\"\n",
    "df = pd.read_csv(file_path, delimiter='\\t')  # Assuming columns are tab-separated, adjust if needed\n",
    "\n",
    "# Add a new column with \"0\"\n",
    "df.insert(0, 'New_Column', 0)\n",
    "\n",
    "# Extract columns GP2sampleID and sex_for_qc\n",
    "result_df = df[['New_Column', 'GP2sampleID', 'sex_for_qc', 'age_of_onset']]\n",
    "\n",
    "# Save the result to a CSV file without headers\n",
    "result_df.to_csv(f'{WORK_DIR}/AAO.txt', index=False, header=True, sep = '\\t')"
   ]
  },
  {
   "cell_type": "code",
   "execution_count": 1,
   "id": "dab789dc-cf43-4112-b0c6-7d26096b4f61",
   "metadata": {
    "tags": [],
    "vscode": {
     "languageId": "r"
    }
   },
   "outputs": [],
   "source": [
    "###################################### AAC ###################################### \n",
    "cd ${WORK_DIR}/imputed_data/AAC"
   ]
  },
  {
   "cell_type": "code",
   "execution_count": 13,
   "id": "b7cd4d7e-4fa1-4bd5-970c-7840d0d14688",
   "metadata": {
    "vscode": {
     "languageId": "r"
    }
   },
   "outputs": [
    {
     "name": "stdout",
     "output_type": "stream",
     "text": [
      "[1] \"AFRICANS\"\n"
     ]
    },
    {
     "data": {
      "text/plain": [
       "\n",
       "Call:\n",
       "lm(formula = age_of_onset ~ zSCORE + sex_for_qc + PC1 + PC2 + \n",
       "    PC3 + PC4 + PC5 + PC6 + PC7 + PC8 + PC9 + PC10, data = cases)\n",
       "\n",
       "Residuals:\n",
       "    Min      1Q  Median      3Q     Max \n",
       "-29.591  -8.393   1.310   8.411  28.467 \n",
       "\n",
       "Coefficients:\n",
       "            Estimate Std. Error t value Pr(>|t|)    \n",
       "(Intercept)  57.7406     3.1376  18.403  < 2e-16 ***\n",
       "zSCORE        0.4230     0.9902   0.427  0.66993    \n",
       "sex_for_qc   -0.1402     2.0697  -0.068  0.94610    \n",
       "PC1          35.9828    57.2969   0.628  0.53104    \n",
       "PC2          -1.2593    36.2774  -0.035  0.97236    \n",
       "PC3         404.2793   149.0975   2.712  0.00755 ** \n",
       "PC4         -69.4717   114.8560  -0.605  0.54627    \n",
       "PC5          59.5528    47.7770   1.246  0.21470    \n",
       "PC6         -97.2830    80.3952  -1.210  0.22832    \n",
       "PC7         -21.9772    59.3756  -0.370  0.71185    \n",
       "PC8         -10.5966    56.4851  -0.188  0.85147    \n",
       "PC9           3.1377    61.1989   0.051  0.95918    \n",
       "PC10        -67.5448    40.9247  -1.650  0.10112    \n",
       "---\n",
       "Signif. codes:  0 ‘***’ 0.001 ‘**’ 0.01 ‘*’ 0.05 ‘.’ 0.1 ‘ ’ 1\n",
       "\n",
       "Residual standard error: 12.16 on 138 degrees of freedom\n",
       "  (886 observations deleted due to missingness)\n",
       "Multiple R-squared:  0.09651,\tAdjusted R-squared:  0.01795 \n",
       "F-statistic: 1.228 on 12 and 138 DF,  p-value: 0.2696\n"
      ]
     },
     "metadata": {},
     "output_type": "display_data"
    },
    {
     "name": "stdout",
     "output_type": "stream",
     "text": [
      "[1] \n",
      "[1] \"EUROPEANS\"\n"
     ]
    },
    {
     "data": {
      "text/plain": [
       "\n",
       "Call:\n",
       "lm(formula = age_of_onset ~ zSCORE + sex_for_qc + PC1 + PC2 + \n",
       "    PC3 + PC4 + PC5 + PC6 + PC7 + PC8 + PC9 + PC10, data = cases)\n",
       "\n",
       "Residuals:\n",
       "    Min      1Q  Median      3Q     Max \n",
       "-29.709  -7.891   1.469   8.283  29.096 \n",
       "\n",
       "Coefficients:\n",
       "            Estimate Std. Error t value Pr(>|t|)    \n",
       "(Intercept)  57.4040     3.1210  18.393  < 2e-16 ***\n",
       "zSCORE        0.9699     0.9812   0.989  0.32461    \n",
       "sex_for_qc   -0.1100     2.0564  -0.054  0.95740    \n",
       "PC1          29.2785    57.5918   0.508  0.61200    \n",
       "PC2           3.4243    36.3023   0.094  0.92499    \n",
       "PC3         406.0626   148.4803   2.735  0.00706 ** \n",
       "PC4         -68.8335   114.3866  -0.602  0.54832    \n",
       "PC5          62.1379    47.5218   1.308  0.19319    \n",
       "PC6         -95.4924    80.1526  -1.191  0.23555    \n",
       "PC7         -15.9093    58.9436  -0.270  0.78764    \n",
       "PC8          -9.1491    56.0195  -0.163  0.87051    \n",
       "PC9           5.4034    61.0753   0.088  0.92963    \n",
       "PC10        -71.7681    41.0818  -1.747  0.08287 .  \n",
       "---\n",
       "Signif. codes:  0 ‘***’ 0.001 ‘**’ 0.01 ‘*’ 0.05 ‘.’ 0.1 ‘ ’ 1\n",
       "\n",
       "Residual standard error: 12.12 on 138 degrees of freedom\n",
       "  (886 observations deleted due to missingness)\n",
       "Multiple R-squared:  0.1017,\tAdjusted R-squared:  0.02356 \n",
       "F-statistic: 1.302 on 12 and 138 DF,  p-value: 0.2242\n"
      ]
     },
     "metadata": {},
     "output_type": "display_data"
    },
    {
     "name": "stdout",
     "output_type": "stream",
     "text": [
      "[1] \n",
      "[1] \"LATINO\"\n"
     ]
    },
    {
     "data": {
      "text/plain": [
       "\n",
       "Call:\n",
       "lm(formula = age_of_onset ~ zSCORE + sex_for_qc + PC1 + PC2 + \n",
       "    PC3 + PC4 + PC5 + PC6 + PC7 + PC8 + PC9 + PC10, data = cases)\n",
       "\n",
       "Residuals:\n",
       "     Min       1Q   Median       3Q      Max \n",
       "-30.2900  -8.8532   0.8023   8.2813  29.4277 \n",
       "\n",
       "Coefficients:\n",
       "            Estimate Std. Error t value Pr(>|t|)    \n",
       "(Intercept)  57.1994     3.1262  18.297  < 2e-16 ***\n",
       "zSCORE        1.2573     1.0343   1.216  0.22621    \n",
       "sex_for_qc    0.1981     2.0793   0.095  0.92425    \n",
       "PC1          36.2327    56.7627   0.638  0.52432    \n",
       "PC2          -4.5590    35.3710  -0.129  0.89763    \n",
       "PC3         401.9945   148.1017   2.714  0.00749 ** \n",
       "PC4         -57.5429   114.7734  -0.501  0.61692    \n",
       "PC5          61.1109    47.4241   1.289  0.19969    \n",
       "PC6         -95.6282    79.9806  -1.196  0.23389    \n",
       "PC7         -22.3377    58.8006  -0.380  0.70461    \n",
       "PC8         -13.3379    56.0769  -0.238  0.81235    \n",
       "PC9           1.9585    60.9132   0.032  0.97440    \n",
       "PC10        -72.5209    40.9625  -1.770  0.07887 .  \n",
       "---\n",
       "Signif. codes:  0 ‘***’ 0.001 ‘**’ 0.01 ‘*’ 0.05 ‘.’ 0.1 ‘ ’ 1\n",
       "\n",
       "Residual standard error: 12.1 on 138 degrees of freedom\n",
       "  (886 observations deleted due to missingness)\n",
       "Multiple R-squared:  0.1049,\tAdjusted R-squared:  0.02707 \n",
       "F-statistic: 1.348 on 12 and 138 DF,  p-value: 0.1988\n"
      ]
     },
     "metadata": {},
     "output_type": "display_data"
    },
    {
     "name": "stdout",
     "output_type": "stream",
     "text": [
      "[1] \n",
      "[1] \"EASTASIANS\"\n"
     ]
    },
    {
     "data": {
      "text/plain": [
       "\n",
       "Call:\n",
       "lm(formula = age_of_onset ~ zSCORE + sex_for_qc + PC1 + PC2 + \n",
       "    PC3 + PC4 + PC5 + PC6 + PC7 + PC8 + PC9 + PC10, data = cases)\n",
       "\n",
       "Residuals:\n",
       "    Min      1Q  Median      3Q     Max \n",
       "-28.974  -8.375   1.542   8.077  29.157 \n",
       "\n",
       "Coefficients:\n",
       "              Estimate Std. Error t value Pr(>|t|)    \n",
       "(Intercept)  57.391044   3.164587  18.135  < 2e-16 ***\n",
       "zSCORE        0.840429   1.064021   0.790  0.43096    \n",
       "sex_for_qc   -0.002062   2.075775  -0.001  0.99921    \n",
       "PC1          29.322967  58.075981   0.505  0.61443    \n",
       "PC2           0.885762  36.099429   0.025  0.98046    \n",
       "PC3         401.634306 148.561060   2.703  0.00772 ** \n",
       "PC4         -72.712705 114.478356  -0.635  0.52637    \n",
       "PC5          58.522183  47.678628   1.227  0.22175    \n",
       "PC6         -93.958802  80.422115  -1.168  0.24469    \n",
       "PC7         -22.882133  59.108616  -0.387  0.69926    \n",
       "PC8         -10.405514  56.159103  -0.185  0.85328    \n",
       "PC9           7.689300  61.408435   0.125  0.90054    \n",
       "PC10        -63.455390  40.971927  -1.549  0.12373    \n",
       "---\n",
       "Signif. codes:  0 ‘***’ 0.001 ‘**’ 0.01 ‘*’ 0.05 ‘.’ 0.1 ‘ ’ 1\n",
       "\n",
       "Residual standard error: 12.14 on 138 degrees of freedom\n",
       "  (886 observations deleted due to missingness)\n",
       "Multiple R-squared:  0.09939,\tAdjusted R-squared:  0.02108 \n",
       "F-statistic: 1.269 on 12 and 138 DF,  p-value: 0.2436\n"
      ]
     },
     "metadata": {},
     "output_type": "display_data"
    }
   ],
   "source": [
    "### AGE AT ONSET\n",
    "library(data.table)\n",
    "setwd(\"./imputed_data/AAC/\")\n",
    "temp_data <- read.table(\"PRS_score_release_AFRICANS.profile\", header = T) \n",
    "temp_covs <- read.table(\"./quality_control/release6/genotype_qc/GP2_release6_NOVEMBER_AAC_maf_hwe_pca.eigenvec\", header = T, sep=\"\\t\")\n",
    "colnames(temp_covs) <- c(\"FID\", \"IID\", \"PC1\", \"PC2\", \"PC3\", \"PC4\", \"PC5\", \"PC6\", \"PC7\", \"PC8\", \"PC9\", \"PC10\")\n",
    "temp_covs_2 <- read.table(\"AAO.txt\", header = T, sep=\"\\t\")\n",
    "colnames(temp_covs_2)[2] =\"IID\"\n",
    "covs <- merge(temp_covs, temp_covs_2, by = \"IID\")\n",
    "data <- merge(temp_data, covs, by = \"IID\")\n",
    "data$CASE <- data$PHENO - 1\n",
    "cases <- subset(data, CASE = 1)\n",
    "meanPop <- mean(cases$SCORE)\n",
    "sdPop <- sd(cases$SCORE)\n",
    "cases$zSCORE <- (cases$SCORE - meanPop)/sdPop\n",
    "grsTests <- lm(age_of_onset ~ zSCORE + sex_for_qc + PC1 + PC2 + PC3 + PC4 + PC5 + PC6 + PC7 + PC8 + PC9 + PC10, data = cases)\n",
    "print(\"AFRICANS\")\n",
    "summary(grsTests)\n",
    "   \n",
    "library(data.table)\n",
    "temp_data <- read.table(\"PRS_score_release_EUROPEAN.profile\", header = T) \n",
    "temp_covs <- read.table(\"./quality_control/release6/genotype_qc/GP2_release6_NOVEMBER_AAC_maf_hwe_pca.eigenvec\", header = T, sep=\"\\t\")\n",
    "colnames(temp_covs) <- c(\"FID\", \"IID\", \"PC1\", \"PC2\", \"PC3\", \"PC4\", \"PC5\", \"PC6\", \"PC7\", \"PC8\", \"PC9\", \"PC10\")\n",
    "temp_covs_2 <- read.table(\"AAO.txt\", header = T, sep=\"\\t\")\n",
    "colnames(temp_covs_2)[2] =\"IID\"\n",
    "covs <- merge(temp_covs, temp_covs_2, by = \"IID\")\n",
    "data <- merge(temp_data, covs, by = \"IID\")\n",
    "data$CASE <- data$PHENO - 1\n",
    "cases <- subset(data, CASE = 1)\n",
    "meanPop <- mean(cases$SCORE)\n",
    "sdPop <- sd(cases$SCORE)\n",
    "cases$zSCORE <- (cases$SCORE - meanPop)/sdPop\n",
    "grsTests <- lm(age_of_onset ~ zSCORE + sex_for_qc + PC1 + PC2 + PC3 + PC4 + PC5 + PC6 + PC7 + PC8 + PC9 + PC10, data = cases)\n",
    "print(noquote(\"\"))\n",
    "print(\"EUROPEANS\")\n",
    "summary(grsTests)\n",
    "\n",
    "library(data.table)\n",
    "temp_data <- read.table(\"PRS_score_release_LATINO.profile\", header = T) \n",
    "temp_covs <- read.table(\"./quality_control/release6/genotype_qc/GP2_release6_NOVEMBER_AAC_maf_hwe_pca.eigenvec\", header = T, sep=\"\\t\")\n",
    "colnames(temp_covs) <- c(\"FID\", \"IID\", \"PC1\", \"PC2\", \"PC3\", \"PC4\", \"PC5\", \"PC6\", \"PC7\", \"PC8\", \"PC9\", \"PC10\")\n",
    "temp_covs_2 <- read.table(\"AAO.txt\", header = T, sep=\"\\t\")\n",
    "colnames(temp_covs_2)[2] =\"IID\"\n",
    "covs <- merge(temp_covs, temp_covs_2, by = \"IID\")\n",
    "data <- merge(temp_data, covs, by = \"IID\")\n",
    "data$CASE <- data$PHENO - 1\n",
    "cases <- subset(data, CASE = 1)\n",
    "meanPop <- mean(cases$SCORE)\n",
    "sdPop <- sd(cases$SCORE)\n",
    "cases$zSCORE <- (cases$SCORE - meanPop)/sdPop\n",
    "grsTests <- lm(age_of_onset ~ zSCORE + sex_for_qc + PC1 + PC2 + PC3 + PC4 + PC5 + PC6 + PC7 + PC8 + PC9 + PC10, data = cases)\n",
    "print(noquote(\"\"))\n",
    "print(\"LATINO\")\n",
    "summary(grsTests)\n",
    "\n",
    "library(data.table)\n",
    "temp_data <- read.table(\"PRS_score_release_EASTASIANS.profile\", header = T) \n",
    "temp_covs <- read.table(\"./quality_control/release6/genotype_qc/GP2_release6_NOVEMBER_AAC_maf_hwe_pca.eigenvec\", header = T, sep=\"\\t\")\n",
    "colnames(temp_covs) <- c(\"FID\", \"IID\", \"PC1\", \"PC2\", \"PC3\", \"PC4\", \"PC5\", \"PC6\", \"PC7\", \"PC8\", \"PC9\", \"PC10\")\n",
    "temp_covs_2 <- read.table(\"AAO.txt\", header = T, sep=\"\\t\")\n",
    "colnames(temp_covs_2)[2] =\"IID\"\n",
    "covs <- merge(temp_covs, temp_covs_2, by = \"IID\")\n",
    "data <- merge(temp_data, covs, by = \"IID\")\n",
    "data$CASE <- data$PHENO - 1\n",
    "cases <- subset(data, CASE = 1)\n",
    "meanPop <- mean(cases$SCORE)\n",
    "sdPop <- sd(cases$SCORE)\n",
    "cases$zSCORE <- (cases$SCORE - meanPop)/sdPop\n",
    "grsTests <- lm(age_of_onset ~ zSCORE + sex_for_qc + PC1 + PC2 + PC3 + PC4 + PC5 + PC6 + PC7 + PC8 + PC9 + PC10, data = cases)\n",
    "print(noquote(\"\"))\n",
    "print(\"EASTASIANS\")\n",
    "summary(grsTests)\n"
   ]
  },
  {
   "cell_type": "code",
   "execution_count": null,
   "id": "2a7b0e6d-2fbf-4a0b-ad48-3c52588b8584",
   "metadata": {
    "vscode": {
     "languageId": "r"
    }
   },
   "outputs": [],
   "source": [
    "###################################### AFR ###################################### \n",
    "cd ${WORK_DIR}/imputed_data/AFR"
   ]
  },
  {
   "cell_type": "code",
   "execution_count": 14,
   "id": "6cf29c51-bb15-41be-91bc-81e2e8c07d55",
   "metadata": {
    "vscode": {
     "languageId": "r"
    }
   },
   "outputs": [
    {
     "name": "stdout",
     "output_type": "stream",
     "text": [
      "[1] \"AFRICANS\"\n"
     ]
    },
    {
     "data": {
      "text/plain": [
       "\n",
       "Call:\n",
       "lm(formula = age_of_onset ~ zSCORE + sex_for_qc + PC1 + PC2 + \n",
       "    PC3 + PC4 + PC5 + PC6 + PC7 + PC8 + PC9 + PC10, data = cases)\n",
       "\n",
       "Residuals:\n",
       "    Min      1Q  Median      3Q     Max \n",
       "-45.233  -7.032   0.704   7.734  29.219 \n",
       "\n",
       "Coefficients:\n",
       "             Estimate Std. Error t value Pr(>|t|)    \n",
       "(Intercept)   60.9344     3.9279  15.513   <2e-16 ***\n",
       "zSCORE        -0.9848     0.9551  -1.031    0.304    \n",
       "sex_for_qc    -2.6383     2.1130  -1.249    0.214    \n",
       "PC1          -14.3660    50.6250  -0.284    0.777    \n",
       "PC2          -86.2966   103.8045  -0.831    0.407    \n",
       "PC3         -226.3337   261.1430  -0.867    0.387    \n",
       "PC4           29.3585   201.8040   0.145    0.885    \n",
       "PC5         -187.4444   191.9295  -0.977    0.330    \n",
       "PC6          237.6044   169.3622   1.403    0.163    \n",
       "PC7         -139.7332   139.0419  -1.005    0.317    \n",
       "PC8           32.0370   122.3948   0.262    0.794    \n",
       "PC9           70.5150   117.1870   0.602    0.548    \n",
       "PC10         -34.6793   114.3635  -0.303    0.762    \n",
       "---\n",
       "Signif. codes:  0 ‘***’ 0.001 ‘**’ 0.01 ‘*’ 0.05 ‘.’ 0.1 ‘ ’ 1\n",
       "\n",
       "Residual standard error: 13.03 on 152 degrees of freedom\n",
       "  (2417 observations deleted due to missingness)\n",
       "Multiple R-squared:  0.05854,\tAdjusted R-squared:  -0.01578 \n",
       "F-statistic: 0.7877 on 12 and 152 DF,  p-value: 0.6626\n"
      ]
     },
     "metadata": {},
     "output_type": "display_data"
    },
    {
     "name": "stdout",
     "output_type": "stream",
     "text": [
      "[1] \n",
      "[1] \"EUROPEANS\"\n"
     ]
    },
    {
     "data": {
      "text/plain": [
       "\n",
       "Call:\n",
       "lm(formula = age_of_onset ~ zSCORE + sex_for_qc + PC1 + PC2 + \n",
       "    PC3 + PC4 + PC5 + PC6 + PC7 + PC8 + PC9 + PC10, data = cases)\n",
       "\n",
       "Residuals:\n",
       "    Min      1Q  Median      3Q     Max \n",
       "-44.826  -7.116   0.667   6.937  30.339 \n",
       "\n",
       "Coefficients:\n",
       "             Estimate Std. Error t value Pr(>|t|)    \n",
       "(Intercept)   60.7387     3.9365  15.429   <2e-16 ***\n",
       "zSCORE        -0.5909     1.0173  -0.581    0.562    \n",
       "sex_for_qc    -2.6554     2.1265  -1.249    0.214    \n",
       "PC1          -18.8389    50.5463  -0.373    0.710    \n",
       "PC2          -83.3250   103.9972  -0.801    0.424    \n",
       "PC3         -225.1856   263.1328  -0.856    0.393    \n",
       "PC4           19.9703   202.2257   0.099    0.921    \n",
       "PC5         -200.0679   191.8450  -1.043    0.299    \n",
       "PC6          239.9954   169.7551   1.414    0.159    \n",
       "PC7         -127.7173   138.6753  -0.921    0.359    \n",
       "PC8           28.5321   122.6194   0.233    0.816    \n",
       "PC9           65.1564   117.4672   0.555    0.580    \n",
       "PC10         -39.4839   114.5218  -0.345    0.731    \n",
       "---\n",
       "Signif. codes:  0 ‘***’ 0.001 ‘**’ 0.01 ‘*’ 0.05 ‘.’ 0.1 ‘ ’ 1\n",
       "\n",
       "Residual standard error: 13.06 on 152 degrees of freedom\n",
       "  (2417 observations deleted due to missingness)\n",
       "Multiple R-squared:  0.05406,\tAdjusted R-squared:  -0.02062 \n",
       "F-statistic: 0.7239 on 12 and 152 DF,  p-value: 0.7265\n"
      ]
     },
     "metadata": {},
     "output_type": "display_data"
    },
    {
     "name": "stdout",
     "output_type": "stream",
     "text": [
      "[1] \n",
      "[1] \"LATINO\"\n"
     ]
    },
    {
     "data": {
      "text/plain": [
       "\n",
       "Call:\n",
       "lm(formula = age_of_onset ~ zSCORE + sex_for_qc + PC1 + PC2 + \n",
       "    PC3 + PC4 + PC5 + PC6 + PC7 + PC8 + PC9 + PC10, data = cases)\n",
       "\n",
       "Residuals:\n",
       "    Min      1Q  Median      3Q     Max \n",
       "-43.638  -7.051   0.636   7.003  30.207 \n",
       "\n",
       "Coefficients:\n",
       "             Estimate Std. Error t value Pr(>|t|)    \n",
       "(Intercept)   60.5004     3.9182  15.441   <2e-16 ***\n",
       "zSCORE         0.1631     1.0580   0.154    0.878    \n",
       "sex_for_qc    -2.5257     2.1177  -1.193    0.235    \n",
       "PC1          -18.4519    50.7198  -0.364    0.717    \n",
       "PC2          -82.9546   104.6316  -0.793    0.429    \n",
       "PC3         -248.9927   263.8869  -0.944    0.347    \n",
       "PC4           23.8891   202.5669   0.118    0.906    \n",
       "PC5         -205.5056   192.4314  -1.068    0.287    \n",
       "PC6          242.4080   169.8755   1.427    0.156    \n",
       "PC7         -126.0046   139.3474  -0.904    0.367    \n",
       "PC8           27.0715   122.7877   0.220    0.826    \n",
       "PC9           59.2752   117.1860   0.506    0.614    \n",
       "PC10         -40.0829   114.6370  -0.350    0.727    \n",
       "---\n",
       "Signif. codes:  0 ‘***’ 0.001 ‘**’ 0.01 ‘*’ 0.05 ‘.’ 0.1 ‘ ’ 1\n",
       "\n",
       "Residual standard error: 13.07 on 152 degrees of freedom\n",
       "  (2417 observations deleted due to missingness)\n",
       "Multiple R-squared:  0.05211,\tAdjusted R-squared:  -0.02273 \n",
       "F-statistic: 0.6963 on 12 and 152 DF,  p-value: 0.7533\n"
      ]
     },
     "metadata": {},
     "output_type": "display_data"
    },
    {
     "name": "stdout",
     "output_type": "stream",
     "text": [
      "[1] \n",
      "[1] \"EASTASIANS\"\n"
     ]
    },
    {
     "data": {
      "text/plain": [
       "\n",
       "Call:\n",
       "lm(formula = age_of_onset ~ zSCORE + sex_for_qc + PC1 + PC2 + \n",
       "    PC3 + PC4 + PC5 + PC6 + PC7 + PC8 + PC9 + PC10, data = cases)\n",
       "\n",
       "Residuals:\n",
       "    Min      1Q  Median      3Q     Max \n",
       "-41.721  -7.156   0.593   7.512  31.376 \n",
       "\n",
       "Coefficients:\n",
       "             Estimate Std. Error t value Pr(>|t|)    \n",
       "(Intercept)   59.9477     3.9044  15.354   <2e-16 ***\n",
       "zSCORE         1.5106     0.9828   1.537    0.126    \n",
       "sex_for_qc    -2.3689     2.1040  -1.126    0.262    \n",
       "PC1          -22.4576    50.2635  -0.447    0.656    \n",
       "PC2          -88.3898   103.3562  -0.855    0.394    \n",
       "PC3         -252.8423   259.5813  -0.974    0.332    \n",
       "PC4           52.6884   201.7998   0.261    0.794    \n",
       "PC5         -233.2839   191.4844  -1.218    0.225    \n",
       "PC6          223.4842   169.0374   1.322    0.188    \n",
       "PC7         -123.5812   137.6060  -0.898    0.371    \n",
       "PC8           34.8837   121.8807   0.286    0.775    \n",
       "PC9           44.3813   116.4309   0.381    0.704    \n",
       "PC10         -36.9586   113.7819  -0.325    0.746    \n",
       "---\n",
       "Signif. codes:  0 ‘***’ 0.001 ‘**’ 0.01 ‘*’ 0.05 ‘.’ 0.1 ‘ ’ 1\n",
       "\n",
       "Residual standard error: 12.97 on 152 degrees of freedom\n",
       "  (2417 observations deleted due to missingness)\n",
       "Multiple R-squared:  0.06647,\tAdjusted R-squared:  -0.007233 \n",
       "F-statistic: 0.9019 on 12 and 152 DF,  p-value: 0.5467\n"
      ]
     },
     "metadata": {},
     "output_type": "display_data"
    }
   ],
   "source": [
    "library(data.table)\n",
    "setwd(\"./imputed_data/AFR/\")\n",
    "temp_data <- read.table(\"PRS_score_release_AFRICANS.profile\", header = T) \n",
    "temp_covs <- read.table(\"./quality_control/release6/genotype_qc/GP2_release6_NOVEMBER_AFR_maf_hwe_pca.eigenvec\", header = T, sep=\"\\t\")\n",
    "colnames(temp_covs) <- c(\"FID\", \"IID\", \"PC1\", \"PC2\", \"PC3\", \"PC4\", \"PC5\", \"PC6\", \"PC7\", \"PC8\", \"PC9\", \"PC10\")\n",
    "temp_covs_2 <- read.table(\"./AAO.txt\", header = T, sep=\"\\t\")\n",
    "colnames(temp_covs_2)[2] =\"IID\"\n",
    "covs <- merge(temp_covs, temp_covs_2, by = \"IID\")\n",
    "data <- merge(temp_data, covs, by = \"IID\")\n",
    "data$CASE <- data$PHENO - 1\n",
    "cases <- subset(data, CASE = 1)\n",
    "meanPop <- mean(cases$SCORE)\n",
    "sdPop <- sd(cases$SCORE)\n",
    "cases$zSCORE <- (cases$SCORE - meanPop)/sdPop\n",
    "grsTests <- lm(age_of_onset ~ zSCORE + sex_for_qc + PC1 + PC2 + PC3 + PC4 + PC5 + PC6 + PC7 + PC8 + PC9 + PC10, data = cases)\n",
    "print(\"AFRICANS\")\n",
    "summary(grsTests)\n",
    "\n",
    "library(data.table)\n",
    "temp_data <- read.table(\"PRS_score_release_EUROPEAN.profile\", header = T) \n",
    "temp_covs <- read.table(\"./quality_control/release6/genotype_qc/GP2_release6_NOVEMBER_AFR_maf_hwe_pca.eigenvec\", header = T, sep=\"\\t\")\n",
    "colnames(temp_covs) <- c(\"FID\", \"IID\", \"PC1\", \"PC2\", \"PC3\", \"PC4\", \"PC5\", \"PC6\", \"PC7\", \"PC8\", \"PC9\", \"PC10\")\n",
    "temp_covs_2 <- read.table(\"./AAO.txt\", header = T, sep=\"\\t\")\n",
    "colnames(temp_covs_2)[2] =\"IID\"\n",
    "covs <- merge(temp_covs, temp_covs_2, by = \"IID\")\n",
    "data <- merge(temp_data, covs, by = \"IID\")\n",
    "data$CASE <- data$PHENO - 1\n",
    "cases <- subset(data, CASE = 1)\n",
    "meanPop <- mean(cases$SCORE)\n",
    "sdPop <- sd(cases$SCORE)\n",
    "cases$zSCORE <- (cases$SCORE - meanPop)/sdPop\n",
    "grsTests <- lm(age_of_onset ~ zSCORE + sex_for_qc + PC1 + PC2 + PC3 + PC4 + PC5 + PC6 + PC7 + PC8 + PC9 + PC10, data = cases)\n",
    "print(noquote(\"\"))\n",
    "print(\"EUROPEANS\")\n",
    "summary(grsTests) \n",
    "\n",
    "library(data.table)\n",
    "temp_data <- read.table(\"PRS_score_release_LATINO.profile\", header = T) \n",
    "temp_covs <- read.table(\"./quality_control/release6/genotype_qc/GP2_release6_NOVEMBER_AFR_maf_hwe_pca.eigenvec\", header = T, sep=\"\\t\")\n",
    "colnames(temp_covs) <- c(\"FID\", \"IID\", \"PC1\", \"PC2\", \"PC3\", \"PC4\", \"PC5\", \"PC6\", \"PC7\", \"PC8\", \"PC9\", \"PC10\")\n",
    "temp_covs_2 <- read.table(\"./AAO.txt\", header = T, sep=\"\\t\")\n",
    "colnames(temp_covs_2)[2] =\"IID\"\n",
    "covs <- merge(temp_covs, temp_covs_2, by = \"IID\")\n",
    "data <- merge(temp_data, covs, by = \"IID\")\n",
    "data$CASE <- data$PHENO - 1\n",
    "cases <- subset(data, CASE = 1)\n",
    "meanPop <- mean(cases$SCORE)\n",
    "sdPop <- sd(cases$SCORE)\n",
    "cases$zSCORE <- (cases$SCORE - meanPop)/sdPop\n",
    "grsTests <- lm(age_of_onset ~ zSCORE + sex_for_qc + PC1 + PC2 + PC3 + PC4 + PC5 + PC6 + PC7 + PC8 + PC9 + PC10, data = cases)\n",
    "print(noquote(\"\"))\n",
    "print(\"LATINO\")\n",
    "summary(grsTests)  \n",
    "\n",
    "library(data.table)\n",
    "temp_data <- read.table(\"PRS_score_release_EASTASIANS.profile\", header = T) \n",
    "temp_covs <- read.table(\"./quality_control/release6/genotype_qc/GP2_release6_NOVEMBER_AFR_maf_hwe_pca.eigenvec\", header = T, sep=\"\\t\")\n",
    "colnames(temp_covs) <- c(\"FID\", \"IID\", \"PC1\", \"PC2\", \"PC3\", \"PC4\", \"PC5\", \"PC6\", \"PC7\", \"PC8\", \"PC9\", \"PC10\")\n",
    "temp_covs_2 <- read.table(\"./AAO.txt\", header = T, sep=\"\\t\")\n",
    "colnames(temp_covs_2)[2] =\"IID\"\n",
    "covs <- merge(temp_covs, temp_covs_2, by = \"IID\")\n",
    "data <- merge(temp_data, covs, by = \"IID\")\n",
    "data$CASE <- data$PHENO - 1\n",
    "cases <- subset(data, CASE = 1)\n",
    "meanPop <- mean(cases$SCORE)\n",
    "sdPop <- sd(cases$SCORE)\n",
    "cases$zSCORE <- (cases$SCORE - meanPop)/sdPop\n",
    "grsTests <- lm(age_of_onset ~ zSCORE + sex_for_qc + PC1 + PC2 + PC3 + PC4 + PC5 + PC6 + PC7 + PC8 + PC9 + PC10, data = cases)\n",
    "print(noquote(\"\"))\n",
    "print(\"EASTASIANS\")\n",
    "summary(grsTests)\n"
   ]
  },
  {
   "cell_type": "code",
   "execution_count": null,
   "id": "3ebae614-c7e9-4eae-901c-b273f961a21a",
   "metadata": {
    "vscode": {
     "languageId": "r"
    }
   },
   "outputs": [],
   "source": [
    "###################################### AJ ###################################### \n",
    "cd ${WORK_DIR}/imputed_data/AJ"
   ]
  },
  {
   "cell_type": "code",
   "execution_count": 15,
   "id": "88a06bf3-9b4d-4ac4-9d31-036d706076d5",
   "metadata": {
    "vscode": {
     "languageId": "r"
    }
   },
   "outputs": [
    {
     "name": "stdout",
     "output_type": "stream",
     "text": [
      "[1] \"AFRICANS\"\n"
     ]
    },
    {
     "data": {
      "text/plain": [
       "\n",
       "Call:\n",
       "lm(formula = age_of_onset ~ zSCORE + sex_for_qc + PC1 + PC2 + \n",
       "    PC3 + PC4 + PC5 + PC6 + PC7 + PC8 + PC9 + PC10, data = cases)\n",
       "\n",
       "Residuals:\n",
       "    Min      1Q  Median      3Q     Max \n",
       "-45.816  -7.471   1.050   8.060  28.702 \n",
       "\n",
       "Coefficients:\n",
       "            Estimate Std. Error t value Pr(>|t|)    \n",
       "(Intercept)  61.4066     1.1148  55.083   <2e-16 ***\n",
       "zSCORE       -0.3052     0.3657  -0.835   0.4041    \n",
       "sex_for_qc   -0.5999     0.7942  -0.755   0.4503    \n",
       "PC1         -68.4536    40.1677  -1.704   0.0887 .  \n",
       "PC2         -50.2743    41.3997  -1.214   0.2249    \n",
       "PC3         -38.3364    22.6861  -1.690   0.0914 .  \n",
       "PC4          -3.3469    26.8119  -0.125   0.9007    \n",
       "PC5         -10.9764    29.0980  -0.377   0.7061    \n",
       "PC6         -38.3612    27.4278  -1.399   0.1623    \n",
       "PC7           7.3366    25.3020   0.290   0.7719    \n",
       "PC8          15.9842    25.9176   0.617   0.5376    \n",
       "PC9          -0.9461    22.8003  -0.041   0.9669    \n",
       "PC10        -19.2418    25.1614  -0.765   0.4446    \n",
       "---\n",
       "Signif. codes:  0 ‘***’ 0.001 ‘**’ 0.01 ‘*’ 0.05 ‘.’ 0.1 ‘ ’ 1\n",
       "\n",
       "Residual standard error: 11.37 on 933 degrees of freedom\n",
       "  (1285 observations deleted due to missingness)\n",
       "Multiple R-squared:  0.01081,\tAdjusted R-squared:  -0.001914 \n",
       "F-statistic: 0.8495 on 12 and 933 DF,  p-value: 0.599\n"
      ]
     },
     "metadata": {},
     "output_type": "display_data"
    },
    {
     "name": "stdout",
     "output_type": "stream",
     "text": [
      "[1] \n",
      "[1] \"EUROPEANS\"\n"
     ]
    },
    {
     "data": {
      "text/plain": [
       "\n",
       "Call:\n",
       "lm(formula = age_of_onset ~ zSCORE + sex_for_qc + PC1 + PC2 + \n",
       "    PC3 + PC4 + PC5 + PC6 + PC7 + PC8 + PC9 + PC10, data = cases)\n",
       "\n",
       "Residuals:\n",
       "    Min      1Q  Median      3Q     Max \n",
       "-45.833  -7.277   1.090   7.965  31.857 \n",
       "\n",
       "Coefficients:\n",
       "            Estimate Std. Error t value Pr(>|t|)    \n",
       "(Intercept)  60.7261     1.1106  54.678  < 2e-16 ***\n",
       "zSCORE       -1.8451     0.3942  -4.681 3.28e-06 ***\n",
       "sex_for_qc   -0.1535     0.7909  -0.194    0.846    \n",
       "PC1         -63.8973    39.7221  -1.609    0.108    \n",
       "PC2         -44.3722    40.9505  -1.084    0.279    \n",
       "PC3         -32.1180    22.4713  -1.429    0.153    \n",
       "PC4         -12.1228    26.4964  -0.458    0.647    \n",
       "PC5          -6.2308    28.7521  -0.217    0.828    \n",
       "PC6         -34.9715    27.1305  -1.289    0.198    \n",
       "PC7           6.0784    24.9078   0.244    0.807    \n",
       "PC8          18.6357    25.5618   0.729    0.466    \n",
       "PC9          -0.8715    22.5251  -0.039    0.969    \n",
       "PC10        -19.4943    24.8788  -0.784    0.433    \n",
       "---\n",
       "Signif. codes:  0 ‘***’ 0.001 ‘**’ 0.01 ‘*’ 0.05 ‘.’ 0.1 ‘ ’ 1\n",
       "\n",
       "Residual standard error: 11.24 on 933 degrees of freedom\n",
       "  (1285 observations deleted due to missingness)\n",
       "Multiple R-squared:  0.03278,\tAdjusted R-squared:  0.02034 \n",
       "F-statistic: 2.635 on 12 and 933 DF,  p-value: 0.001795\n"
      ]
     },
     "metadata": {},
     "output_type": "display_data"
    },
    {
     "name": "stdout",
     "output_type": "stream",
     "text": [
      "[1] \n",
      "[1] \"LATINO\"\n"
     ]
    },
    {
     "data": {
      "text/plain": [
       "\n",
       "Call:\n",
       "lm(formula = age_of_onset ~ zSCORE + sex_for_qc + PC1 + PC2 + \n",
       "    PC3 + PC4 + PC5 + PC6 + PC7 + PC8 + PC9 + PC10, data = cases)\n",
       "\n",
       "Residuals:\n",
       "    Min      1Q  Median      3Q     Max \n",
       "-46.233  -7.605   0.933   7.986  29.435 \n",
       "\n",
       "Coefficients:\n",
       "            Estimate Std. Error t value Pr(>|t|)    \n",
       "(Intercept)  61.4943     1.1164  55.081   <2e-16 ***\n",
       "zSCORE       -0.5301     0.3712  -1.428   0.1537    \n",
       "sex_for_qc   -0.6440     0.7944  -0.811   0.4177    \n",
       "PC1         -66.4478    40.1451  -1.655   0.0982 .  \n",
       "PC2         -49.4195    41.3748  -1.194   0.2326    \n",
       "PC3         -38.5446    22.6705  -1.700   0.0894 .  \n",
       "PC4          -4.5226    26.7317  -0.169   0.8657    \n",
       "PC5          -8.9341    29.0525  -0.308   0.7585    \n",
       "PC6         -37.6596    27.4147  -1.374   0.1699    \n",
       "PC7           7.0443    25.1989   0.280   0.7799    \n",
       "PC8          12.1200    25.8572   0.469   0.6394    \n",
       "PC9           0.5280    22.8194   0.023   0.9815    \n",
       "PC10        -19.4388    25.1435  -0.773   0.4397    \n",
       "---\n",
       "Signif. codes:  0 ‘***’ 0.001 ‘**’ 0.01 ‘*’ 0.05 ‘.’ 0.1 ‘ ’ 1\n",
       "\n",
       "Residual standard error: 11.36 on 933 degrees of freedom\n",
       "  (1285 observations deleted due to missingness)\n",
       "Multiple R-squared:  0.01223,\tAdjusted R-squared:  -0.0004763 \n",
       "F-statistic: 0.9625 on 12 and 933 DF,  p-value: 0.4832\n"
      ]
     },
     "metadata": {},
     "output_type": "display_data"
    },
    {
     "name": "stdout",
     "output_type": "stream",
     "text": [
      "[1] \n",
      "[1] \"EASTASIANS\"\n"
     ]
    },
    {
     "data": {
      "text/plain": [
       "\n",
       "Call:\n",
       "lm(formula = age_of_onset ~ zSCORE + sex_for_qc + PC1 + PC2 + \n",
       "    PC3 + PC4 + PC5 + PC6 + PC7 + PC8 + PC9 + PC10, data = cases)\n",
       "\n",
       "Residuals:\n",
       "    Min      1Q  Median      3Q     Max \n",
       "-47.075  -7.662   1.088   8.087  30.099 \n",
       "\n",
       "Coefficients:\n",
       "            Estimate Std. Error t value Pr(>|t|)    \n",
       "(Intercept)  61.6147     1.1168  55.172   <2e-16 ***\n",
       "zSCORE       -0.8203     0.3678  -2.230   0.0260 *  \n",
       "sex_for_qc   -0.6915     0.7936  -0.871   0.3838    \n",
       "PC1         -69.7094    40.0784  -1.739   0.0823 .  \n",
       "PC2         -46.5470    41.3437  -1.126   0.2605    \n",
       "PC3         -36.2481    22.6527  -1.600   0.1099    \n",
       "PC4          -3.4942    26.6959  -0.131   0.8959    \n",
       "PC5         -10.7596    29.0029  -0.371   0.7107    \n",
       "PC6         -35.6566    27.3959  -1.302   0.1934    \n",
       "PC7           5.8288    25.1321   0.232   0.8166    \n",
       "PC8          15.6151    25.7815   0.606   0.5449    \n",
       "PC9           0.2318    22.7445   0.010   0.9919    \n",
       "PC10        -18.7305    25.1025  -0.746   0.4558    \n",
       "---\n",
       "Signif. codes:  0 ‘***’ 0.001 ‘**’ 0.01 ‘*’ 0.05 ‘.’ 0.1 ‘ ’ 1\n",
       "\n",
       "Residual standard error: 11.34 on 933 degrees of freedom\n",
       "  (1285 observations deleted due to missingness)\n",
       "Multiple R-squared:  0.01532,\tAdjusted R-squared:  0.002654 \n",
       "F-statistic:  1.21 on 12 and 933 DF,  p-value: 0.2711\n"
      ]
     },
     "metadata": {},
     "output_type": "display_data"
    }
   ],
   "source": [
    "library(data.table)\n",
    "setwd(\"./imputed_data/AJ/\")\n",
    "temp_data <- read.table(\"PRS_score_release_AFRICANS.profile\", header = T) \n",
    "temp_covs <- read.table(\"./quality_control/release6/genotype_qc/GP2_release6_NOVEMBER_AJ_maf_hwe_pca.eigenvec\", header = T, sep=\"\\t\")\n",
    "colnames(temp_covs) <- c(\"FID\", \"IID\", \"PC1\", \"PC2\", \"PC3\", \"PC4\", \"PC5\", \"PC6\", \"PC7\", \"PC8\", \"PC9\", \"PC10\")\n",
    "temp_covs_2 <- read.table(\"./AAO.txt\", header = T, sep=\"\\t\")\n",
    "colnames(temp_covs_2)[2] =\"IID\"\n",
    "covs <- merge(temp_covs, temp_covs_2, by = \"IID\")\n",
    "data <- merge(temp_data, covs, by = \"IID\")\n",
    "data$CASE <- data$PHENO - 1\n",
    "cases <- subset(data, CASE = 1)\n",
    "meanPop <- mean(cases$SCORE)\n",
    "sdPop <- sd(cases$SCORE)\n",
    "cases$zSCORE <- (cases$SCORE - meanPop)/sdPop\n",
    "grsTests <- lm(age_of_onset ~ zSCORE + sex_for_qc + PC1 + PC2 + PC3 + PC4 + PC5 + PC6 + PC7 + PC8 + PC9 + PC10, data = cases)\n",
    "print(\"AFRICANS\")\n",
    "summary(grsTests)\n",
    "\n",
    "library(data.table)\n",
    "temp_data <- read.table(\"PRS_score_release_EUROPEAN.profile\", header = T) \n",
    "temp_covs <- read.table(\"./quality_control/release6/genotype_qc/GP2_release6_NOVEMBER_AJ_maf_hwe_pca.eigenvec\", header = T, sep=\"\\t\")\n",
    "colnames(temp_covs) <- c(\"FID\", \"IID\", \"PC1\", \"PC2\", \"PC3\", \"PC4\", \"PC5\", \"PC6\", \"PC7\", \"PC8\", \"PC9\", \"PC10\")\n",
    "temp_covs_2 <- read.table(\"./AAO.txt\", header = T, sep=\"\\t\")\n",
    "colnames(temp_covs_2)[2] =\"IID\"\n",
    "covs <- merge(temp_covs, temp_covs_2, by = \"IID\")\n",
    "data <- merge(temp_data, covs, by = \"IID\")\n",
    "data$CASE <- data$PHENO - 1\n",
    "cases <- subset(data, CASE = 1)\n",
    "meanPop <- mean(cases$SCORE)\n",
    "sdPop <- sd(cases$SCORE)\n",
    "cases$zSCORE <- (cases$SCORE - meanPop)/sdPop\n",
    "grsTests <- lm(age_of_onset ~ zSCORE + sex_for_qc + PC1 + PC2 + PC3 + PC4 + PC5 + PC6 + PC7 + PC8 + PC9 + PC10, data = cases)\n",
    "print(noquote(\"\"))\n",
    "print(\"EUROPEANS\")\n",
    "summary(grsTests)\n",
    "\n",
    "library(data.table)\n",
    "temp_data <- read.table(\"PRS_score_release_LATINO.profile\", header = T) \n",
    "temp_covs <- read.table(\"./quality_control/release6/genotype_qc/GP2_release6_NOVEMBER_AJ_maf_hwe_pca.eigenvec\", header = T, sep=\"\\t\")\n",
    "colnames(temp_covs) <- c(\"FID\", \"IID\", \"PC1\", \"PC2\", \"PC3\", \"PC4\", \"PC5\", \"PC6\", \"PC7\", \"PC8\", \"PC9\", \"PC10\")\n",
    "temp_covs_2 <- read.table(\"./AAO.txt\", header = T, sep=\"\\t\")\n",
    "colnames(temp_covs_2)[2] =\"IID\"\n",
    "covs <- merge(temp_covs, temp_covs_2, by = \"IID\")\n",
    "data <- merge(temp_data, covs, by = \"IID\")\n",
    "data$CASE <- data$PHENO - 1\n",
    "cases <- subset(data, CASE = 1)\n",
    "meanPop <- mean(cases$SCORE)\n",
    "sdPop <- sd(cases$SCORE)\n",
    "cases$zSCORE <- (cases$SCORE - meanPop)/sdPop\n",
    "grsTests <- lm(age_of_onset ~ zSCORE + sex_for_qc + PC1 + PC2 + PC3 + PC4 + PC5 + PC6 + PC7 + PC8 + PC9 + PC10, data = cases)\n",
    "print(noquote(\"\"))\n",
    "print(\"LATINO\")\n",
    "summary(grsTests)\n",
    "\n",
    "library(data.table)\n",
    "temp_data <- read.table(\"PRS_score_release_EASTASIANS.profile\", header = T) \n",
    "temp_covs <- read.table(\"./quality_control/release6/genotype_qc/GP2_release6_NOVEMBER_AJ_maf_hwe_pca.eigenvec\", header = T, sep=\"\\t\")\n",
    "colnames(temp_covs) <- c(\"FID\", \"IID\", \"PC1\", \"PC2\", \"PC3\", \"PC4\", \"PC5\", \"PC6\", \"PC7\", \"PC8\", \"PC9\", \"PC10\")\n",
    "temp_covs_2 <- read.table(\"./AAO.txt\", header = T, sep=\"\\t\")\n",
    "colnames(temp_covs_2)[2] =\"IID\"\n",
    "covs <- merge(temp_covs, temp_covs_2, by = \"IID\")\n",
    "data <- merge(temp_data, covs, by = \"IID\")\n",
    "data$CASE <- data$PHENO - 1\n",
    "cases <- subset(data, CASE = 1)\n",
    "meanPop <- mean(cases$SCORE)\n",
    "sdPop <- sd(cases$SCORE)\n",
    "cases$zSCORE <- (cases$SCORE - meanPop)/sdPop\n",
    "grsTests <- lm(age_of_onset ~ zSCORE + sex_for_qc + PC1 + PC2 + PC3 + PC4 + PC5 + PC6 + PC7 + PC8 + PC9 + PC10, data = cases)\n",
    "print(noquote(\"\"))\n",
    "print(\"EASTASIANS\")\n",
    "summary(grsTests)"
   ]
  },
  {
   "cell_type": "code",
   "execution_count": null,
   "id": "726147c2-9949-44d3-b14f-17e5114d49e0",
   "metadata": {
    "vscode": {
     "languageId": "r"
    }
   },
   "outputs": [],
   "source": [
    "###################################### AMR ###################################### \n",
    "cd /data/CARD_training/imputed_data/AMR"
   ]
  },
  {
   "cell_type": "code",
   "execution_count": 16,
   "id": "74578d3e-0483-4a96-8ba2-5c6e775f0cae",
   "metadata": {
    "vscode": {
     "languageId": "r"
    }
   },
   "outputs": [
    {
     "name": "stdout",
     "output_type": "stream",
     "text": [
      "[1] \"AFRICANS\"\n"
     ]
    },
    {
     "data": {
      "text/plain": [
       "\n",
       "Call:\n",
       "lm(formula = age_of_onset ~ zSCORE + sex_for_qc + PC1 + PC2 + \n",
       "    PC3 + PC4 + PC5 + PC6 + PC7 + PC8 + PC9 + PC10, data = cases)\n",
       "\n",
       "Residuals:\n",
       "    Min      1Q  Median      3Q     Max \n",
       "-40.074  -8.392   0.405  10.420  31.991 \n",
       "\n",
       "Coefficients:\n",
       "            Estimate Std. Error t value Pr(>|t|)    \n",
       "(Intercept)  53.7990     3.2466  16.571  < 2e-16 ***\n",
       "zSCORE        0.1694     0.9340   0.181  0.85624    \n",
       "sex_for_qc   -2.3582     1.8625  -1.266  0.20687    \n",
       "PC1         -59.2592    47.4365  -1.249  0.21298    \n",
       "PC2         -64.3330    42.1119  -1.528  0.12811    \n",
       "PC3          -4.5129    23.6645  -0.191  0.84894    \n",
       "PC4          30.2422    21.9397   1.378  0.16955    \n",
       "PC5         -94.3367    31.1612  -3.027  0.00278 ** \n",
       "PC6           1.9617    44.0903   0.044  0.96455    \n",
       "PC7          16.2299    30.2819   0.536  0.59256    \n",
       "PC8         -49.9967    41.9037  -1.193  0.23417    \n",
       "PC9          20.0360    38.0172   0.527  0.59874    \n",
       "PC10         -7.6568    35.9440  -0.213  0.83152    \n",
       "---\n",
       "Signif. codes:  0 ‘***’ 0.001 ‘**’ 0.01 ‘*’ 0.05 ‘.’ 0.1 ‘ ’ 1\n",
       "\n",
       "Residual standard error: 13.52 on 209 degrees of freedom\n",
       "  (251 observations deleted due to missingness)\n",
       "Multiple R-squared:  0.09145,\tAdjusted R-squared:  0.03928 \n",
       "F-statistic: 1.753 on 12 and 209 DF,  p-value: 0.05793\n"
      ]
     },
     "metadata": {},
     "output_type": "display_data"
    },
    {
     "name": "stdout",
     "output_type": "stream",
     "text": [
      "[1] \n",
      "[1] \"EUROPEANS\"\n"
     ]
    },
    {
     "data": {
      "text/plain": [
       "\n",
       "Call:\n",
       "lm(formula = age_of_onset ~ zSCORE + sex_for_qc + PC1 + PC2 + \n",
       "    PC3 + PC4 + PC5 + PC6 + PC7 + PC8 + PC9 + PC10, data = cases)\n",
       "\n",
       "Residuals:\n",
       "    Min      1Q  Median      3Q     Max \n",
       "-39.587  -8.500   0.316  10.191  32.476 \n",
       "\n",
       "Coefficients:\n",
       "            Estimate Std. Error t value Pr(>|t|)    \n",
       "(Intercept)  53.6721     3.2707  16.410  < 2e-16 ***\n",
       "zSCORE       -0.2798     0.9780  -0.286  0.77510    \n",
       "sex_for_qc   -2.2597     1.8830  -1.200  0.23146    \n",
       "PC1         -60.3661    47.5522  -1.269  0.20569    \n",
       "PC2         -65.3790    42.2050  -1.549  0.12287    \n",
       "PC3          -5.1945    23.7097  -0.219  0.82680    \n",
       "PC4          30.1540    21.9034   1.377  0.17008    \n",
       "PC5         -94.2931    31.1582  -3.026  0.00279 ** \n",
       "PC6           3.8957    43.8520   0.089  0.92930    \n",
       "PC7          17.3801    30.3063   0.573  0.56693    \n",
       "PC8         -51.6148    42.5182  -1.214  0.22614    \n",
       "PC9          22.1297    37.9622   0.583  0.56056    \n",
       "PC10         -6.0813    36.0453  -0.169  0.86619    \n",
       "---\n",
       "Signif. codes:  0 ‘***’ 0.001 ‘**’ 0.01 ‘*’ 0.05 ‘.’ 0.1 ‘ ’ 1\n",
       "\n",
       "Residual standard error: 13.51 on 209 degrees of freedom\n",
       "  (251 observations deleted due to missingness)\n",
       "Multiple R-squared:  0.09166,\tAdjusted R-squared:  0.0395 \n",
       "F-statistic: 1.757 on 12 and 209 DF,  p-value: 0.0571\n"
      ]
     },
     "metadata": {},
     "output_type": "display_data"
    },
    {
     "name": "stdout",
     "output_type": "stream",
     "text": [
      "[1] \n",
      "[1] \"LATINO\"\n"
     ]
    },
    {
     "data": {
      "text/plain": [
       "\n",
       "Call:\n",
       "lm(formula = age_of_onset ~ zSCORE + sex_for_qc + PC1 + PC2 + \n",
       "    PC3 + PC4 + PC5 + PC6 + PC7 + PC8 + PC9 + PC10, data = cases)\n",
       "\n",
       "Residuals:\n",
       "    Min      1Q  Median      3Q     Max \n",
       "-39.871  -8.243   0.441  10.336  32.519 \n",
       "\n",
       "Coefficients:\n",
       "            Estimate Std. Error t value Pr(>|t|)    \n",
       "(Intercept)  53.7209     3.2573  16.493  < 2e-16 ***\n",
       "zSCORE       -0.2242     0.9152  -0.245  0.80670    \n",
       "sex_for_qc   -2.2988     1.8691  -1.230  0.22012    \n",
       "PC1         -61.2067    48.0130  -1.275  0.20380    \n",
       "PC2         -64.2295    42.1134  -1.525  0.12873    \n",
       "PC3          -4.7457    23.6452  -0.201  0.84113    \n",
       "PC4          30.6343    22.0499   1.389  0.16621    \n",
       "PC5         -95.1162    31.3049  -3.038  0.00268 ** \n",
       "PC6           4.6391    44.2619   0.105  0.91663    \n",
       "PC7          17.2748    30.3083   0.570  0.56931    \n",
       "PC8         -48.3670    41.2536  -1.172  0.24236    \n",
       "PC9          20.9945    37.7204   0.557  0.57841    \n",
       "PC10         -6.2470    36.0435  -0.173  0.86257    \n",
       "---\n",
       "Signif. codes:  0 ‘***’ 0.001 ‘**’ 0.01 ‘*’ 0.05 ‘.’ 0.1 ‘ ’ 1\n",
       "\n",
       "Residual standard error: 13.51 on 209 degrees of freedom\n",
       "  (251 observations deleted due to missingness)\n",
       "Multiple R-squared:  0.09156,\tAdjusted R-squared:  0.0394 \n",
       "F-statistic: 1.755 on 12 and 209 DF,  p-value: 0.05747\n"
      ]
     },
     "metadata": {},
     "output_type": "display_data"
    },
    {
     "name": "stdout",
     "output_type": "stream",
     "text": [
      "[1] \n",
      "[1] \"EASTASIANS\"\n"
     ]
    },
    {
     "data": {
      "text/plain": [
       "\n",
       "Call:\n",
       "lm(formula = age_of_onset ~ zSCORE + sex_for_qc + PC1 + PC2 + \n",
       "    PC3 + PC4 + PC5 + PC6 + PC7 + PC8 + PC9 + PC10, data = cases)\n",
       "\n",
       "Residuals:\n",
       "    Min      1Q  Median      3Q     Max \n",
       "-39.605  -8.189   0.377  10.508  32.315 \n",
       "\n",
       "Coefficients:\n",
       "            Estimate Std. Error t value Pr(>|t|)    \n",
       "(Intercept)  53.6365     3.2549  16.479  < 2e-16 ***\n",
       "zSCORE       -0.5189     0.9210  -0.563  0.57372    \n",
       "sex_for_qc   -2.2593     1.8652  -1.211  0.22716    \n",
       "PC1         -60.8945    47.4762  -1.283  0.20104    \n",
       "PC2         -67.9332    42.5082  -1.598  0.11153    \n",
       "PC3          -5.2901    23.6538  -0.224  0.82325    \n",
       "PC4          30.2735    21.8899   1.383  0.16814    \n",
       "PC5         -92.9693    31.2391  -2.976  0.00326 ** \n",
       "PC6           2.6262    43.7124   0.060  0.95215    \n",
       "PC7          17.3877    30.2072   0.576  0.56550    \n",
       "PC8         -48.4018    41.2145  -1.174  0.24158    \n",
       "PC9          21.2309    37.6998   0.563  0.57393    \n",
       "PC10         -6.7344    35.8301  -0.188  0.85110    \n",
       "---\n",
       "Signif. codes:  0 ‘***’ 0.001 ‘**’ 0.01 ‘*’ 0.05 ‘.’ 0.1 ‘ ’ 1\n",
       "\n",
       "Residual standard error: 13.51 on 209 degrees of freedom\n",
       "  (251 observations deleted due to missingness)\n",
       "Multiple R-squared:  0.09268,\tAdjusted R-squared:  0.04059 \n",
       "F-statistic: 1.779 on 12 and 209 DF,  p-value: 0.05328\n"
      ]
     },
     "metadata": {},
     "output_type": "display_data"
    }
   ],
   "source": [
    "library(data.table)\n",
    "setwd(\"./imputed_data/AMR/\")\n",
    "temp_data <- read.table(\"PRS_score_release_AFRICANS.profile\", header = T) \n",
    "temp_covs <- read.table(\"./quality_control/release6/genotype_qc/GP2_release6_NOVEMBER_AMR_maf_hwe_pca.eigenvec\", header = T, sep=\"\\t\")\n",
    "colnames(temp_covs) <- c(\"FID\", \"IID\", \"PC1\", \"PC2\", \"PC3\", \"PC4\", \"PC5\", \"PC6\", \"PC7\", \"PC8\", \"PC9\", \"PC10\")\n",
    "temp_covs_2 <- read.table(\"./AAO.txt\", header = T, sep=\"\\t\")\n",
    "colnames(temp_covs_2)[2] =\"IID\"\n",
    "covs <- merge(temp_covs, temp_covs_2, by = \"IID\")\n",
    "data <- merge(temp_data, covs, by = \"IID\")\n",
    "data$CASE <- data$PHENO - 1\n",
    "cases <- subset(data, CASE = 1)\n",
    "meanPop <- mean(cases$SCORE)\n",
    "sdPop <- sd(cases$SCORE)\n",
    "cases$zSCORE <- (cases$SCORE - meanPop)/sdPop\n",
    "grsTests <- lm(age_of_onset ~ zSCORE + sex_for_qc + PC1 + PC2 + PC3 + PC4 + PC5 + PC6 + PC7 + PC8 + PC9 + PC10, data = cases)\n",
    "print(\"AFRICANS\")\n",
    "summary(grsTests)\n",
    "\n",
    "library(data.table)\n",
    "temp_data <- read.table(\"PRS_score_release_EUROPEAN.profile\", header = T) \n",
    "temp_covs <- read.table(\"./quality_control/release6/genotype_qc/GP2_release6_NOVEMBER_AMR_maf_hwe_pca.eigenvec\", header = T, sep=\"\\t\")\n",
    "colnames(temp_covs) <- c(\"FID\", \"IID\", \"PC1\", \"PC2\", \"PC3\", \"PC4\", \"PC5\", \"PC6\", \"PC7\", \"PC8\", \"PC9\", \"PC10\")\n",
    "temp_covs_2 <- read.table(\"./AAO.txt\", header = T, sep=\"\\t\")\n",
    "colnames(temp_covs_2)[2] =\"IID\"\n",
    "covs <- merge(temp_covs, temp_covs_2, by = \"IID\")\n",
    "data <- merge(temp_data, covs, by = \"IID\")\n",
    "data$CASE <- data$PHENO - 1\n",
    "cases <- subset(data, CASE = 1)\n",
    "meanPop <- mean(cases$SCORE)\n",
    "sdPop <- sd(cases$SCORE)\n",
    "cases$zSCORE <- (cases$SCORE - meanPop)/sdPop\n",
    "grsTests <- lm(age_of_onset ~ zSCORE + sex_for_qc + PC1 + PC2 + PC3 + PC4 + PC5 + PC6 + PC7 + PC8 + PC9 + PC10, data = cases)\n",
    "print(noquote(\"\"))\n",
    "print(\"EUROPEANS\")\n",
    "summary(grsTests)\n",
    "\n",
    "library(data.table)\n",
    "temp_data <- read.table(\"PRS_score_release_LATINO.profile\", header = T) \n",
    "temp_covs <- read.table(\"./quality_control/release6/genotype_qc/GP2_release6_NOVEMBER_AMR_maf_hwe_pca.eigenvec\", header = T, sep=\"\\t\")\n",
    "colnames(temp_covs) <- c(\"FID\", \"IID\", \"PC1\", \"PC2\", \"PC3\", \"PC4\", \"PC5\", \"PC6\", \"PC7\", \"PC8\", \"PC9\", \"PC10\")\n",
    "temp_covs_2 <- read.table(\"./AAO.txt\", header = T, sep=\"\\t\")\n",
    "colnames(temp_covs_2)[2] =\"IID\"\n",
    "covs <- merge(temp_covs, temp_covs_2, by = \"IID\")\n",
    "data <- merge(temp_data, covs, by = \"IID\")\n",
    "data$CASE <- data$PHENO - 1\n",
    "cases <- subset(data, CASE = 1)\n",
    "meanPop <- mean(cases$SCORE)\n",
    "sdPop <- sd(cases$SCORE)\n",
    "cases$zSCORE <- (cases$SCORE - meanPop)/sdPop\n",
    "grsTests <- lm(age_of_onset ~ zSCORE + sex_for_qc + PC1 + PC2 + PC3 + PC4 + PC5 + PC6 + PC7 + PC8 + PC9 + PC10, data = cases)\n",
    "print(noquote(\"\"))\n",
    "print(\"LATINO\")\n",
    "summary(grsTests)\n",
    "\n",
    "library(data.table)\n",
    "temp_data <- read.table(\"PRS_score_release_EASTASIANS.profile\", header = T) \n",
    "temp_covs <- read.table(\"./quality_control/release6/genotype_qc/GP2_release6_NOVEMBER_AMR_maf_hwe_pca.eigenvec\", header = T, sep=\"\\t\")\n",
    "colnames(temp_covs) <- c(\"FID\", \"IID\", \"PC1\", \"PC2\", \"PC3\", \"PC4\", \"PC5\", \"PC6\", \"PC7\", \"PC8\", \"PC9\", \"PC10\")\n",
    "temp_covs_2 <- read.table(\"./AAO.txt\", header = T, sep=\"\\t\")\n",
    "colnames(temp_covs_2)[2] =\"IID\"\n",
    "covs <- merge(temp_covs, temp_covs_2, by = \"IID\")\n",
    "data <- merge(temp_data, covs, by = \"IID\")\n",
    "data$CASE <- data$PHENO - 1\n",
    "cases <- subset(data, CASE = 1)\n",
    "meanPop <- mean(cases$SCORE)\n",
    "sdPop <- sd(cases$SCORE)\n",
    "cases$zSCORE <- (cases$SCORE - meanPop)/sdPop\n",
    "grsTests <- lm(age_of_onset ~ zSCORE + sex_for_qc + PC1 + PC2 + PC3 + PC4 + PC5 + PC6 + PC7 + PC8 + PC9 + PC10, data = cases)\n",
    "print(noquote(\"\"))\n",
    "print(\"EASTASIANS\")\n",
    "summary(grsTests)"
   ]
  },
  {
   "cell_type": "code",
   "execution_count": null,
   "id": "68fc441f-e6c9-4a0c-9db0-cc4f7e6372c1",
   "metadata": {
    "vscode": {
     "languageId": "r"
    }
   },
   "outputs": [],
   "source": [
    "###################################### CAS ###################################### \n",
    "cd ${WORK_DIR}/imputed_data/CAS"
   ]
  },
  {
   "cell_type": "code",
   "execution_count": 17,
   "id": "206570af-c7c5-4ac7-95e0-18e0b45c2e8f",
   "metadata": {
    "vscode": {
     "languageId": "r"
    }
   },
   "outputs": [
    {
     "name": "stdout",
     "output_type": "stream",
     "text": [
      "[1] \"AFRICANS\"\n"
     ]
    },
    {
     "data": {
      "text/plain": [
       "\n",
       "Call:\n",
       "lm(formula = age_of_onset ~ zSCORE + sex_for_qc + PC1 + PC2 + \n",
       "    PC3 + PC4 + PC5 + PC6 + PC7 + PC8 + PC9 + PC10, data = cases)\n",
       "\n",
       "Residuals:\n",
       "    Min      1Q  Median      3Q     Max \n",
       "-35.904  -6.870   1.218   7.849  22.732 \n",
       "\n",
       "Coefficients:\n",
       "             Estimate Std. Error t value Pr(>|t|)    \n",
       "(Intercept)   44.8625     5.8130   7.718 1.01e-10 ***\n",
       "zSCORE         0.6007     1.6856   0.356    0.723    \n",
       "sex_for_qc     3.4245     3.2044   1.069    0.289    \n",
       "PC1           76.4473   149.1140   0.513    0.610    \n",
       "PC2          -88.1944   247.4485  -0.356    0.723    \n",
       "PC3          -76.4607   303.9802  -0.252    0.802    \n",
       "PC4          -95.0775   167.7765  -0.567    0.573    \n",
       "PC5         -133.3538   233.0950  -0.572    0.569    \n",
       "PC6         -106.2452   178.5211  -0.595    0.554    \n",
       "PC7          172.6984   117.2217   1.473    0.146    \n",
       "PC8          -60.9779   137.4801  -0.444    0.659    \n",
       "PC9          129.6686   127.9948   1.013    0.315    \n",
       "PC10         -15.7134   137.5153  -0.114    0.909    \n",
       "---\n",
       "Signif. codes:  0 ‘***’ 0.001 ‘**’ 0.01 ‘*’ 0.05 ‘.’ 0.1 ‘ ’ 1\n",
       "\n",
       "Residual standard error: 12.34 on 64 degrees of freedom\n",
       "  (416 observations deleted due to missingness)\n",
       "Multiple R-squared:  0.09772,\tAdjusted R-squared:  -0.07146 \n",
       "F-statistic: 0.5776 on 12 and 64 DF,  p-value: 0.8521\n"
      ]
     },
     "metadata": {},
     "output_type": "display_data"
    },
    {
     "name": "stdout",
     "output_type": "stream",
     "text": [
      "[1] \n",
      "[1] \"EUROPEANS\"\n"
     ]
    },
    {
     "data": {
      "text/plain": [
       "\n",
       "Call:\n",
       "lm(formula = age_of_onset ~ zSCORE + sex_for_qc + PC1 + PC2 + \n",
       "    PC3 + PC4 + PC5 + PC6 + PC7 + PC8 + PC9 + PC10, data = cases)\n",
       "\n",
       "Residuals:\n",
       "    Min      1Q  Median      3Q     Max \n",
       "-36.054  -6.823   1.478   7.910  22.509 \n",
       "\n",
       "Coefficients:\n",
       "              Estimate Std. Error t value Pr(>|t|)    \n",
       "(Intercept)   45.22022    5.74618   7.870 5.47e-11 ***\n",
       "zSCORE         0.03466    1.53259   0.023    0.982    \n",
       "sex_for_qc     3.26436    3.17835   1.027    0.308    \n",
       "PC1           73.82018  149.07829   0.495    0.622    \n",
       "PC2          -95.86345  246.75110  -0.389    0.699    \n",
       "PC3          -83.03728  303.74550  -0.273    0.785    \n",
       "PC4         -103.42590  166.99648  -0.619    0.538    \n",
       "PC5         -126.94847  235.58203  -0.539    0.592    \n",
       "PC6         -107.49662  179.00639  -0.601    0.550    \n",
       "PC7          170.76759  117.22688   1.457    0.150    \n",
       "PC8          -62.78993  139.56885  -0.450    0.654    \n",
       "PC9          135.38905  127.16777   1.065    0.291    \n",
       "PC10         -16.37189  138.44182  -0.118    0.906    \n",
       "---\n",
       "Signif. codes:  0 ‘***’ 0.001 ‘**’ 0.01 ‘*’ 0.05 ‘.’ 0.1 ‘ ’ 1\n",
       "\n",
       "Residual standard error: 12.36 on 64 degrees of freedom\n",
       "  (416 observations deleted due to missingness)\n",
       "Multiple R-squared:  0.09593,\tAdjusted R-squared:  -0.07358 \n",
       "F-statistic: 0.5659 on 12 and 64 DF,  p-value: 0.8612\n"
      ]
     },
     "metadata": {},
     "output_type": "display_data"
    },
    {
     "name": "stdout",
     "output_type": "stream",
     "text": [
      "[1] \n",
      "[1] \"LATINO\"\n"
     ]
    },
    {
     "data": {
      "text/plain": [
       "\n",
       "Call:\n",
       "lm(formula = age_of_onset ~ zSCORE + sex_for_qc + PC1 + PC2 + \n",
       "    PC3 + PC4 + PC5 + PC6 + PC7 + PC8 + PC9 + PC10, data = cases)\n",
       "\n",
       "Residuals:\n",
       "    Min      1Q  Median      3Q     Max \n",
       "-35.532  -6.513   1.471   7.944  22.186 \n",
       "\n",
       "Coefficients:\n",
       "             Estimate Std. Error t value Pr(>|t|)    \n",
       "(Intercept)   44.9835     5.7527   7.820 6.71e-11 ***\n",
       "zSCORE         0.6183     1.5562   0.397    0.692    \n",
       "sex_for_qc     3.3194     3.1740   1.046    0.300    \n",
       "PC1           70.0066   149.1999   0.469    0.641    \n",
       "PC2          -75.0101   251.9844  -0.298    0.767    \n",
       "PC3          -70.2316   305.0657  -0.230    0.819    \n",
       "PC4         -100.5474   166.3401  -0.604    0.548    \n",
       "PC5         -129.6151   232.3142  -0.558    0.579    \n",
       "PC6         -100.3468   179.2998  -0.560    0.578    \n",
       "PC7          171.3218   117.0715   1.463    0.148    \n",
       "PC8          -53.8690   139.3406  -0.387    0.700    \n",
       "PC9          124.2293   130.0462   0.955    0.343    \n",
       "PC10         -19.4455   137.7467  -0.141    0.888    \n",
       "---\n",
       "Signif. codes:  0 ‘***’ 0.001 ‘**’ 0.01 ‘*’ 0.05 ‘.’ 0.1 ‘ ’ 1\n",
       "\n",
       "Residual standard error: 12.34 on 64 degrees of freedom\n",
       "  (416 observations deleted due to missingness)\n",
       "Multiple R-squared:  0.09815,\tAdjusted R-squared:  -0.07095 \n",
       "F-statistic: 0.5804 on 12 and 64 DF,  p-value: 0.8499\n"
      ]
     },
     "metadata": {},
     "output_type": "display_data"
    },
    {
     "name": "stdout",
     "output_type": "stream",
     "text": [
      "[1] \n",
      "[1] \"EASTASIANS\"\n"
     ]
    },
    {
     "data": {
      "text/plain": [
       "\n",
       "Call:\n",
       "lm(formula = age_of_onset ~ zSCORE + sex_for_qc + PC1 + PC2 + \n",
       "    PC3 + PC4 + PC5 + PC6 + PC7 + PC8 + PC9 + PC10, data = cases)\n",
       "\n",
       "Residuals:\n",
       "    Min      1Q  Median      3Q     Max \n",
       "-36.681  -6.263   0.782   6.988  22.945 \n",
       "\n",
       "Coefficients:\n",
       "             Estimate Std. Error t value Pr(>|t|)    \n",
       "(Intercept)   45.1923     5.7151   7.908 4.69e-11 ***\n",
       "zSCORE        -0.8173     1.6217  -0.504    0.616    \n",
       "sex_for_qc     3.4472     3.1897   1.081    0.284    \n",
       "PC1           65.6659   149.6557   0.439    0.662    \n",
       "PC2          -91.5214   246.4144  -0.371    0.712    \n",
       "PC3          -52.0187   309.3325  -0.168    0.867    \n",
       "PC4         -107.4671   166.3150  -0.646    0.520    \n",
       "PC5         -126.2773   231.9703  -0.544    0.588    \n",
       "PC6         -103.5559   178.4729  -0.580    0.564    \n",
       "PC7          167.5439   117.1433   1.430    0.158    \n",
       "PC8          -79.8144   141.0271  -0.566    0.573    \n",
       "PC9          138.6530   126.9721   1.092    0.279    \n",
       "PC10          -7.9067   138.3204  -0.057    0.955    \n",
       "---\n",
       "Signif. codes:  0 ‘***’ 0.001 ‘**’ 0.01 ‘*’ 0.05 ‘.’ 0.1 ‘ ’ 1\n",
       "\n",
       "Residual standard error: 12.33 on 64 degrees of freedom\n",
       "  (416 observations deleted due to missingness)\n",
       "Multiple R-squared:  0.0995,\tAdjusted R-squared:  -0.06934 \n",
       "F-statistic: 0.5893 on 12 and 64 DF,  p-value: 0.8429\n"
      ]
     },
     "metadata": {},
     "output_type": "display_data"
    }
   ],
   "source": [
    "library(data.table)\n",
    "setwd(\"./imputed_data/CAS/\")\n",
    "temp_data <- read.table(\"PRS_score_release_AFRICANS.profile\", header = T) \n",
    "temp_covs <- read.table(\"./quality_control/release6/genotype_qc/GP2_release6_NOVEMBER_CAS_maf_hwe_pca.eigenvec\", header = T, sep=\"\\t\")\n",
    "colnames(temp_covs) <- c(\"FID\", \"IID\", \"PC1\", \"PC2\", \"PC3\", \"PC4\", \"PC5\", \"PC6\", \"PC7\", \"PC8\", \"PC9\", \"PC10\")\n",
    "temp_covs_2 <- read.table(\"./AAO.txt\", header = T, sep=\"\\t\")\n",
    "colnames(temp_covs_2)[2] =\"IID\"\n",
    "covs <- merge(temp_covs, temp_covs_2, by = \"IID\")\n",
    "data <- merge(temp_data, covs, by = \"IID\")\n",
    "data$CASE <- data$PHENO - 1\n",
    "cases <- subset(data, CASE = 1)\n",
    "meanPop <- mean(cases$SCORE)\n",
    "sdPop <- sd(cases$SCORE)\n",
    "cases$zSCORE <- (cases$SCORE - meanPop)/sdPop\n",
    "grsTests <- lm(age_of_onset ~ zSCORE + sex_for_qc + PC1 + PC2 + PC3 + PC4 + PC5 + PC6 + PC7 + PC8 + PC9 + PC10, data = cases)\n",
    "print(\"AFRICANS\")\n",
    "summary(grsTests)\n",
    "\n",
    "library(data.table)\n",
    "temp_data <- read.table(\"PRS_score_release_EUROPEAN.profile\", header = T) \n",
    "temp_covs <- read.table(\"./quality_control/release6/genotype_qc/GP2_release6_NOVEMBER_CAS_maf_hwe_pca.eigenvec\", header = T, sep=\"\\t\")\n",
    "colnames(temp_covs) <- c(\"FID\", \"IID\", \"PC1\", \"PC2\", \"PC3\", \"PC4\", \"PC5\", \"PC6\", \"PC7\", \"PC8\", \"PC9\", \"PC10\")\n",
    "temp_covs_2 <- read.table(\"./AAO.txt\", header = T, sep=\"\\t\")\n",
    "colnames(temp_covs_2)[2] =\"IID\"\n",
    "covs <- merge(temp_covs, temp_covs_2, by = \"IID\")\n",
    "data <- merge(temp_data, covs, by = \"IID\")\n",
    "data$CASE <- data$PHENO - 1\n",
    "cases <- subset(data, CASE = 1)\n",
    "meanPop <- mean(cases$SCORE)\n",
    "sdPop <- sd(cases$SCORE)\n",
    "cases$zSCORE <- (cases$SCORE - meanPop)/sdPop\n",
    "grsTests <- lm(age_of_onset ~ zSCORE + sex_for_qc + PC1 + PC2 + PC3 + PC4 + PC5 + PC6 + PC7 + PC8 + PC9 + PC10, data = cases)\n",
    "print(noquote(\"\"))\n",
    "print(\"EUROPEANS\")\n",
    "summary(grsTests)\n",
    "\n",
    "library(data.table)\n",
    "temp_data <- read.table(\"PRS_score_release_LATINO.profile\", header = T) \n",
    "temp_covs <- read.table(\"./quality_control/release6/genotype_qc/GP2_release6_NOVEMBER_CAS_maf_hwe_pca.eigenvec\", header = T, sep=\"\\t\")\n",
    "colnames(temp_covs) <- c(\"FID\", \"IID\", \"PC1\", \"PC2\", \"PC3\", \"PC4\", \"PC5\", \"PC6\", \"PC7\", \"PC8\", \"PC9\", \"PC10\")\n",
    "temp_covs_2 <- read.table(\"./AAO.txt\", header = T, sep=\"\\t\")\n",
    "colnames(temp_covs_2)[2] =\"IID\"\n",
    "covs <- merge(temp_covs, temp_covs_2, by = \"IID\")\n",
    "data <- merge(temp_data, covs, by = \"IID\")\n",
    "data$CASE <- data$PHENO - 1\n",
    "cases <- subset(data, CASE = 1)\n",
    "meanPop <- mean(cases$SCORE)\n",
    "sdPop <- sd(cases$SCORE)\n",
    "cases$zSCORE <- (cases$SCORE - meanPop)/sdPop\n",
    "grsTests <- lm(age_of_onset ~ zSCORE + sex_for_qc + PC1 + PC2 + PC3 + PC4 + PC5 + PC6 + PC7 + PC8 + PC9 + PC10, data = cases)\n",
    "print(noquote(\"\"))\n",
    "print(\"LATINO\")\n",
    "summary(grsTests)\n",
    "\n",
    "library(data.table)\n",
    "temp_data <- read.table(\"PRS_score_release_EASTASIANS.profile\", header = T) \n",
    "temp_covs <- read.table(\"./quality_control/release6/genotype_qc/GP2_release6_NOVEMBER_CAS_maf_hwe_pca.eigenvec\", header = T, sep=\"\\t\")\n",
    "colnames(temp_covs) <- c(\"FID\", \"IID\", \"PC1\", \"PC2\", \"PC3\", \"PC4\", \"PC5\", \"PC6\", \"PC7\", \"PC8\", \"PC9\", \"PC10\")\n",
    "temp_covs_2 <- read.table(\"./AAO.txt\", header = T, sep=\"\\t\")\n",
    "colnames(temp_covs_2)[2] =\"IID\"\n",
    "covs <- merge(temp_covs, temp_covs_2, by = \"IID\")\n",
    "data <- merge(temp_data, covs, by = \"IID\")\n",
    "data$CASE <- data$PHENO - 1\n",
    "cases <- subset(data, CASE = 1)\n",
    "meanPop <- mean(cases$SCORE)\n",
    "sdPop <- sd(cases$SCORE)\n",
    "cases$zSCORE <- (cases$SCORE - meanPop)/sdPop\n",
    "grsTests <- lm(age_of_onset ~ zSCORE + sex_for_qc + PC1 + PC2 + PC3 + PC4 + PC5 + PC6 + PC7 + PC8 + PC9 + PC10, data = cases)\n",
    "print(noquote(\"\"))\n",
    "print(\"EASTASIANS\")\n",
    "summary(grsTests)\n"
   ]
  },
  {
   "cell_type": "code",
   "execution_count": null,
   "id": "9bdd97b2-fa19-467f-9f7f-087e60937c79",
   "metadata": {
    "vscode": {
     "languageId": "r"
    }
   },
   "outputs": [],
   "source": [
    "###################################### EAS ###################################### \n",
    "cd ${WORK_DIR}/imputed_data/EAS"
   ]
  },
  {
   "cell_type": "code",
   "execution_count": 18,
   "id": "be5e9b77-f609-4a3b-883b-f356a2d0e8f0",
   "metadata": {
    "vscode": {
     "languageId": "r"
    }
   },
   "outputs": [
    {
     "name": "stdout",
     "output_type": "stream",
     "text": [
      "[1] \"AFRICANS\"\n"
     ]
    },
    {
     "data": {
      "text/plain": [
       "\n",
       "Call:\n",
       "lm(formula = age_of_onset ~ zSCORE + sex_for_qc + PC1 + PC2 + \n",
       "    PC3 + PC4 + PC5 + PC6 + PC7 + PC8 + PC9 + PC10, data = cases)\n",
       "\n",
       "Residuals:\n",
       "    Min      1Q  Median      3Q     Max \n",
       "-42.880  -8.755  -1.664   8.608  35.529 \n",
       "\n",
       "Coefficients:\n",
       "             Estimate Std. Error t value Pr(>|t|)    \n",
       "(Intercept)   52.1880     4.3561  11.980   <2e-16 ***\n",
       "zSCORE        -0.3813     1.0199  -0.374   0.7090    \n",
       "sex_for_qc     1.5593     2.0045   0.778   0.4376    \n",
       "PC1           11.7176   304.8525   0.038   0.9694    \n",
       "PC2         -258.0843   148.3965  -1.739   0.0837 .  \n",
       "PC3          -81.0767   144.0136  -0.563   0.5741    \n",
       "PC4           53.1532   127.0944   0.418   0.6763    \n",
       "PC5         -510.0781   263.7094  -1.934   0.0546 .  \n",
       "PC6         -106.0814   245.1351  -0.433   0.6657    \n",
       "PC7          163.8287   122.1261   1.341   0.1814    \n",
       "PC8          157.9840   137.2520   1.151   0.2512    \n",
       "PC9         -202.9204   160.4500  -1.265   0.2076    \n",
       "PC10         -22.7126   137.8008  -0.165   0.8693    \n",
       "---\n",
       "Signif. codes:  0 ‘***’ 0.001 ‘**’ 0.01 ‘*’ 0.05 ‘.’ 0.1 ‘ ’ 1\n",
       "\n",
       "Residual standard error: 13.07 on 182 degrees of freedom\n",
       "  (3167 observations deleted due to missingness)\n",
       "Multiple R-squared:  0.1891,\tAdjusted R-squared:  0.1356 \n",
       "F-statistic: 3.536 on 12 and 182 DF,  p-value: 9.897e-05\n"
      ]
     },
     "metadata": {},
     "output_type": "display_data"
    },
    {
     "name": "stdout",
     "output_type": "stream",
     "text": [
      "[1] \n",
      "[1] \"EUROPEANS\"\n"
     ]
    },
    {
     "data": {
      "text/plain": [
       "\n",
       "Call:\n",
       "lm(formula = age_of_onset ~ zSCORE + sex_for_qc + PC1 + PC2 + \n",
       "    PC3 + PC4 + PC5 + PC6 + PC7 + PC8 + PC9 + PC10, data = cases)\n",
       "\n",
       "Residuals:\n",
       "    Min      1Q  Median      3Q     Max \n",
       "-42.724  -8.714  -1.562   9.151  36.057 \n",
       "\n",
       "Coefficients:\n",
       "             Estimate Std. Error t value Pr(>|t|)    \n",
       "(Intercept)   51.8533     4.3003  12.058   <2e-16 ***\n",
       "zSCORE         0.7593     1.0360   0.733   0.4646    \n",
       "sex_for_qc     1.5228     1.9979   0.762   0.4469    \n",
       "PC1           22.6568   304.9747   0.074   0.9409    \n",
       "PC2         -245.3427   149.2103  -1.644   0.1018    \n",
       "PC3          -80.1935   143.8599  -0.557   0.5779    \n",
       "PC4           59.9605   126.5290   0.474   0.6361    \n",
       "PC5         -527.0518   262.9364  -2.004   0.0465 *  \n",
       "PC6         -100.4984   244.9823  -0.410   0.6821    \n",
       "PC7          169.9136   121.7384   1.396   0.1645    \n",
       "PC8          156.8140   137.0526   1.144   0.2540    \n",
       "PC9         -202.7778   160.2489  -1.265   0.2073    \n",
       "PC10         -20.5350   137.5301  -0.149   0.8815    \n",
       "---\n",
       "Signif. codes:  0 ‘***’ 0.001 ‘**’ 0.01 ‘*’ 0.05 ‘.’ 0.1 ‘ ’ 1\n",
       "\n",
       "Residual standard error: 13.06 on 182 degrees of freedom\n",
       "  (3167 observations deleted due to missingness)\n",
       "Multiple R-squared:  0.1908,\tAdjusted R-squared:  0.1375 \n",
       "F-statistic: 3.577 on 12 and 182 DF,  p-value: 8.477e-05\n"
      ]
     },
     "metadata": {},
     "output_type": "display_data"
    },
    {
     "name": "stdout",
     "output_type": "stream",
     "text": [
      "[1] \n",
      "[1] \"LATINO\"\n"
     ]
    },
    {
     "data": {
      "text/plain": [
       "\n",
       "Call:\n",
       "lm(formula = age_of_onset ~ zSCORE + sex_for_qc + PC1 + PC2 + \n",
       "    PC3 + PC4 + PC5 + PC6 + PC7 + PC8 + PC9 + PC10, data = cases)\n",
       "\n",
       "Residuals:\n",
       "    Min      1Q  Median      3Q     Max \n",
       "-43.220  -8.694  -1.919   8.115  35.577 \n",
       "\n",
       "Coefficients:\n",
       "             Estimate Std. Error t value Pr(>|t|)    \n",
       "(Intercept)   51.9583     4.3010  12.081   <2e-16 ***\n",
       "zSCORE        -0.5753     0.9494  -0.606   0.5453    \n",
       "sex_for_qc     1.6938     1.9952   0.849   0.3970    \n",
       "PC1            3.3132   304.8288   0.011   0.9913    \n",
       "PC2         -263.9076   148.6404  -1.775   0.0775 .  \n",
       "PC3          -73.1582   144.4950  -0.506   0.6133    \n",
       "PC4           63.9696   127.0157   0.504   0.6151    \n",
       "PC5         -517.0225   262.7532  -1.968   0.0506 .  \n",
       "PC6         -114.0368   245.3421  -0.465   0.6426    \n",
       "PC7          164.5518   121.8078   1.351   0.1784    \n",
       "PC8          153.6150   137.2044   1.120   0.2644    \n",
       "PC9         -185.6463   162.4915  -1.142   0.2547    \n",
       "PC10         -18.6633   137.6296  -0.136   0.8923    \n",
       "---\n",
       "Signif. codes:  0 ‘***’ 0.001 ‘**’ 0.01 ‘*’ 0.05 ‘.’ 0.1 ‘ ’ 1\n",
       "\n",
       "Residual standard error: 13.07 on 182 degrees of freedom\n",
       "  (3167 observations deleted due to missingness)\n",
       "Multiple R-squared:  0.1901,\tAdjusted R-squared:  0.1367 \n",
       "F-statistic: 3.559 on 12 and 182 DF,  p-value: 9.057e-05\n"
      ]
     },
     "metadata": {},
     "output_type": "display_data"
    },
    {
     "name": "stdout",
     "output_type": "stream",
     "text": [
      "[1] \n",
      "[1] \"EASTASIANS\"\n"
     ]
    },
    {
     "data": {
      "text/plain": [
       "\n",
       "Call:\n",
       "lm(formula = age_of_onset ~ zSCORE + sex_for_qc + PC1 + PC2 + \n",
       "    PC3 + PC4 + PC5 + PC6 + PC7 + PC8 + PC9 + PC10, data = cases)\n",
       "\n",
       "Residuals:\n",
       "    Min      1Q  Median      3Q     Max \n",
       "-43.128  -8.730  -1.617   8.241  36.018 \n",
       "\n",
       "Coefficients:\n",
       "             Estimate Std. Error t value Pr(>|t|)    \n",
       "(Intercept)   52.1005     4.3093  12.090   <2e-16 ***\n",
       "zSCORE        -0.6081     0.9970  -0.610   0.5427    \n",
       "sex_for_qc     1.7043     1.9961   0.854   0.3943    \n",
       "PC1           16.4434   304.8067   0.054   0.9570    \n",
       "PC2         -260.8698   148.3839  -1.758   0.0804 .  \n",
       "PC3          -79.6451   143.9371  -0.553   0.5807    \n",
       "PC4           58.8803   126.5606   0.465   0.6423    \n",
       "PC5         -502.7589   263.8907  -1.905   0.0583 .  \n",
       "PC6         -110.0705   245.0704  -0.449   0.6539    \n",
       "PC7          163.3078   121.8925   1.340   0.1820    \n",
       "PC8          161.0348   137.3074   1.173   0.2424    \n",
       "PC9         -191.8437   161.1276  -1.191   0.2353    \n",
       "PC10         -20.9964   137.5942  -0.153   0.8789    \n",
       "---\n",
       "Signif. codes:  0 ‘***’ 0.001 ‘**’ 0.01 ‘*’ 0.05 ‘.’ 0.1 ‘ ’ 1\n",
       "\n",
       "Residual standard error: 13.07 on 182 degrees of freedom\n",
       "  (3167 observations deleted due to missingness)\n",
       "Multiple R-squared:  0.1901,\tAdjusted R-squared:  0.1367 \n",
       "F-statistic:  3.56 on 12 and 182 DF,  p-value: 9.04e-05\n"
      ]
     },
     "metadata": {},
     "output_type": "display_data"
    }
   ],
   "source": [
    "library(data.table)\n",
    "setwd(\"./imputed_data/EAS/\")\n",
    "temp_data <- read.table(\"PRS_score_release_AFRICANS.profile\", header = T) \n",
    "temp_covs <- read.table(\"./quality_control/release6/genotype_qc/GP2_release6_NOVEMBER_EAS_maf_hwe_pca.eigenvec\", header = T, sep=\"\\t\")\n",
    "colnames(temp_covs) <- c(\"FID\", \"IID\", \"PC1\", \"PC2\", \"PC3\", \"PC4\", \"PC5\", \"PC6\", \"PC7\", \"PC8\", \"PC9\", \"PC10\")\n",
    "temp_covs_2 <- read.table(\"./AAO.txt\", header = T, sep=\"\\t\")\n",
    "colnames(temp_covs_2)[2] =\"IID\"\n",
    "covs <- merge(temp_covs, temp_covs_2, by = \"IID\")\n",
    "data <- merge(temp_data, covs, by = \"IID\")\n",
    "data$CASE <- data$PHENO - 1\n",
    "cases <- subset(data, CASE = 1)\n",
    "meanPop <- mean(cases$SCORE)\n",
    "sdPop <- sd(cases$SCORE)\n",
    "cases$zSCORE <- (cases$SCORE - meanPop)/sdPop\n",
    "grsTests <- lm(age_of_onset ~ zSCORE + sex_for_qc + PC1 + PC2 + PC3 + PC4 + PC5 + PC6 + PC7 + PC8 + PC9 + PC10, data = cases)\n",
    "print(\"AFRICANS\")\n",
    "summary(grsTests)\n",
    "\n",
    "library(data.table)\n",
    "temp_data <- read.table(\"PRS_score_release_EUROPEAN.profile\", header = T) \n",
    "temp_covs <- read.table(\"./quality_control/release6/genotype_qc/GP2_release6_NOVEMBER_EAS_maf_hwe_pca.eigenvec\", header = T, sep=\"\\t\")\n",
    "colnames(temp_covs) <- c(\"FID\", \"IID\", \"PC1\", \"PC2\", \"PC3\", \"PC4\", \"PC5\", \"PC6\", \"PC7\", \"PC8\", \"PC9\", \"PC10\")\n",
    "temp_covs_2 <- read.table(\"./AAO.txt\", header = T, sep=\"\\t\")\n",
    "colnames(temp_covs_2)[2] =\"IID\"\n",
    "covs <- merge(temp_covs, temp_covs_2, by = \"IID\")\n",
    "data <- merge(temp_data, covs, by = \"IID\")\n",
    "data$CASE <- data$PHENO - 1\n",
    "cases <- subset(data, CASE = 1)\n",
    "meanPop <- mean(cases$SCORE)\n",
    "sdPop <- sd(cases$SCORE)\n",
    "cases$zSCORE <- (cases$SCORE - meanPop)/sdPop\n",
    "grsTests <- lm(age_of_onset ~ zSCORE + sex_for_qc + PC1 + PC2 + PC3 + PC4 + PC5 + PC6 + PC7 + PC8 + PC9 + PC10, data = cases)\n",
    "print(noquote(\"\"))\n",
    "print(\"EUROPEANS\")\n",
    "summary(grsTests)\n",
    "\n",
    "library(data.table)\n",
    "temp_data <- read.table(\"PRS_score_release_LATINO.profile\", header = T) \n",
    "temp_covs <- read.table(\"./quality_control/release6/genotype_qc/GP2_release6_NOVEMBER_EAS_maf_hwe_pca.eigenvec\", header = T, sep=\"\\t\")\n",
    "colnames(temp_covs) <- c(\"FID\", \"IID\", \"PC1\", \"PC2\", \"PC3\", \"PC4\", \"PC5\", \"PC6\", \"PC7\", \"PC8\", \"PC9\", \"PC10\")\n",
    "temp_covs_2 <- read.table(\"./AAO.txt\", header = T, sep=\"\\t\")\n",
    "colnames(temp_covs_2)[2] =\"IID\"\n",
    "covs <- merge(temp_covs, temp_covs_2, by = \"IID\")\n",
    "data <- merge(temp_data, covs, by = \"IID\")\n",
    "data$CASE <- data$PHENO - 1\n",
    "cases <- subset(data, CASE = 1)\n",
    "meanPop <- mean(cases$SCORE)\n",
    "sdPop <- sd(cases$SCORE)\n",
    "cases$zSCORE <- (cases$SCORE - meanPop)/sdPop\n",
    "grsTests <- lm(age_of_onset ~ zSCORE + sex_for_qc + PC1 + PC2 + PC3 + PC4 + PC5 + PC6 + PC7 + PC8 + PC9 + PC10, data = cases)\n",
    "print(noquote(\"\"))\n",
    "print(\"LATINO\")\n",
    "summary(grsTests)\n",
    "\n",
    "library(data.table)\n",
    "temp_data <- read.table(\"PRS_score_release_EASTASIANS.profile\", header = T) \n",
    "temp_covs <- read.table(\"./quality_control/release6/genotype_qc/GP2_release6_NOVEMBER_EAS_maf_hwe_pca.eigenvec\", header = T, sep=\"\\t\")\n",
    "colnames(temp_covs) <- c(\"FID\", \"IID\", \"PC1\", \"PC2\", \"PC3\", \"PC4\", \"PC5\", \"PC6\", \"PC7\", \"PC8\", \"PC9\", \"PC10\")\n",
    "temp_covs_2 <- read.table(\"./AAO.txt\", header = T, sep=\"\\t\")\n",
    "colnames(temp_covs_2)[2] =\"IID\"\n",
    "covs <- merge(temp_covs, temp_covs_2, by = \"IID\")\n",
    "data <- merge(temp_data, covs, by = \"IID\")\n",
    "data$CASE <- data$PHENO - 1\n",
    "cases <- subset(data, CASE = 1)\n",
    "meanPop <- mean(cases$SCORE)\n",
    "sdPop <- sd(cases$SCORE)\n",
    "cases$zSCORE <- (cases$SCORE - meanPop)/sdPop\n",
    "grsTests <- lm(age_of_onset ~ zSCORE + sex_for_qc + PC1 + PC2 + PC3 + PC4 + PC5 + PC6 + PC7 + PC8 + PC9 + PC10, data = cases)\n",
    "print(noquote(\"\"))\n",
    "print(\"EASTASIANS\")\n",
    "summary(grsTests)   "
   ]
  },
  {
   "cell_type": "code",
   "execution_count": null,
   "id": "d363c55a-fbcb-488c-a64b-6f445511fb11",
   "metadata": {
    "vscode": {
     "languageId": "r"
    }
   },
   "outputs": [],
   "source": [
    "###################################### EUR ###################################### \n",
    "cd ${WORK_DIR}/imputed_data/EUR"
   ]
  },
  {
   "cell_type": "code",
   "execution_count": 19,
   "id": "001bb3ce-30fb-4591-bf07-ff59f559da54",
   "metadata": {
    "vscode": {
     "languageId": "r"
    }
   },
   "outputs": [
    {
     "name": "stdout",
     "output_type": "stream",
     "text": [
      "[1] \"AFRICANS\"\n"
     ]
    },
    {
     "data": {
      "text/plain": [
       "\n",
       "Call:\n",
       "lm(formula = age_of_onset ~ zSCORE + sex_for_qc + PC1 + PC2 + \n",
       "    PC3 + PC4 + PC5 + PC6 + PC7 + PC8 + PC9 + PC10, data = cases)\n",
       "\n",
       "Residuals:\n",
       "    Min      1Q  Median      3Q     Max \n",
       "-53.524  -7.944   1.172   8.743  38.758 \n",
       "\n",
       "Coefficients:\n",
       "            Estimate Std. Error t value Pr(>|t|)    \n",
       "(Intercept)  59.0193     0.4010 147.195  < 2e-16 ***\n",
       "zSCORE       -0.1906     0.1329  -1.435    0.151    \n",
       "sex_for_qc   -0.5534     0.2747  -2.014    0.044 *  \n",
       "PC1         119.1812    20.0552   5.943 2.92e-09 ***\n",
       "PC2         111.2193    28.4676   3.907 9.43e-05 ***\n",
       "PC3         -22.0769    24.6749  -0.895    0.371    \n",
       "PC4          33.0008    26.2830   1.256    0.209    \n",
       "PC5          31.9938    26.8502   1.192    0.233    \n",
       "PC6          23.0071    20.7157   1.111    0.267    \n",
       "PC7          -4.5256    23.6566  -0.191    0.848    \n",
       "PC8          29.1421    24.3743   1.196    0.232    \n",
       "PC9         -14.6407    24.1396  -0.607    0.544    \n",
       "PC10         17.2559    19.2811   0.895    0.371    \n",
       "---\n",
       "Signif. codes:  0 ‘***’ 0.001 ‘**’ 0.01 ‘*’ 0.05 ‘.’ 0.1 ‘ ’ 1\n",
       "\n",
       "Residual standard error: 11.9 on 8013 degrees of freedom\n",
       "  (12809 observations deleted due to missingness)\n",
       "Multiple R-squared:  0.007085,\tAdjusted R-squared:  0.005598 \n",
       "F-statistic: 4.765 on 12 and 8013 DF,  p-value: 7.871e-08\n"
      ]
     },
     "metadata": {},
     "output_type": "display_data"
    },
    {
     "name": "stdout",
     "output_type": "stream",
     "text": [
      "[1] \n",
      "[1] \"EUROPEANS\"\n"
     ]
    },
    {
     "data": {
      "text/plain": [
       "\n",
       "Call:\n",
       "lm(formula = age_of_onset ~ zSCORE + sex_for_qc + PC1 + PC2 + \n",
       "    PC3 + PC4 + PC5 + PC6 + PC7 + PC8 + PC9 + PC10, data = cases)\n",
       "\n",
       "Residuals:\n",
       "    Min      1Q  Median      3Q     Max \n",
       "-54.027  -7.857   1.224   8.695  38.513 \n",
       "\n",
       "Coefficients:\n",
       "            Estimate Std. Error t value Pr(>|t|)    \n",
       "(Intercept)  59.0910     0.4005 147.545  < 2e-16 ***\n",
       "zSCORE       -0.7041     0.1293  -5.447 5.27e-08 ***\n",
       "sex_for_qc   -0.5252     0.2743  -1.915   0.0556 .  \n",
       "PC1         107.8133    20.0043   5.389 7.27e-08 ***\n",
       "PC2         117.3892    28.4389   4.128 3.70e-05 ***\n",
       "PC3         -27.5094    24.6539  -1.116   0.2645    \n",
       "PC4          28.1978    26.2537   1.074   0.2828    \n",
       "PC5          28.4804    26.8103   1.062   0.2881    \n",
       "PC6          20.3063    20.6732   0.982   0.3260    \n",
       "PC7          -3.2560    23.6160  -0.138   0.8903    \n",
       "PC8          28.9575    24.3316   1.190   0.2340    \n",
       "PC9          -8.9726    24.1088  -0.372   0.7098    \n",
       "PC10         11.9904    19.2674   0.622   0.5338    \n",
       "---\n",
       "Signif. codes:  0 ‘***’ 0.001 ‘**’ 0.01 ‘*’ 0.05 ‘.’ 0.1 ‘ ’ 1\n",
       "\n",
       "Residual standard error: 11.88 on 8013 degrees of freedom\n",
       "  (12809 observations deleted due to missingness)\n",
       "Multiple R-squared:  0.01049,\tAdjusted R-squared:  0.009012 \n",
       "F-statistic: 7.082 on 12 and 8013 DF,  p-value: 5.47e-13\n"
      ]
     },
     "metadata": {},
     "output_type": "display_data"
    },
    {
     "name": "stdout",
     "output_type": "stream",
     "text": [
      "[1] \n",
      "[1] \"LATINO\"\n"
     ]
    },
    {
     "data": {
      "text/plain": [
       "\n",
       "Call:\n",
       "lm(formula = age_of_onset ~ zSCORE + sex_for_qc + PC1 + PC2 + \n",
       "    PC3 + PC4 + PC5 + PC6 + PC7 + PC8 + PC9 + PC10, data = cases)\n",
       "\n",
       "Residuals:\n",
       "    Min      1Q  Median      3Q     Max \n",
       "-53.802  -7.956   1.288   8.730  38.635 \n",
       "\n",
       "Coefficients:\n",
       "            Estimate Std. Error t value Pr(>|t|)    \n",
       "(Intercept)  59.0284     0.4010 147.204  < 2e-16 ***\n",
       "zSCORE       -0.2176     0.1337  -1.628 0.103512    \n",
       "sex_for_qc   -0.5519     0.2747  -2.009 0.044574 *  \n",
       "PC1         116.2454    19.9740   5.820 6.12e-09 ***\n",
       "PC2         109.4165    28.4939   3.840 0.000124 ***\n",
       "PC3         -21.3912    24.6750  -0.867 0.386013    \n",
       "PC4          33.5462    26.2801   1.276 0.201820    \n",
       "PC5          31.9805    26.8491   1.191 0.233641    \n",
       "PC6          21.8303    20.7061   1.054 0.291780    \n",
       "PC7          -4.1444    23.6552  -0.175 0.860928    \n",
       "PC8          28.8631    24.3726   1.184 0.236351    \n",
       "PC9         -14.2007    24.1335  -0.588 0.556265    \n",
       "PC10         17.4052    19.2813   0.903 0.366715    \n",
       "---\n",
       "Signif. codes:  0 ‘***’ 0.001 ‘**’ 0.01 ‘*’ 0.05 ‘.’ 0.1 ‘ ’ 1\n",
       "\n",
       "Residual standard error: 11.9 on 8013 degrees of freedom\n",
       "  (12809 observations deleted due to missingness)\n",
       "Multiple R-squared:  0.007158,\tAdjusted R-squared:  0.005672 \n",
       "F-statistic: 4.815 on 12 and 8013 DF,  p-value: 6.15e-08\n"
      ]
     },
     "metadata": {},
     "output_type": "display_data"
    },
    {
     "name": "stdout",
     "output_type": "stream",
     "text": [
      "[1] \n",
      "[1] \"EASTASIANS\"\n"
     ]
    },
    {
     "data": {
      "text/plain": [
       "\n",
       "Call:\n",
       "lm(formula = age_of_onset ~ zSCORE + sex_for_qc + PC1 + PC2 + \n",
       "    PC3 + PC4 + PC5 + PC6 + PC7 + PC8 + PC9 + PC10, data = cases)\n",
       "\n",
       "Residuals:\n",
       "    Min      1Q  Median      3Q     Max \n",
       "-53.677  -7.839   1.250   8.732  37.386 \n",
       "\n",
       "Coefficients:\n",
       "            Estimate Std. Error t value Pr(>|t|)    \n",
       "(Intercept)  59.1076     0.4005 147.593  < 2e-16 ***\n",
       "zSCORE       -0.7776     0.1345  -5.782 7.67e-09 ***\n",
       "sex_for_qc   -0.5570     0.2742  -2.032 0.042210 *  \n",
       "PC1         120.2250    19.9446   6.028 1.73e-09 ***\n",
       "PC2         110.3070    28.4122   3.882 0.000104 ***\n",
       "PC3         -25.1965    24.6330  -1.023 0.306397    \n",
       "PC4          33.5213    26.2298   1.278 0.201291    \n",
       "PC5          32.9554    26.7981   1.230 0.218821    \n",
       "PC6          24.0024    20.6684   1.161 0.245551    \n",
       "PC7          -4.9863    23.6101  -0.211 0.832740    \n",
       "PC8          28.3831    24.3261   1.167 0.243335    \n",
       "PC9         -15.3837    24.0879  -0.639 0.523069    \n",
       "PC10         20.5953    19.2525   1.070 0.284767    \n",
       "---\n",
       "Signif. codes:  0 ‘***’ 0.001 ‘**’ 0.01 ‘*’ 0.05 ‘.’ 0.1 ‘ ’ 1\n",
       "\n",
       "Residual standard error: 11.88 on 8013 degrees of freedom\n",
       "  (12809 observations deleted due to missingness)\n",
       "Multiple R-squared:  0.01096,\tAdjusted R-squared:  0.009475 \n",
       "F-statistic: 7.397 on 12 and 8013 DF,  p-value: 1.038e-13\n"
      ]
     },
     "metadata": {},
     "output_type": "display_data"
    }
   ],
   "source": [
    "library(data.table)\n",
    "setwd(\"./imputed_data/EUR/\")\n",
    "temp_data <- read.table(\"PRS_score_release_AFRICANS.profile\", header = T) \n",
    "temp_covs <- read.table(\"./quality_control/release6/genotype_qc/GP2_release6_NOVEMBER_EUR_maf_hwe_pca.eigenvec\", header = T, sep=\"\\t\")\n",
    "colnames(temp_covs) <- c(\"FID\", \"IID\", \"PC1\", \"PC2\", \"PC3\", \"PC4\", \"PC5\", \"PC6\", \"PC7\", \"PC8\", \"PC9\", \"PC10\")\n",
    "temp_covs_2 <- read.table(\"./AAO.txt\", header = T, sep=\"\\t\")\n",
    "colnames(temp_covs_2)[2] =\"IID\"\n",
    "covs <- merge(temp_covs, temp_covs_2, by = \"IID\")\n",
    "data <- merge(temp_data, covs, by = \"IID\")\n",
    "data$CASE <- data$PHENO - 1\n",
    "cases <- subset(data, CASE = 1)\n",
    "meanPop <- mean(cases$SCORE)\n",
    "sdPop <- sd(cases$SCORE)\n",
    "cases$zSCORE <- (cases$SCORE - meanPop)/sdPop\n",
    "grsTests <- lm(age_of_onset ~ zSCORE + sex_for_qc + PC1 + PC2 + PC3 + PC4 + PC5 + PC6 + PC7 + PC8 + PC9 + PC10, data = cases)\n",
    "print(\"AFRICANS\")\n",
    "summary(grsTests)\n",
    "\n",
    "library(data.table)\n",
    "temp_data <- read.table(\"PRS_score_release_EUROPEAN.profile\", header = T) \n",
    "temp_covs <- read.table(\"./quality_control/release6/genotype_qc/GP2_release6_NOVEMBER_EUR_maf_hwe_pca.eigenvec\", header = T, sep=\"\\t\")\n",
    "colnames(temp_covs) <- c(\"FID\", \"IID\", \"PC1\", \"PC2\", \"PC3\", \"PC4\", \"PC5\", \"PC6\", \"PC7\", \"PC8\", \"PC9\", \"PC10\")\n",
    "temp_covs_2 <- read.table(\"./AAO.txt\", header = T, sep=\"\\t\")\n",
    "colnames(temp_covs_2)[2] =\"IID\"\n",
    "covs <- merge(temp_covs, temp_covs_2, by = \"IID\")\n",
    "data <- merge(temp_data, covs, by = \"IID\")\n",
    "data$CASE <- data$PHENO - 1\n",
    "cases <- subset(data, CASE = 1)\n",
    "meanPop <- mean(cases$SCORE)\n",
    "sdPop <- sd(cases$SCORE)\n",
    "cases$zSCORE <- (cases$SCORE - meanPop)/sdPop\n",
    "grsTests <- lm(age_of_onset ~ zSCORE + sex_for_qc + PC1 + PC2 + PC3 + PC4 + PC5 + PC6 + PC7 + PC8 + PC9 + PC10, data = cases)\n",
    "print(noquote(\"\"))\n",
    "print(\"EUROPEANS\")\n",
    "summary(grsTests)\n",
    "\n",
    "library(data.table)\n",
    "temp_data <- read.table(\"PRS_score_release_LATINO.profile\", header = T) \n",
    "temp_covs <- read.table(\"./quality_control/release6/genotype_qc/GP2_release6_NOVEMBER_EUR_maf_hwe_pca.eigenvec\", header = T, sep=\"\\t\")\n",
    "colnames(temp_covs) <- c(\"FID\", \"IID\", \"PC1\", \"PC2\", \"PC3\", \"PC4\", \"PC5\", \"PC6\", \"PC7\", \"PC8\", \"PC9\", \"PC10\")\n",
    "temp_covs_2 <- read.table(\"./AAO.txt\", header = T, sep=\"\\t\")\n",
    "colnames(temp_covs_2)[2] =\"IID\"\n",
    "covs <- merge(temp_covs, temp_covs_2, by = \"IID\")\n",
    "data <- merge(temp_data, covs, by = \"IID\")\n",
    "data$CASE <- data$PHENO - 1\n",
    "cases <- subset(data, CASE = 1)\n",
    "meanPop <- mean(cases$SCORE)\n",
    "sdPop <- sd(cases$SCORE)\n",
    "cases$zSCORE <- (cases$SCORE - meanPop)/sdPop\n",
    "grsTests <- lm(age_of_onset ~ zSCORE + sex_for_qc + PC1 + PC2 + PC3 + PC4 + PC5 + PC6 + PC7 + PC8 + PC9 + PC10, data = cases)\n",
    "print(noquote(\"\"))\n",
    "print(\"LATINO\")\n",
    "summary(grsTests)\n",
    "\n",
    "library(data.table)\n",
    "temp_data <- read.table(\"PRS_score_release_EASTASIANS.profile\", header = T) \n",
    "temp_covs <- read.table(\"./quality_control/release6/genotype_qc/GP2_release6_NOVEMBER_EUR_maf_hwe_pca.eigenvec\", header = T, sep=\"\\t\")\n",
    "colnames(temp_covs) <- c(\"FID\", \"IID\", \"PC1\", \"PC2\", \"PC3\", \"PC4\", \"PC5\", \"PC6\", \"PC7\", \"PC8\", \"PC9\", \"PC10\")\n",
    "temp_covs_2 <- read.table(\"./AAO.txt\", header = T, sep=\"\\t\")\n",
    "colnames(temp_covs_2)[2] =\"IID\"\n",
    "covs <- merge(temp_covs, temp_covs_2, by = \"IID\")\n",
    "data <- merge(temp_data, covs, by = \"IID\")\n",
    "data$CASE <- data$PHENO - 1\n",
    "cases <- subset(data, CASE = 1)\n",
    "meanPop <- mean(cases$SCORE)\n",
    "sdPop <- sd(cases$SCORE)\n",
    "cases$zSCORE <- (cases$SCORE - meanPop)/sdPop\n",
    "grsTests <- lm(age_of_onset ~ zSCORE + sex_for_qc + PC1 + PC2 + PC3 + PC4 + PC5 + PC6 + PC7 + PC8 + PC9 + PC10, data = cases)\n",
    "print(noquote(\"\"))\n",
    "print(\"EASTASIANS\")\n",
    "summary(grsTests)"
   ]
  }
 ],
 "metadata": {
  "kernelspec": {
   "display_name": "R/4.2",
   "language": "R",
   "name": "ir42"
  },
  "language_info": {
   "codemirror_mode": "r",
   "file_extension": ".r",
   "mimetype": "text/x-r-source",
   "name": "R",
   "pygments_lexer": "r",
   "version": "4.2.2"
  }
 },
 "nbformat": 4,
 "nbformat_minor": 5
}
